{
 "cells": [
  {
   "cell_type": "code",
   "execution_count": null,
   "id": "14cb8e0a",
   "metadata": {},
   "outputs": [],
   "source": [
    "import csv\n",
    "import json\n",
    "import logging\n",
    "import pandas as pd\n",
    "import requests\n",
    "from github import Github\n",
    "from github.GithubException import GithubException"
   ]
  },
  {
   "cell_type": "code",
   "execution_count": null,
   "id": "c61764f6",
   "metadata": {},
   "outputs": [],
   "source": [
    "GITHUB_TOKEN = \"\"\n",
    "g = Github(GITHUB_TOKEN)"
   ]
  },
  {
   "cell_type": "code",
   "execution_count": null,
   "id": "7cf70d73",
   "metadata": {},
   "outputs": [],
   "source": [
    "df = pd.read_excel(\"dropped_duplicates_pr.xlsx\")\n",
    "df.head(3)"
   ]
  },
  {
   "cell_type": "code",
   "execution_count": null,
   "id": "fe767ecf",
   "metadata": {},
   "outputs": [],
   "source": [
    "len(df)"
   ]
  },
  {
   "cell_type": "code",
   "execution_count": null,
   "id": "ed01273b",
   "metadata": {},
   "outputs": [],
   "source": [
    "df_first = df[df['round_id'] == 0]\n",
    "len(df_first)"
   ]
  },
  {
   "cell_type": "code",
   "execution_count": null,
   "id": "1209c636",
   "metadata": {},
   "outputs": [],
   "source": [
    "df_first.to_excel(\"df_first_pr.xlsx\", engine = \"openpyxl\", index=False)"
   ]
  },
  {
   "cell_type": "code",
   "execution_count": null,
   "id": "57e3a198",
   "metadata": {},
   "outputs": [],
   "source": [
    "#manual removing non-english and 404 items. "
   ]
  },
  {
   "cell_type": "code",
   "execution_count": null,
   "id": "5ae52d24",
   "metadata": {},
   "outputs": [],
   "source": [
    "df_first = pd.read_excel(\"df_first_pr_english_only.xlsx\")\n",
    "len(df_first)"
   ]
  },
  {
   "cell_type": "code",
   "execution_count": null,
   "id": "2a293f71",
   "metadata": {},
   "outputs": [],
   "source": [
    "df_first_no_404 = pd.read_excel(\"df_first_pr_english_only_non_404.xlsx\")\n",
    "len(df_first_no_404)"
   ]
  },
  {
   "cell_type": "code",
   "execution_count": null,
   "id": "67489633",
   "metadata": {},
   "outputs": [],
   "source": [
    "pr_num_participants = []"
   ]
  },
  {
   "cell_type": "code",
   "execution_count": null,
   "id": "e02fb0ca",
   "metadata": {},
   "outputs": [],
   "source": [
    "def get_pr_participants(repo_name, pull_number):\n",
    "    #pr_num_participants = []\n",
    "    try:\n",
    "        repo = g.get_repo(f\"{repo_name}\")\n",
    "        #print(\"here\")\n",
    "        # Get the pull request\n",
    "        pull_request = repo.get_pull(pull_number)\n",
    "        #print(\"here\")\n",
    "        # Get comments from the PR\n",
    "        comments = pull_request.get_issue_comments()\n",
    "        #print(\"here\")\n",
    "        # Get reviews from the PR\n",
    "        reviews = pull_request.get_reviews()\n",
    "        #print(\"here\")\n",
    "        # Extract unique user logins from comments and reviews\n",
    "        user_logins = set()\n",
    "        for comment in comments:\n",
    "            user_logins.add(comment.user.login)\n",
    "        #for review in reviews:\n",
    "            #user_logins.add(review.user.login)\n",
    "        # The number of unique participants\n",
    "        number_of_participants = len(user_logins)\n",
    "        #print(len(user_logins))\n",
    "    except GithubException as e:\n",
    "        if e.status == 404:\n",
    "            # Handle the 404 error by appending a placeholder\n",
    "            number_of_participants = -1\n",
    "        elif e.status == 403:\n",
    "            number_of_participants = -1\n",
    "        else:\n",
    "            number_of_participants = -1\n",
    "\n",
    "    pr_num_participants.append(number_of_participants)\n"
   ]
  },
  {
   "cell_type": "code",
   "execution_count": null,
   "id": "53c55f26",
   "metadata": {},
   "outputs": [],
   "source": [
    "for _, row in df_first_no_404.iterrows():\n",
    "    repo_name = row['RepoName']\n",
    "    pull_number = row['PullNumber']\n",
    "    get_pr_participants(repo_name, pull_number)"
   ]
  },
  {
   "cell_type": "code",
   "execution_count": null,
   "id": "6f1cf4d4",
   "metadata": {},
   "outputs": [],
   "source": [
    "len(pr_num_participants)"
   ]
  },
  {
   "cell_type": "code",
   "execution_count": null,
   "id": "746cf415",
   "metadata": {},
   "outputs": [],
   "source": [
    "pr_num_participants[109]"
   ]
  },
  {
   "cell_type": "code",
   "execution_count": null,
   "id": "b1c0348d",
   "metadata": {},
   "outputs": [],
   "source": [
    "pr_df =pd.DataFrame(pr_num_participants, columns=['num_participants'])\n",
    "pr_df"
   ]
  },
  {
   "cell_type": "code",
   "execution_count": null,
   "id": "0c8f0494",
   "metadata": {},
   "outputs": [],
   "source": [
    "df_first_no_404[\"num_participants\"] = pr_num_participants\n",
    "df_first_no_404"
   ]
  },
  {
   "cell_type": "code",
   "execution_count": null,
   "id": "58dd47bd",
   "metadata": {},
   "outputs": [],
   "source": [
    "df_first[\"MentionedProperty\"].value_counts()"
   ]
  },
  {
   "cell_type": "code",
   "execution_count": null,
   "id": "14567036",
   "metadata": {},
   "outputs": [],
   "source": [
    "pr_df.value_counts()"
   ]
  },
  {
   "cell_type": "code",
   "execution_count": null,
   "id": "a19d549f",
   "metadata": {},
   "outputs": [],
   "source": [
    "average = pr_df.mean()\n",
    "print(average)"
   ]
  },
  {
   "cell_type": "code",
   "execution_count": null,
   "id": "508e968c",
   "metadata": {},
   "outputs": [],
   "source": [
    "std_dev = pr_df.std()\n",
    "print(std_dev)"
   ]
  },
  {
   "cell_type": "code",
   "execution_count": null,
   "id": "0e127151",
   "metadata": {},
   "outputs": [],
   "source": [
    "df_first_no_404.to_excel(\"rq1_pr_english_only_no_404.xlsx\", engine='openpyxl', index=False)"
   ]
  }
 ],
 "metadata": {
  "kernelspec": {
   "display_name": "Python [conda env:pythonenv]",
   "language": "python",
   "name": "conda-env-pythonenv-py"
  },
  "language_info": {
   "codemirror_mode": {
    "name": "ipython",
    "version": 3
   },
   "file_extension": ".py",
   "mimetype": "text/x-python",
   "name": "python",
   "nbconvert_exporter": "python",
   "pygments_lexer": "ipython3",
   "version": "3.10.13"
  }
 },
 "nbformat": 4,
 "nbformat_minor": 5
}
