{
 "cells": [
  {
   "cell_type": "code",
   "execution_count": null,
   "id": "86d85868",
   "metadata": {},
   "outputs": [],
   "source": [
    "import matplotlib.pyplot as plt\n",
    "import json\n",
    "import pandas as pd\n",
    "from collections import Counter\n",
    "from lingua import LanguageDetectorBuilder, Language\n",
    "from tqdm.auto import tqdm\n",
    "import random\n",
    "import numpy as np"
   ]
  },
  {
   "cell_type": "code",
   "execution_count": null,
   "id": "885004e6",
   "metadata": {},
   "outputs": [],
   "source": [
    "f = open(\".../20231012_233628_pr_sharings.json\")\n",
    "data = json.loads(f.read())\n",
    "f.close()"
   ]
  },
  {
   "cell_type": "code",
   "execution_count": null,
   "id": "092378b7",
   "metadata": {},
   "outputs": [],
   "source": [
    "urls = []\n",
    "repo_names = []\n",
    "pull_numbers = []\n",
    "commits_numbers = []"
   ]
  },
  {
   "cell_type": "code",
   "execution_count": null,
   "id": "7625f7e5",
   "metadata": {},
   "outputs": [],
   "source": [
    "comment_urls = []\n",
    "states = []"
   ]
  },
  {
   "cell_type": "code",
   "execution_count": null,
   "id": "baf74ca4",
   "metadata": {},
   "outputs": [],
   "source": [
    "mentioned_property = []\n",
    "mentioned_text = []"
   ]
  },
  {
   "cell_type": "code",
   "execution_count": null,
   "id": "bb63bf4c",
   "metadata": {},
   "outputs": [],
   "source": [
    "def generate_documents(data):\n",
    "    conversation_id = 0\n",
    "    first_prompts = []\n",
    "    first_answers = []\n",
    "    chat_id = 0\n",
    "    for entry in data[\"Sources\"]:\n",
    "        for sharedLink in entry[\"ChatgptSharing\"]:\n",
    "            if sharedLink.get(\"Conversations\"):\n",
    "                chat_id+=1\n",
    "                conversation_id = 0\n",
    "                for conversation in sharedLink[\"Conversations\"]:\n",
    "                    first_prompts.append({\"chat_id\" : chat_id, \"round_id\" : conversation_id, \"prompt\" : conversation[\"Prompt\"]})\n",
    "                    first_answers.append({\"answer\" : conversation[\"Answer\"]})\n",
    "                    urls.append({\"Url\" : entry.get(\"URL\")})\n",
    "                    comment_urls.append({\"comment_url\" : sharedLink.get(\"Mention\").get(\"MentionedURL\", \"N/A\")})\n",
    "                    mentioned_property.append({\"MentionedProperty\" : sharedLink.get(\"Mention\").get(\"MentionedProperty\", \"N/A\")})\n",
    "                    states.append({\"states\" : entry.get(\"State\", \"N/A\")})\n",
    "                    repo_names.append({\"RepoName\" : entry.get(\"RepoName\")})\n",
    "                    pull_numbers.append({\"PullNumber\" : entry.get(\"Number\")})\n",
    "                    commits_numbers.append({\"CommitsNumber\" : entry.get(\"CommitsTotalCount\")})\n",
    "                    mentioned_text.append({\"MentionedText\" : sharedLink.get(\"Mention\").get(\"MentionedText\", \"N/A\")})\n",
    "                    conversation_id+=1\n",
    "    df = pd.DataFrame(first_prompts).join(pd.DataFrame(first_answers)).reset_index(drop=True)\n",
    "    df = df.join(pd.DataFrame(states))\n",
    "    df = df.join(pd.DataFrame(urls))\n",
    "    df = df.join(pd.DataFrame(comment_urls))\n",
    "    df = df.join(pd.DataFrame(mentioned_property))\n",
    "    df = df.join(pd.DataFrame(mentioned_text))\n",
    "    df = df.join(pd.DataFrame(repo_names))\n",
    "    df = df.join(pd.DataFrame(pull_numbers))\n",
    "    df = df.join(pd.DataFrame(commits_numbers))\n",
    "    return df"
   ]
  },
  {
   "cell_type": "code",
   "execution_count": null,
   "id": "57d40b65",
   "metadata": {},
   "outputs": [],
   "source": [
    "df = generate_documents(data)\n",
    "df.head(10)"
   ]
  },
  {
   "cell_type": "code",
   "execution_count": null,
   "id": "2cbcfc4b",
   "metadata": {},
   "outputs": [],
   "source": [
    "len(df.groupby(\"chat_id\"))"
   ]
  },
  {
   "cell_type": "code",
   "execution_count": null,
   "id": "72242321",
   "metadata": {},
   "outputs": [],
   "source": [
    "len(df)"
   ]
  },
  {
   "cell_type": "code",
   "execution_count": null,
   "id": "9be3f46e",
   "metadata": {},
   "outputs": [],
   "source": [
    "#Detect lang https://github.com/pemistahl/lingua-py\n",
    "def landetec(df):\n",
    "    detector = LanguageDetectorBuilder.from_all_spoken_languages().build()\n",
    "    rt_groups = []\n",
    "\n",
    "    for name, group in df.groupby(\"chat_id\"):\n",
    "        counter = 0\n",
    "        not_english_chats_ids = []\n",
    "        for index, row in group.iterrows():\n",
    "            lang = detector.detect_language_of(row[\"prompt\"])\n",
    "            if lang != Language.ENGLISH:\n",
    "                counter+=1\n",
    "    #         if row[\"prompt\"].strip() in sample[\"Prompt\"].tolist():\n",
    "    #             counter += 1\n",
    "        #some of the rounds are not in english\n",
    "        if counter == 0:\n",
    "            rt_groups.append(group)\n",
    "    #Filter out chats that are not in english\n",
    "    df_langfiltered = pd.concat(rt_groups)\n",
    "    return df_langfiltered"
   ]
  },
  {
   "cell_type": "code",
   "execution_count": null,
   "id": "33c642eb",
   "metadata": {},
   "outputs": [],
   "source": [
    "#pr\n",
    "df_langfiltered = landetec(df)\n",
    "df_langfiltered.head()"
   ]
  },
  {
   "cell_type": "code",
   "execution_count": null,
   "id": "fb7779d2",
   "metadata": {},
   "outputs": [],
   "source": [
    "len(df_langfiltered.groupby(\"chat_id\"))"
   ]
  },
  {
   "cell_type": "code",
   "execution_count": null,
   "id": "91c4d253",
   "metadata": {},
   "outputs": [],
   "source": [
    "len(df_langfiltered)"
   ]
  },
  {
   "cell_type": "code",
   "execution_count": null,
   "id": "c4909784",
   "metadata": {},
   "outputs": [],
   "source": [
    "df_langfiltered.to_csv(\"df_langfiltered.csv\", encoding = 'utf-8', index = False)"
   ]
  },
  {
   "cell_type": "code",
   "execution_count": null,
   "id": "cecfd591",
   "metadata": {},
   "outputs": [],
   "source": [
    "#df_langfiltered\n",
    "dropped_duplicates_df_langfiltered = df_langfiltered.drop_duplicates(subset='prompt')\n",
    "len(dropped_duplicates_df_langfiltered)"
   ]
  },
  {
   "cell_type": "code",
   "execution_count": null,
   "id": "533b0c1c",
   "metadata": {},
   "outputs": [],
   "source": [
    "len(dropped_duplicates_df_langfiltered.groupby(\"chat_id\"))"
   ]
  },
  {
   "cell_type": "code",
   "execution_count": null,
   "id": "a66fdd86",
   "metadata": {},
   "outputs": [],
   "source": [
    "dropped_duplicates_df_langfiltered.to_csv(\"dropped_duplicates_pr.csv\", encoding = \"utf-8\", index=False)"
   ]
  },
  {
   "cell_type": "code",
   "execution_count": null,
   "id": "e596afc7",
   "metadata": {},
   "outputs": [],
   "source": [
    "dropped_duplicates_df_langfiltered.to_excel(\"dropped_duplicates_pr.xlsx\", engine = \"openpyxl\", index=False)"
   ]
  }
 ],
 "metadata": {
  "kernelspec": {
   "display_name": "Python [conda env:pythonenv]",
   "language": "python",
   "name": "conda-env-pythonenv-py"
  },
  "language_info": {
   "codemirror_mode": {
    "name": "ipython",
    "version": 3
   },
   "file_extension": ".py",
   "mimetype": "text/x-python",
   "name": "python",
   "nbconvert_exporter": "python",
   "pygments_lexer": "ipython3",
   "version": "3.10.13"
  }
 },
 "nbformat": 4,
 "nbformat_minor": 5
}
