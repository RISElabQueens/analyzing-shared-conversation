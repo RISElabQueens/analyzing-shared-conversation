{
 "cells": [
  {
   "cell_type": "code",
   "execution_count": null,
   "id": "f7bd9a2e",
   "metadata": {},
   "outputs": [],
   "source": [
    "import csv\n",
    "import json\n",
    "import logging\n",
    "import pandas as pd\n",
    "import requests\n",
    "import re\n",
    "from github import Github\n",
    "from github.GithubException import GithubException"
   ]
  },
  {
   "cell_type": "markdown",
   "id": "6491b356",
   "metadata": {},
   "source": [
    "RQ1 When do developer share the conversation links? Which part of PR timeline?\n",
    "Note: In the paper, we reported our findings of recent events, in one of the 7 events: commented, PR created, review requested, ready for review, merged, closed, review request removed. In the following code, these 7 events are identified as \"recent event group\". Please refer to the \"recent_event_group\" column in the dfs."
   ]
  },
  {
   "cell_type": "code",
   "execution_count": null,
   "id": "e76eeb8f",
   "metadata": {},
   "outputs": [],
   "source": [
    "GITHUB_TOKEN = \"\"\n",
    "g = Github(GITHUB_TOKEN)"
   ]
  },
  {
   "cell_type": "code",
   "execution_count": null,
   "id": "f15ca0a5",
   "metadata": {},
   "outputs": [],
   "source": [
    "df = pd.read_excel(\"rq1_pr_english_only_no_404.xlsx\")\n",
    "len(df)"
   ]
  },
  {
   "cell_type": "code",
   "execution_count": null,
   "id": "6cf44107",
   "metadata": {},
   "outputs": [],
   "source": [
    "df.head(10)"
   ]
  },
  {
   "cell_type": "code",
   "execution_count": null,
   "id": "b327841e",
   "metadata": {},
   "outputs": [],
   "source": [
    "df_comments = df[df[\"MentionedProperty\"] == \"comments.body\"]\n",
    "len(df_comments)"
   ]
  },
  {
   "cell_type": "code",
   "execution_count": null,
   "id": "3b80bad5",
   "metadata": {},
   "outputs": [],
   "source": [
    "df_reviews = df[df[\"MentionedProperty\"] == \"reviews.body\"]\n",
    "len(df_reviews)"
   ]
  },
  {
   "cell_type": "code",
   "execution_count": null,
   "id": "04b3592d",
   "metadata": {},
   "outputs": [],
   "source": [
    "df_body = df[df[\"MentionedProperty\"] == \"body\"]\n",
    "len(df_body)"
   ]
  },
  {
   "cell_type": "code",
   "execution_count": null,
   "id": "3857ac68",
   "metadata": {},
   "outputs": [],
   "source": [
    "def extract_comment_id(url):\n",
    "    match = re.search(r'#issuecomment-(\\d+)', url)\n",
    "    return match.group(1) if match else None"
   ]
  },
  {
   "cell_type": "code",
   "execution_count": null,
   "id": "52f2aecf",
   "metadata": {},
   "outputs": [],
   "source": [
    "comment_ids = []\n",
    "for _, row in df_comments.iterrows():\n",
    "    comment_id = extract_comment_id(row[\"comment_url\"])\n",
    "    comment_ids.append(comment_id)"
   ]
  },
  {
   "cell_type": "code",
   "execution_count": null,
   "id": "3bd861ba",
   "metadata": {},
   "outputs": [],
   "source": [
    "df_comments[\"comment_ids\"] = comment_ids"
   ]
  },
  {
   "cell_type": "code",
   "execution_count": null,
   "id": "f6c2cc9d",
   "metadata": {},
   "outputs": [],
   "source": [
    "pr_comments_creation_time = []\n",
    "def get_pr_comment_creation(repo_name, pull_number, comment_id):\n",
    "    try:\n",
    "        repo = g.get_repo(f\"{repo_name}\")\n",
    "        #print(\"here\")\n",
    "        pull_request = repo.get_pull(pull_number)\n",
    "        #print(\"here\")\n",
    "        comment = pull_request.get_issue_comment(comment_id)\n",
    "        #print(\"here\")\n",
    "        pr_comments_creation_time.append(comment.created_at)\n",
    "            \n",
    "    except GithubException as e:\n",
    "        if e.status == 404:\n",
    "            # Handle the 404 error by appending a placeholder\n",
    "            pr_comments_creation_time.append(\"None\")\n",
    "            print(\"error\")"
   ]
  },
  {
   "cell_type": "code",
   "execution_count": null,
   "id": "b85e06a6",
   "metadata": {},
   "outputs": [],
   "source": [
    "get_pr_comment_creation(\"rom-py/rompy\", 40, 1742286490)\n",
    "pr_comments_creation_time"
   ]
  },
  {
   "cell_type": "code",
   "execution_count": null,
   "id": "5af53a0e",
   "metadata": {},
   "outputs": [],
   "source": [
    "for _, row in df_comments.iterrows():\n",
    "    get_pr_comment_creation(row[\"RepoName\"], int(row[\"PullNumber\"]), int(row[\"comment_ids\"]))"
   ]
  },
  {
   "cell_type": "code",
   "execution_count": null,
   "id": "33fa5028",
   "metadata": {},
   "outputs": [],
   "source": [
    "len(pr_comments_creation_time)"
   ]
  },
  {
   "cell_type": "code",
   "execution_count": null,
   "id": "be3e7bfc",
   "metadata": {},
   "outputs": [],
   "source": [
    "df_comments[\"creation_time\"] = pr_comments_creation_time"
   ]
  },
  {
   "cell_type": "code",
   "execution_count": null,
   "id": "2f9e810b",
   "metadata": {},
   "outputs": [],
   "source": [
    "def extract_review_id(url):\n",
    "    match = re.search(r'#discussion_r(\\d+)', url)\n",
    "    return match.group(1) if match else None"
   ]
  },
  {
   "cell_type": "code",
   "execution_count": null,
   "id": "a5c6d80e",
   "metadata": {},
   "outputs": [],
   "source": [
    "review_ids = []\n",
    "for _, row in df_reviews.iterrows():\n",
    "    review_id = extract_review_id(row[\"comment_url\"])\n",
    "    review_ids.append(review_id)"
   ]
  },
  {
   "cell_type": "code",
   "execution_count": null,
   "id": "b6f483db",
   "metadata": {},
   "outputs": [],
   "source": [
    "df_reviews[\"comment_ids\"] = review_ids"
   ]
  },
  {
   "cell_type": "code",
   "execution_count": null,
   "id": "c0c3563e",
   "metadata": {},
   "outputs": [],
   "source": [
    "review_comments_creation_time = []\n",
    "def get_pr_comment_creation(repo_name, pull_number, comment_id):\n",
    "    try:\n",
    "        repo = g.get_repo(f\"{repo_name}\")\n",
    "        #print(\"here\")\n",
    "        pull_request = repo.get_pull(pull_number)\n",
    "        #print(\"here\")\n",
    "        comment = pull_request.get_review_comment(comment_id)\n",
    "        #print(\"here\")\n",
    "        review_comments_creation_time.append(comment.created_at)\n",
    "            \n",
    "    except GithubException as e:\n",
    "        if e.status == 404:\n",
    "            # Handle the 404 error by appending a placeholder\n",
    "            review_comments_creation_time.append(\"None\")\n",
    "            print(\"error\")"
   ]
  },
  {
   "cell_type": "code",
   "execution_count": null,
   "id": "2d50e1eb",
   "metadata": {},
   "outputs": [],
   "source": [
    "for _, row in df_reviews.iterrows():\n",
    "    #print(row[\"RepoName\"])\n",
    "    #print(int(row[\"PullNumber\"]))\n",
    "    #print(int(row[\"comment_ids\"]))\n",
    "    get_pr_comment_creation(row[\"RepoName\"], int(row[\"PullNumber\"]), int(row[\"comment_ids\"]))"
   ]
  },
  {
   "cell_type": "code",
   "execution_count": null,
   "id": "b6ce2749",
   "metadata": {},
   "outputs": [],
   "source": [
    "len(review_comments_creation_time)"
   ]
  },
  {
   "cell_type": "code",
   "execution_count": null,
   "id": "a4d27aa1",
   "metadata": {},
   "outputs": [],
   "source": [
    "df_reviews[\"creation_time\"] = review_comments_creation_time"
   ]
  },
  {
   "cell_type": "code",
   "execution_count": null,
   "id": "1b78da39",
   "metadata": {},
   "outputs": [],
   "source": [
    "pr_body_creation_time = []\n",
    "def get_pr_comment_creation(repo_name, pull_number):\n",
    "    try:\n",
    "        repo = g.get_repo(f\"{repo_name}\")\n",
    "        #print(\"here\")\n",
    "        pull_request = repo.get_pull(pull_number)\n",
    "        #print(\"here\")\n",
    "        pr_body_creation_time.append(pull_request.created_at)\n",
    "            \n",
    "    except GithubException as e:\n",
    "        if e.status == 404:\n",
    "            # Handle the 404 error by appending a placeholder\n",
    "            pr_body_creation_time.append(\"None\")\n",
    "            print(\"error\")"
   ]
  },
  {
   "cell_type": "code",
   "execution_count": null,
   "id": "98aaffba",
   "metadata": {},
   "outputs": [],
   "source": [
    "for _, row in df_body.iterrows():\n",
    "    #print(row[\"RepoName\"])\n",
    "    #print(int(row[\"PullNumber\"]))\n",
    "    get_pr_comment_creation(row[\"RepoName\"], int(row[\"PullNumber\"]))"
   ]
  },
  {
   "cell_type": "code",
   "execution_count": null,
   "id": "ffa242df",
   "metadata": {},
   "outputs": [],
   "source": [
    "len(pr_body_creation_time)"
   ]
  },
  {
   "cell_type": "code",
   "execution_count": null,
   "id": "5213160a",
   "metadata": {},
   "outputs": [],
   "source": [
    "df_body[\"creation_time\"] = pr_body_creation_time"
   ]
  },
  {
   "cell_type": "code",
   "execution_count": null,
   "id": "14be836c",
   "metadata": {},
   "outputs": [],
   "source": [
    "creation_times = []\n",
    "creation_times = pr_comments_creation_time + review_comments_creation_time + pr_body_creation_time\n",
    "len(creation_times)"
   ]
  },
  {
   "cell_type": "code",
   "execution_count": null,
   "id": "e60806c3",
   "metadata": {},
   "outputs": [],
   "source": [
    "df_with_creation_time = pd.concat([df_comments, df_reviews, df_body], ignore_index=True)\n",
    "len(df_with_creation_time)"
   ]
  },
  {
   "cell_type": "code",
   "execution_count": null,
   "id": "b7dcf623",
   "metadata": {},
   "outputs": [],
   "source": [
    "df_with_creation_time"
   ]
  },
  {
   "cell_type": "code",
   "execution_count": null,
   "id": "b0e8b095",
   "metadata": {},
   "outputs": [],
   "source": [
    "df_sorted_creation_times = df_with_creation_time.sort_values(by='chat_id')\n",
    "df_sorted_creation_times"
   ]
  },
  {
   "cell_type": "code",
   "execution_count": null,
   "id": "86b7abc5",
   "metadata": {},
   "outputs": [],
   "source": [
    "pr_events = []\n",
    "def get_pr_timeline(repo_name, pull_number):  \n",
    "    try:\n",
    "        repo = g.get_repo(repo_name)\n",
    "        pr = repo.get_pull(pull_number)\n",
    "        issue = pr.as_issue()\n",
    "        events = issue.get_timeline() \n",
    "        pr_events.append(events)\n",
    "            \n",
    "    except GithubException as e:\n",
    "        if e.status == 404:\n",
    "            # Handle the 404 error by appending a placeholder\n",
    "            pr_events.append(\"None\")\n",
    "            print(\"error\")"
   ]
  },
  {
   "cell_type": "code",
   "execution_count": null,
   "id": "f335ebdb",
   "metadata": {},
   "outputs": [],
   "source": [
    "for _, row in df.iterrows():\n",
    "    get_pr_timeline(row[\"RepoName\"], int(row[\"PullNumber\"]))"
   ]
  },
  {
   "cell_type": "code",
   "execution_count": null,
   "id": "3d3d0688",
   "metadata": {},
   "outputs": [],
   "source": [
    "len(pr_events)"
   ]
  },
  {
   "cell_type": "code",
   "execution_count": null,
   "id": "7f230803",
   "metadata": {},
   "outputs": [],
   "source": [
    "for event in pr_events[44]:\n",
    "    print(event)"
   ]
  },
  {
   "cell_type": "code",
   "execution_count": null,
   "id": "8bdba664",
   "metadata": {},
   "outputs": [],
   "source": [
    "pr_events[44]"
   ]
  },
  {
   "cell_type": "code",
   "execution_count": null,
   "id": "d554a569",
   "metadata": {},
   "outputs": [],
   "source": [
    "creation_times[0]"
   ]
  },
  {
   "cell_type": "code",
   "execution_count": null,
   "id": "af366d90",
   "metadata": {},
   "outputs": [],
   "source": [
    "creation_times_sorted = []\n",
    "for _, row in df_sorted_creation_times.iterrows():\n",
    "    creation_times_sorted.append(row[\"creation_time\"])\n",
    "\n",
    "len(creation_times_sorted)"
   ]
  },
  {
   "cell_type": "code",
   "execution_count": null,
   "id": "7fe14b4c",
   "metadata": {},
   "outputs": [],
   "source": [
    "creation_times_sorted"
   ]
  },
  {
   "cell_type": "code",
   "execution_count": null,
   "id": "e63a3722",
   "metadata": {},
   "outputs": [],
   "source": [
    "from datetime import datetime\n",
    "\n",
    "def find_event(pr_events, creation_times):\n",
    "    result = []\n",
    "\n",
    "    for pr_idx, pr in enumerate(pr_events):\n",
    "        comment_time = creation_times[pr_idx]\n",
    "        events = pr\n",
    "        most_recent_event = None\n",
    "        #print(pr_idx)\n",
    "\n",
    "        if events is not None:\n",
    "            for event in events:\n",
    "                if event != \"None\" and comment_time != \"None\":\n",
    "                    event_time = event.created_at\n",
    "                    if event_time is not None:\n",
    "                        if event_time < comment_time:\n",
    "                            if most_recent_event is None or event_time > most_recent_event.created_at:\n",
    "                                most_recent_event = event\n",
    "        if most_recent_event is not None:\n",
    "            result.append(most_recent_event.event)\n",
    "        else:\n",
    "            result.append(\"None\")\n",
    "\n",
    "    return result"
   ]
  },
  {
   "cell_type": "code",
   "execution_count": null,
   "id": "ca7bc9f0",
   "metadata": {},
   "outputs": [],
   "source": [
    "test1 = [pr_events[0]]\n",
    "test2 = [creation_times_sorted[0]]"
   ]
  },
  {
   "cell_type": "code",
   "execution_count": null,
   "id": "081c5cfa",
   "metadata": {},
   "outputs": [],
   "source": [
    "recent_event_comment = find_event(test1, test2)\n",
    "recent_event_comment"
   ]
  },
  {
   "cell_type": "code",
   "execution_count": null,
   "id": "52e9a24c",
   "metadata": {},
   "outputs": [],
   "source": [
    "recent_events_comment = find_event(pr_events, creation_times_sorted)\n",
    "len(recent_events_comment)"
   ]
  },
  {
   "cell_type": "code",
   "execution_count": null,
   "id": "5a251a22",
   "metadata": {},
   "outputs": [],
   "source": [
    "df[\"recent_event\"] = recent_events_comment\n",
    "df"
   ]
  },
  {
   "cell_type": "code",
   "execution_count": null,
   "id": "cac6f336",
   "metadata": {},
   "outputs": [],
   "source": [
    "df.to_csv(\"rq1_recent_event.csv\")"
   ]
  },
  {
   "cell_type": "code",
   "execution_count": null,
   "id": "58485d1c",
   "metadata": {},
   "outputs": [],
   "source": [
    "#only_reactions_body = [entry['reaction'] for entry in recent_events_comment]\n",
    "from collections import Counter\n",
    "recent_events_comment_counts = Counter(recent_events_comment)\n",
    "print(recent_events_comment_counts)"
   ]
  },
  {
   "cell_type": "code",
   "execution_count": null,
   "id": "71bc5550",
   "metadata": {},
   "outputs": [],
   "source": [
    "def find_event_group(pr_events, creation_times):\n",
    "    result = []\n",
    "    groups = [\"ready_for_review\", \"review_requested\", \"commented\", \"merged\", \"closed\", \"review_request_removed\"]\n",
    "\n",
    "    for pr_idx, pr in enumerate(pr_events):\n",
    "        comment_time = creation_times[pr_idx]\n",
    "        events = pr\n",
    "        most_recent_event = None\n",
    "        #print(pr_idx)\n",
    "\n",
    "        if events is not None:\n",
    "            #print(event.event)\n",
    "            if True: #any(event.event in groups for event.event in events):\n",
    "                for event in events:\n",
    "                    if event != \"None\" and comment_time != \"None\":\n",
    "                        event_time = event.created_at\n",
    "                        if event_time is not None:\n",
    "                            if event_time < comment_time and event.event in groups:\n",
    "                                if most_recent_event is None or event_time > most_recent_event.created_at:\n",
    "                                    most_recent_event = event\n",
    "                            \n",
    "                result.append(most_recent_event.event if most_recent_event else \"None\")\n",
    "            else:\n",
    "                result.append(\"commented\")\n",
    "        else:\n",
    "            result.append(\"None\")\n",
    "\n",
    "    return result"
   ]
  },
  {
   "cell_type": "code",
   "execution_count": null,
   "id": "a0a772e4",
   "metadata": {},
   "outputs": [],
   "source": [
    "recent_events_group_comment = find_event_group(pr_events, creation_times_sorted)\n",
    "len(recent_events_group_comment)"
   ]
  },
  {
   "cell_type": "code",
   "execution_count": null,
   "id": "3caf458e",
   "metadata": {},
   "outputs": [],
   "source": [
    "recent_events_group_comment"
   ]
  },
  {
   "cell_type": "code",
   "execution_count": null,
   "id": "b7759168",
   "metadata": {},
   "outputs": [],
   "source": [
    "df[\"recent_event_group\"] = recent_events_group_comment\n",
    "df"
   ]
  },
  {
   "cell_type": "code",
   "execution_count": null,
   "id": "7d49cdf6",
   "metadata": {},
   "outputs": [],
   "source": [
    "df.to_excel(\"df_recent_event_group.xlsx\", engine='openpyxl', index=False)"
   ]
  },
  {
   "cell_type": "code",
   "execution_count": null,
   "id": "b81f45a9",
   "metadata": {},
   "outputs": [],
   "source": [
    "from collections import Counter\n",
    "recent_events_comment_counts_group = Counter(recent_events_group_comment)\n",
    "print(recent_events_comment_counts_group)"
   ]
  },
  {
   "cell_type": "code",
   "execution_count": null,
   "id": "9f3fc127",
   "metadata": {},
   "outputs": [],
   "source": [
    "def assign_recent_event_group(row):\n",
    "    if row['recent_event'] == \"None\": \n",
    "        if row['MentionedProperty'] in ['reviews.body', 'comments.body']:\n",
    "            return 'commented'\n",
    "        elif row['MentionedProperty'] == 'body':\n",
    "            return 'pr_created'\n",
    "    else:\n",
    "        #if row['recent_event'] == \"None\": \n",
    "        return row['recent_event_group']"
   ]
  },
  {
   "cell_type": "code",
   "execution_count": null,
   "id": "dae7fc1c",
   "metadata": {},
   "outputs": [],
   "source": [
    "df['recent_event_group'] = df.apply(assign_recent_event_group, axis=1)\n",
    "df"
   ]
  },
  {
   "cell_type": "code",
   "execution_count": null,
   "id": "035eb420",
   "metadata": {},
   "outputs": [],
   "source": [
    "def assign_recent_event_group_2(row):\n",
    "    if row['recent_event_group'] == \"None\": \n",
    "        return 'commented'\n",
    "    else:\n",
    "        return row['recent_event_group']"
   ]
  },
  {
   "cell_type": "code",
   "execution_count": null,
   "id": "be202853",
   "metadata": {},
   "outputs": [],
   "source": [
    "df['recent_event_group'] = df.apply(assign_recent_event_group_2, axis=1)\n",
    "df"
   ]
  },
  {
   "cell_type": "code",
   "execution_count": null,
   "id": "15df08fa",
   "metadata": {},
   "outputs": [],
   "source": [
    "recent_events_comment_counts_group = Counter(df['recent_event_group'])\n",
    "print(recent_events_comment_counts_group)"
   ]
  },
  {
   "cell_type": "code",
   "execution_count": null,
   "id": "c5894f84",
   "metadata": {},
   "outputs": [],
   "source": [
    "df.to_csv(\"rq1_recent_event_group.csv\")"
   ]
  },
  {
   "cell_type": "code",
   "execution_count": null,
   "id": "edc8b4ec",
   "metadata": {},
   "outputs": [],
   "source": [
    "state_distribution = df.groupby(['recent_event_group', 'states']).size().unstack(fill_value=0)"
   ]
  },
  {
   "cell_type": "code",
   "execution_count": null,
   "id": "614f33cc",
   "metadata": {},
   "outputs": [],
   "source": [
    "import matplotlib.pyplot as plt\n",
    "state_distribution.plot(kind='bar', stacked=True, figsize=(10, 7))\n",
    "plt.xlabel('Recent event group')\n",
    "plt.ylabel('Count')\n",
    "plt.title('State Distribution over Recent Event Group')\n",
    "plt.legend(title='State')\n",
    "plt.show()"
   ]
  }
 ],
 "metadata": {
  "kernelspec": {
   "display_name": "Python [conda env:pythonenv]",
   "language": "python",
   "name": "conda-env-pythonenv-py"
  },
  "language_info": {
   "codemirror_mode": {
    "name": "ipython",
    "version": 3
   },
   "file_extension": ".py",
   "mimetype": "text/x-python",
   "name": "python",
   "nbconvert_exporter": "python",
   "pygments_lexer": "ipython3",
   "version": "3.10.13"
  }
 },
 "nbformat": 4,
 "nbformat_minor": 5
}
