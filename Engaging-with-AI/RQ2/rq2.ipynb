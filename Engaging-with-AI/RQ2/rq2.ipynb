{
 "cells": [
  {
   "cell_type": "code",
   "execution_count": null,
   "id": "f2108a38",
   "metadata": {},
   "outputs": [],
   "source": [
    "import csv\n",
    "import json\n",
    "import logging\n",
    "import pandas as pd\n",
    "import requests\n",
    "import re\n",
    "from github import Github\n",
    "from github.GithubException import GithubException"
   ]
  },
  {
   "cell_type": "markdown",
   "id": "6e8ebff7",
   "metadata": {},
   "source": [
    "RQ2 What are the developer reactions and sentiments to content containing shared conversations?"
   ]
  },
  {
   "cell_type": "code",
   "execution_count": null,
   "id": "58acd892",
   "metadata": {},
   "outputs": [],
   "source": [
    "GITHUB_TOKEN = \"\"\n",
    "g = Github(GITHUB_TOKEN)"
   ]
  },
  {
   "cell_type": "code",
   "execution_count": null,
   "id": "f6803bdb",
   "metadata": {},
   "outputs": [],
   "source": [
    "#human label the data row userful or not, as some PR comments are exact duplicate of the shared conversations."
   ]
  },
  {
   "cell_type": "code",
   "execution_count": null,
   "id": "02dd1238",
   "metadata": {},
   "outputs": [],
   "source": [
    "df = pd.read_excel(\"rq2_english_only_useful.xlsx\")\n",
    "len(df)"
   ]
  },
  {
   "cell_type": "code",
   "execution_count": null,
   "id": "7cb2287f",
   "metadata": {},
   "outputs": [],
   "source": [
    "df.head(3)"
   ]
  },
  {
   "cell_type": "code",
   "execution_count": null,
   "id": "40152273",
   "metadata": {},
   "outputs": [],
   "source": [
    "df[\"MentionedTextUseful\"] = df[\"MentionedTextUseful\"].apply(lambda x: True if x != False else x)\n",
    "df.head(3)"
   ]
  },
  {
   "cell_type": "code",
   "execution_count": null,
   "id": "ce3f8f29",
   "metadata": {},
   "outputs": [],
   "source": [
    "df_comments = df[df[\"MentionedProperty\"] == \"comments.body\"]\n",
    "len(df_comments)"
   ]
  },
  {
   "cell_type": "code",
   "execution_count": null,
   "id": "1d68bc39",
   "metadata": {},
   "outputs": [],
   "source": [
    "df_reviews = df[df[\"MentionedProperty\"] == \"reviews.body\"]\n",
    "len(df_reviews)"
   ]
  },
  {
   "cell_type": "code",
   "execution_count": null,
   "id": "ff6dfdaa",
   "metadata": {},
   "outputs": [],
   "source": [
    "df_reviews.head(1)"
   ]
  },
  {
   "cell_type": "code",
   "execution_count": null,
   "id": "c9021aee",
   "metadata": {},
   "outputs": [],
   "source": [
    "df_body = df[df[\"MentionedProperty\"] == \"body\"]\n",
    "len(df_body)"
   ]
  },
  {
   "cell_type": "code",
   "execution_count": null,
   "id": "3df31579",
   "metadata": {},
   "outputs": [],
   "source": [
    "df_body.head()"
   ]
  },
  {
   "cell_type": "code",
   "execution_count": null,
   "id": "3f703ba3",
   "metadata": {},
   "outputs": [],
   "source": [
    "def extract_comment_id(url):\n",
    "    match = re.search(r'#issuecomment-(\\d+)', url)\n",
    "    return match.group(1) if match else None"
   ]
  },
  {
   "cell_type": "code",
   "execution_count": null,
   "id": "6a650da4",
   "metadata": {},
   "outputs": [],
   "source": [
    "#get the comment ids\n",
    "comment_ids = []\n",
    "for _, row in df_comments.iterrows():\n",
    "    comment_id = extract_comment_id(row[\"comment_url\"])\n",
    "    comment_ids.append(comment_id)"
   ]
  },
  {
   "cell_type": "code",
   "execution_count": null,
   "id": "b2fd05b7",
   "metadata": {},
   "outputs": [],
   "source": [
    "comment_ids"
   ]
  },
  {
   "cell_type": "code",
   "execution_count": null,
   "id": "b87892b7",
   "metadata": {},
   "outputs": [],
   "source": [
    "df_comment_ids = pd.DataFrame(comment_ids, columns=['comment_ids'])\n",
    "df_comment_ids"
   ]
  },
  {
   "cell_type": "code",
   "execution_count": null,
   "id": "d96db28d",
   "metadata": {},
   "outputs": [],
   "source": [
    "df_comments[\"comment_ids\"] = comment_ids\n",
    "df_comments"
   ]
  },
  {
   "cell_type": "code",
   "execution_count": null,
   "id": "92956741",
   "metadata": {},
   "outputs": [],
   "source": [
    "all_reactions_comments = []\n",
    "#react_users = []\n",
    "#reactions = []\n",
    "def get_comment_reactions(repo_name, pull_number, comment_id):\n",
    "    try:\n",
    "        repo = g.get_repo(f\"{repo_name}\")\n",
    "        #print(\"here\")\n",
    "        pull_request = repo.get_pull(pull_number)\n",
    "        #print(\"here\")\n",
    "        comment = pull_request.get_issue_comment(comment_id)\n",
    "        #print(\"here\")\n",
    "        reactions = comment.get_reactions()\n",
    "        reactions_list = list(reactions)\n",
    "        \n",
    "        #reaction_dict = {}\n",
    "        \n",
    "        if not reactions_list:\n",
    "            reaction_dict = {}\n",
    "            reaction_dict[\"repo_name\"] = repo_name\n",
    "            reaction_dict[\"pull_number\"] = pull_number\n",
    "            reaction_dict[\"comment_id\"] = comment_id\n",
    "            reaction_dict[\"user\"] = \"None\"\n",
    "            reaction_dict[\"reaction\"] = \"None\"   \n",
    "            #react_users.append(\"None\")\n",
    "            #reactions.append(\"None\")\n",
    "            all_reactions_comments.append(reaction_dict)\n",
    "        else:\n",
    "            for reaction in reactions_list:\n",
    "                reaction_dict = {}\n",
    "                reaction_dict[\"repo_name\"] = repo_name\n",
    "                reaction_dict[\"pull_number\"] = pull_number\n",
    "                reaction_dict[\"comment_id\"] = comment_id\n",
    "                reaction_dict[\"user\"] = reaction.user.login\n",
    "                reaction_dict[\"reaction\"] = reaction.content\n",
    "                #react_users.append(\"None\")\n",
    "                #reactions.append(\"None\")\n",
    "                all_reactions_comments.append(reaction_dict)\n",
    "                \n",
    "        #all_reactions_comments.append(reaction_dict)\n",
    "            \n",
    "    except GithubException as e:\n",
    "        if e.status == 404:\n",
    "            # Handle the 404 error by appending a placeholder\n",
    "            reaction_dict = {}\n",
    "            reaction_dict[\"repo_name\"] = repo_name\n",
    "            reaction_dict[\"pull_number\"] = pull_number\n",
    "            reaction_dict[\"comment_id\"] = comment_id\n",
    "            reaction_dict[\"user\"] = \"404\"\n",
    "            reaction_dict[\"reaction\"] = \"404\"\n",
    "            all_reactions_comments.append(reaction_dict)\n",
    "            print(\"error\")\n"
   ]
  },
  {
   "cell_type": "code",
   "execution_count": null,
   "id": "c59f6783",
   "metadata": {},
   "outputs": [],
   "source": [
    "get_comment_reactions(\"rom-py/rompy\", 40, 1742286490)\n",
    "all_reactions_comments"
   ]
  },
  {
   "cell_type": "code",
   "execution_count": null,
   "id": "3984d616",
   "metadata": {},
   "outputs": [],
   "source": [
    "#get the reactions\n",
    "#reactions = []\n",
    "for _, row in df_comments.iterrows():\n",
    "    get_comment_reactions(row[\"RepoName\"], int(row[\"PullNumber\"]), int(row[\"comment_ids\"]))"
   ]
  },
  {
   "cell_type": "code",
   "execution_count": null,
   "id": "8e6372d9",
   "metadata": {},
   "outputs": [],
   "source": [
    "len(all_reactions_comments)"
   ]
  },
  {
   "cell_type": "code",
   "execution_count": null,
   "id": "b0996dfc",
   "metadata": {},
   "outputs": [],
   "source": [
    "all_reactions_comments"
   ]
  },
  {
   "cell_type": "code",
   "execution_count": null,
   "id": "c3c94287",
   "metadata": {},
   "outputs": [],
   "source": [
    "def extract_review_id(url):\n",
    "    match = re.search(r'#discussion_r(\\d+)', url)\n",
    "    return match.group(1) if match else None"
   ]
  },
  {
   "cell_type": "code",
   "execution_count": null,
   "id": "bb13d208",
   "metadata": {},
   "outputs": [],
   "source": [
    "#get the comment ids\n",
    "review_ids = []\n",
    "for _, row in df_reviews.iterrows():\n",
    "    review_id = extract_review_id(row[\"comment_url\"])\n",
    "    review_ids.append(review_id)"
   ]
  },
  {
   "cell_type": "code",
   "execution_count": null,
   "id": "d799597f",
   "metadata": {},
   "outputs": [],
   "source": [
    "review_ids"
   ]
  },
  {
   "cell_type": "code",
   "execution_count": null,
   "id": "d9c1b815",
   "metadata": {},
   "outputs": [],
   "source": [
    "df_reviews[\"comment_ids\"] = review_ids\n",
    "df_reviews"
   ]
  },
  {
   "cell_type": "code",
   "execution_count": null,
   "id": "ffbf8ec8",
   "metadata": {},
   "outputs": [],
   "source": [
    "all_reactions_reviews = []\n",
    "#react_users = []\n",
    "#reactions = []\n",
    "def get_comment_reactions(repo_name, pull_number, comment_id):\n",
    "    try:\n",
    "        repo = g.get_repo(f\"{repo_name}\")\n",
    "        #print(\"here\")\n",
    "        pull_request = repo.get_pull(pull_number)\n",
    "        #print(\"here\")\n",
    "        comment = pull_request.get_review_comment(comment_id)\n",
    "        #print(\"here\")\n",
    "        reactions = comment.get_reactions()\n",
    "        reactions_list = list(reactions)\n",
    "        reactions_list\n",
    "        #reaction_dict = {}\n",
    "        \n",
    "        if not reactions_list:\n",
    "            reaction_dict = {}\n",
    "            reaction_dict[\"repo_name\"] = repo_name\n",
    "            reaction_dict[\"pull_number\"] = pull_number\n",
    "            reaction_dict[\"comment_id\"] = comment_id\n",
    "            reaction_dict[\"user\"] = \"None\"\n",
    "            reaction_dict[\"reaction\"] = \"None\"   \n",
    "            #react_users.append(\"None\")\n",
    "            #reactions.append(\"None\")\n",
    "            all_reactions_reviews.append(reaction_dict)\n",
    "        else:\n",
    "            for reaction in reactions_list:\n",
    "                reaction_dict = {}\n",
    "                reaction_dict[\"repo_name\"] = repo_name\n",
    "                reaction_dict[\"pull_number\"] = pull_number\n",
    "                reaction_dict[\"comment_id\"] = comment_id\n",
    "                reaction_dict[\"user\"] = reaction.user.login\n",
    "                reaction_dict[\"reaction\"] = reaction.content\n",
    "                #react_users.append(\"None\")\n",
    "                #reactions.append(\"None\")\n",
    "                all_reactions_reviews.append(reaction_dict)\n",
    "                \n",
    "        #all_reactions_reviews.append(reaction_dict)\n",
    "            \n",
    "    except GithubException as e:\n",
    "        if e.status == 404:\n",
    "            # Handle the 404 error by appending a placeholder\n",
    "            reaction_dict = {}\n",
    "            reaction_dict[\"repo_name\"] = repo_name\n",
    "            reaction_dict[\"pull_number\"] = pull_number\n",
    "            reaction_dict[\"comment_id\"] = comment_id\n",
    "            reaction_dict[\"user\"] = \"404\"\n",
    "            reaction_dict[\"reaction\"] = \"404\"\n",
    "            all_reactions_reviews.append(reaction_dict)\n",
    "            print(\"error\")"
   ]
  },
  {
   "cell_type": "code",
   "execution_count": null,
   "id": "54aadf7e",
   "metadata": {},
   "outputs": [],
   "source": [
    "get_comment_reactions(\"mlc-ai/web-stable-diffusion\", 52, 1699848356)\n",
    "all_reactions_reviews"
   ]
  },
  {
   "cell_type": "code",
   "execution_count": null,
   "id": "aaf83ca8",
   "metadata": {},
   "outputs": [],
   "source": [
    "for _, row in df_reviews.iterrows():\n",
    "    #print(row[\"RepoName\"])\n",
    "    #print(int(row[\"PullNumber\"]))\n",
    "    #print(int(row[\"comment_ids\"]))\n",
    "    get_comment_reactions(row[\"RepoName\"], int(row[\"PullNumber\"]), int(row[\"comment_ids\"]))"
   ]
  },
  {
   "cell_type": "code",
   "execution_count": null,
   "id": "86c318d8",
   "metadata": {},
   "outputs": [],
   "source": [
    "len(all_reactions_reviews)"
   ]
  },
  {
   "cell_type": "code",
   "execution_count": null,
   "id": "4af24a13",
   "metadata": {},
   "outputs": [],
   "source": [
    "all_reactions_reviews"
   ]
  },
  {
   "cell_type": "code",
   "execution_count": null,
   "id": "3799d8cc",
   "metadata": {},
   "outputs": [],
   "source": [
    "all_reactions_body = []\n",
    "#react_users = []\n",
    "#reactions = []\n",
    "def get_body_reactions(repo_name, pull_number):\n",
    "    try:\n",
    "        repo = g.get_repo(f\"{repo_name}\")\n",
    "        #print(\"here\")\n",
    "        pull_request = repo.get_pull(pull_number)\n",
    "        #print(\"here\")\n",
    "        comments = pull_request.get_issue_comments()\n",
    "        #print(\"here\")\n",
    "        \n",
    "        #reaction_dict = {}\n",
    "        \n",
    "        if comments.totalCount == 0:\n",
    "            reaction_dict = {}\n",
    "            reaction_dict[\"repo_name\"] = repo_name\n",
    "            reaction_dict[\"pull_number\"] = pull_number\n",
    "            reaction_dict[\"user\"] = \"None\"\n",
    "            reaction_dict[\"reaction\"] = \"None\"  \n",
    "            all_reactions_body.append(reaction_dict)\n",
    "        else:   \n",
    "            for comment in comments:\n",
    "                # Get reactions for each comment\n",
    "                reactions = comment.get_reactions()\n",
    "                reactions_list = list(reactions)\n",
    "                #print(comment)\n",
    "                #print(reactions_list)\n",
    "\n",
    "                if not reactions_list:\n",
    "                    reaction_dict = {}\n",
    "                    reaction_dict[\"repo_name\"] = repo_name\n",
    "                    reaction_dict[\"pull_number\"] = pull_number\n",
    "                    reaction_dict[\"user\"] = \"None\"\n",
    "                    reaction_dict[\"reaction\"] = \"None\"   \n",
    "                    #react_users.append(\"None\")\n",
    "                    #reactions.append(\"None\")\n",
    "                    all_reactions_body.append(reaction_dict)\n",
    "                else:\n",
    "                    for reaction in reactions_list:\n",
    "                        reaction_dict = {}\n",
    "                        reaction_dict[\"repo_name\"] = repo_name\n",
    "                        reaction_dict[\"pull_number\"] = pull_number\n",
    "                        reaction_dict[\"user\"] = reaction.user.login\n",
    "                        reaction_dict[\"reaction\"] = reaction.content\n",
    "                        #react_users.append(\"None\")\n",
    "                        #reactions.append(\"None\")\n",
    "                        all_reactions_body.append(reaction_dict)\n",
    "\n",
    "                #all_reactions_body.append(reaction_dict)\n",
    "            \n",
    "    except GithubException as e:\n",
    "        if e.status == 404:\n",
    "            # Handle the 404 error by appending a placeholder\n",
    "            reaction_dict = {}\n",
    "            reaction_dict[\"repo_name\"] = repo_name\n",
    "            reaction_dict[\"pull_number\"] = pull_number\n",
    "            reaction_dict[\"user\"] = \"404\"\n",
    "            reaction_dict[\"reaction\"] = \"404\"\n",
    "            all_reactions_body.append(reaction_dict)\n",
    "            print(\"error\")"
   ]
  },
  {
   "cell_type": "code",
   "execution_count": null,
   "id": "ac4eb33c",
   "metadata": {},
   "outputs": [],
   "source": [
    "get_body_reactions(\"ActivityWatch/aw-webui\", 455)\n",
    "all_reactions_body"
   ]
  },
  {
   "cell_type": "code",
   "execution_count": null,
   "id": "f2a9baf8",
   "metadata": {},
   "outputs": [],
   "source": [
    "len(df_body)"
   ]
  },
  {
   "cell_type": "code",
   "execution_count": null,
   "id": "4e1ff1c6",
   "metadata": {},
   "outputs": [],
   "source": [
    "for _, row in df_body.iterrows():\n",
    "    #print(row[\"RepoName\"])\n",
    "    #print(int(row[\"PullNumber\"]))\n",
    "    get_body_reactions(row[\"RepoName\"], int(row[\"PullNumber\"]))"
   ]
  },
  {
   "cell_type": "code",
   "execution_count": null,
   "id": "19dc2b92",
   "metadata": {},
   "outputs": [],
   "source": [
    "len(all_reactions_body)"
   ]
  },
  {
   "cell_type": "code",
   "execution_count": null,
   "id": "f4ee4f37",
   "metadata": {},
   "outputs": [],
   "source": [
    "all_reactions_body"
   ]
  },
  {
   "cell_type": "code",
   "execution_count": null,
   "id": "1150a232",
   "metadata": {},
   "outputs": [],
   "source": [
    "all_reactions_comments"
   ]
  },
  {
   "cell_type": "code",
   "execution_count": null,
   "id": "718b3d88",
   "metadata": {},
   "outputs": [],
   "source": [
    "from collections import Counter\n",
    "only_reactions_comments = [entry['reaction'] for entry in all_reactions_comments]\n",
    "reaction_counts = Counter(only_reactions_comments)\n",
    "print(reaction_counts)"
   ]
  },
  {
   "cell_type": "code",
   "execution_count": null,
   "id": "658cf43f",
   "metadata": {},
   "outputs": [],
   "source": [
    "all_reactions_reviews"
   ]
  },
  {
   "cell_type": "code",
   "execution_count": null,
   "id": "f578bd6e",
   "metadata": {},
   "outputs": [],
   "source": [
    "only_reactions_reviews = [entry['reaction'] for entry in all_reactions_reviews]\n",
    "reaction_counts_reviews = Counter(only_reactions_reviews)\n",
    "print(reaction_counts_reviews)"
   ]
  },
  {
   "cell_type": "code",
   "execution_count": null,
   "id": "b5f38e40",
   "metadata": {},
   "outputs": [],
   "source": [
    "only_reactions_body = [entry['reaction'] for entry in all_reactions_body]\n",
    "reaction_counts_body = Counter(only_reactions_body)\n",
    "print(reaction_counts_body)"
   ]
  },
  {
   "cell_type": "code",
   "execution_count": null,
   "id": "0058cae3",
   "metadata": {},
   "outputs": [],
   "source": [
    "only_reactions_comments"
   ]
  },
  {
   "cell_type": "code",
   "execution_count": null,
   "id": "e90a5632",
   "metadata": {},
   "outputs": [],
   "source": [
    "df_comments.head(14)"
   ]
  },
  {
   "cell_type": "code",
   "execution_count": null,
   "id": "aeb258d1",
   "metadata": {},
   "outputs": [],
   "source": [
    "df_comments[\"reactions\"] = only_reactions_comments"
   ]
  },
  {
   "cell_type": "code",
   "execution_count": null,
   "id": "2250867b",
   "metadata": {},
   "outputs": [],
   "source": [
    "df_reviews[\"reactions\"] = only_reactions_reviews"
   ]
  },
  {
   "cell_type": "code",
   "execution_count": null,
   "id": "0c727e8d",
   "metadata": {},
   "outputs": [],
   "source": [
    "def assign_reactions(row):\n",
    "    if row['RepoName'] == 'jefftriplett/frontmatter-cli' and row['PullNumber'] == \"6\":\n",
    "        return 'rocket'\n",
    "    if row['RepoName'] == 'app-sre/qontract-reconcile' and row['PullNumber'] == \"3630\":\n",
    "        return '+1'\n",
    "    if row['RepoName'] == 'livingbio/gpt-fn' and row['PullNumber'] == \"4\":\n",
    "        return '404'\n",
    "    else:\n",
    "        return 'None'\n",
    "\n",
    "df_body[\"reactions\"] = df_body.apply(assign_reactions, axis=1)"
   ]
  },
  {
   "cell_type": "code",
   "execution_count": null,
   "id": "0d1658c0",
   "metadata": {},
   "outputs": [],
   "source": [
    "df_body"
   ]
  },
  {
   "cell_type": "code",
   "execution_count": null,
   "id": "917ae1d2",
   "metadata": {},
   "outputs": [],
   "source": [
    "df_with_reactions = pd.concat([df_comments, df_reviews, df_body], ignore_index=True)\n",
    "df_with_reactions"
   ]
  },
  {
   "cell_type": "code",
   "execution_count": null,
   "id": "30ce9050",
   "metadata": {},
   "outputs": [],
   "source": [
    "df_with_reactions_sorted = df_with_reactions.sort_values(by='chat_id')"
   ]
  },
  {
   "cell_type": "code",
   "execution_count": null,
   "id": "f981430b",
   "metadata": {},
   "outputs": [],
   "source": [
    "df_with_reactions_sorted.to_csv(\"rq2_sorted.csv\")"
   ]
  },
  {
   "cell_type": "code",
   "execution_count": null,
   "id": "b11adc0d",
   "metadata": {},
   "outputs": [],
   "source": [
    "#Sentiment analysis start from here"
   ]
  },
  {
   "cell_type": "code",
   "execution_count": null,
   "id": "09ce2f72",
   "metadata": {},
   "outputs": [],
   "source": [
    "df_useful = df[df[\"MentionedTextUseful\"] == True]\n",
    "len(df_useful)"
   ]
  },
  {
   "cell_type": "code",
   "execution_count": null,
   "id": "340e85f7",
   "metadata": {},
   "outputs": [],
   "source": [
    "from nltk.sentiment.vader import SentimentIntensityAnalyzer"
   ]
  },
  {
   "cell_type": "code",
   "execution_count": null,
   "id": "6285eba7",
   "metadata": {},
   "outputs": [],
   "source": [
    "sid = SentimentIntensityAnalyzer()\n",
    "sentiment_scores = []\n",
    "\n",
    "for _, row in df_useful.iterrows():\n",
    "    sentiment_score = sid.polarity_scores(row[\"MentionedText\"])\n",
    "    sentiment_scores.append(sentiment_score)\n",
    "\n",
    "#print(sentiment_scores)\n",
    "sentiment_scores"
   ]
  },
  {
   "cell_type": "code",
   "execution_count": null,
   "id": "72ddf0e9",
   "metadata": {},
   "outputs": [],
   "source": [
    "sentiments = []\n",
    "for score in sentiment_scores:\n",
    "    compound_score = score['compound']\n",
    "    #print(compound_score)\n",
    "    if compound_score >= 0.05:\n",
    "        overall_sentiment = 'Positive'\n",
    "    elif compound_score <= -0.05:\n",
    "        overall_sentiment = 'Negative'\n",
    "    else:\n",
    "        overall_sentiment = 'Neutral'\n",
    "        \n",
    "    if compound_score == 0.0 and score['neu'] == 1.0:\n",
    "        overall_sentiment = 'Neutral'\n",
    "        \n",
    "    sentiments.append(overall_sentiment)\n",
    "        \n",
    "sentiments "
   ]
  },
  {
   "cell_type": "code",
   "execution_count": null,
   "id": "c1c57be6",
   "metadata": {},
   "outputs": [],
   "source": [
    "df_sentiments = pd.DataFrame(sentiments)\n",
    "df_sentiments.value_counts()"
   ]
  },
  {
   "cell_type": "code",
   "execution_count": null,
   "id": "4153b2cc",
   "metadata": {},
   "outputs": [],
   "source": [
    "df_useful[\"sentiment\"] = sentiments\n",
    "df_useful"
   ]
  },
  {
   "cell_type": "code",
   "execution_count": null,
   "id": "0f55ca85",
   "metadata": {},
   "outputs": [],
   "source": [
    "df_useful.to_csv(\"rq2_sentiment_test.csv\", encoding = 'utf-8',  index=False)"
   ]
  }
 ],
 "metadata": {
  "kernelspec": {
   "display_name": "Python [conda env:pythonenv]",
   "language": "python",
   "name": "conda-env-pythonenv-py"
  },
  "language_info": {
   "codemirror_mode": {
    "name": "ipython",
    "version": 3
   },
   "file_extension": ".py",
   "mimetype": "text/x-python",
   "name": "python",
   "nbconvert_exporter": "python",
   "pygments_lexer": "ipython3",
   "version": "3.10.13"
  }
 },
 "nbformat": 4,
 "nbformat_minor": 5
}
