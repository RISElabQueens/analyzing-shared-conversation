{
 "cells": [
  {
   "cell_type": "code",
   "execution_count": 1,
   "id": "1d0688a0",
   "metadata": {},
   "outputs": [
    {
     "name": "stderr",
     "output_type": "stream",
     "text": [
      "/home/jovyan/conda-envs/pythonenv/lib/python3.10/site-packages/tqdm/auto.py:21: TqdmWarning: IProgress not found. Please update jupyter and ipywidgets. See https://ipywidgets.readthedocs.io/en/stable/user_install.html\n",
      "  from .autonotebook import tqdm as notebook_tqdm\n"
     ]
    }
   ],
   "source": [
    "import matplotlib.pyplot as plt\n",
    "import json\n",
    "import pandas as pd\n",
    "from collections import Counter\n",
    "from lingua import LanguageDetectorBuilder, Language\n",
    "from tqdm.auto import tqdm\n",
    "import random\n",
    "import numpy as np"
   ]
  },
  {
   "cell_type": "code",
   "execution_count": 2,
   "id": "e505df6d",
   "metadata": {},
   "outputs": [],
   "source": [
    "f = open(\"devgpt/20231012_235128_issue_sharings.json\")\n",
    "data = json.loads(f.read())\n",
    "f.close()"
   ]
  },
  {
   "cell_type": "code",
   "execution_count": 3,
   "id": "fff9d3d3",
   "metadata": {},
   "outputs": [],
   "source": [
    "urls = []"
   ]
  },
  {
   "cell_type": "code",
   "execution_count": 4,
   "id": "3324d21c",
   "metadata": {},
   "outputs": [],
   "source": [
    "def generate_documents(data):\n",
    "    conversation_id = 0\n",
    "    first_prompts = []\n",
    "    first_answers = []\n",
    "    chat_id = 0\n",
    "    for entry in data[\"Sources\"]:\n",
    "        for sharedLink in entry[\"ChatgptSharing\"]:\n",
    "            if sharedLink.get(\"Conversations\"):\n",
    "                chat_id+=1\n",
    "                conversation_id = 0\n",
    "                for conversation in sharedLink[\"Conversations\"]:\n",
    "                    first_prompts.append({\"chat_id\" : chat_id, \"round_id\" : conversation_id, \"prompt\" : conversation[\"Prompt\"]})\n",
    "                    first_answers.append({\"answer\" : conversation[\"Answer\"]})\n",
    "                    urls.append({\"Mentioned_URL\" : sharedLink.get(\"Mention\").get(\"MentionedURL\")})\n",
    "                    conversation_id+=1\n",
    "    df = pd.DataFrame(first_prompts).join(pd.DataFrame(first_answers)).reset_index(drop=True)\n",
    "    df = df.join(pd.DataFrame(urls))\n",
    "    return df"
   ]
  },
  {
   "cell_type": "code",
   "execution_count": 5,
   "id": "abf3589f",
   "metadata": {},
   "outputs": [],
   "source": [
    "#Detect lang https://github.com/pemistahl/lingua-py\n",
    "def landetec(df):\n",
    "    detector = LanguageDetectorBuilder.from_all_spoken_languages().build()\n",
    "    rt_groups = []\n",
    "\n",
    "    for name, group in df.groupby(\"chat_id\"):\n",
    "        counter = 0\n",
    "        not_english_chats_ids = []\n",
    "        for index, row in group.iterrows():\n",
    "            lang = detector.detect_language_of(row[\"prompt\"])\n",
    "            if lang != Language.ENGLISH:\n",
    "                counter+=1\n",
    "    #         if row[\"prompt\"].strip() in sample[\"Prompt\"].tolist():\n",
    "    #             counter += 1\n",
    "        #some of the rounds are not in english\n",
    "        if counter == 0:\n",
    "            rt_groups.append(group)\n",
    "    #Filter out chats that are not in english\n",
    "    df_langfiltered = pd.concat(rt_groups)\n",
    "    return df_langfiltered"
   ]
  },
  {
   "cell_type": "code",
   "execution_count": 6,
   "id": "d27feedb",
   "metadata": {},
   "outputs": [
    {
     "data": {
      "text/html": [
       "<div>\n",
       "<style scoped>\n",
       "    .dataframe tbody tr th:only-of-type {\n",
       "        vertical-align: middle;\n",
       "    }\n",
       "\n",
       "    .dataframe tbody tr th {\n",
       "        vertical-align: top;\n",
       "    }\n",
       "\n",
       "    .dataframe thead th {\n",
       "        text-align: right;\n",
       "    }\n",
       "</style>\n",
       "<table border=\"1\" class=\"dataframe\">\n",
       "  <thead>\n",
       "    <tr style=\"text-align: right;\">\n",
       "      <th></th>\n",
       "      <th>chat_id</th>\n",
       "      <th>round_id</th>\n",
       "      <th>prompt</th>\n",
       "      <th>answer</th>\n",
       "      <th>Mentioned_URL</th>\n",
       "    </tr>\n",
       "  </thead>\n",
       "  <tbody>\n",
       "    <tr>\n",
       "      <th>0</th>\n",
       "      <td>1</td>\n",
       "      <td>0</td>\n",
       "      <td>Raspberry Piをアクセスポイント化させて、Wi-Fi通信をスマホとさせました。Ra...</td>\n",
       "      <td>ChatGPTRaspberry Piをアクセスポイントとして設定し、スマホとのWi-Fi通...</td>\n",
       "      <td>https://github.com/ShogoHirasawa/2023-syuron/i...</td>\n",
       "    </tr>\n",
       "    <tr>\n",
       "      <th>1</th>\n",
       "      <td>1</td>\n",
       "      <td>1</td>\n",
       "      <td>Raspberry Piには地図タイルが入っており、これをWi−Fi通信でスマホに配信します...</td>\n",
       "      <td>ChatGPT地図タイルを配信するためのRaspberry Piとスマホ間の接続テストを行う...</td>\n",
       "      <td>https://github.com/ShogoHirasawa/2023-syuron/i...</td>\n",
       "    </tr>\n",
       "    <tr>\n",
       "      <th>2</th>\n",
       "      <td>1</td>\n",
       "      <td>2</td>\n",
       "      <td>上記で教えてくれたコマンドはsshでラズパイの中に入って打つっていう認識でよいよね？</td>\n",
       "      <td>ChatGPTはい、その通りです。提供されたコマンドのほとんどは、SSH (Secure S...</td>\n",
       "      <td>https://github.com/ShogoHirasawa/2023-syuron/i...</td>\n",
       "    </tr>\n",
       "    <tr>\n",
       "      <th>3</th>\n",
       "      <td>2</td>\n",
       "      <td>0</td>\n",
       "      <td>iperfってどんなコマンドですか？中学生にもわかるように説明して</td>\n",
       "      <td>ChatGPT了解です！iperfは、コンピュータ間のネットワーク速度を計測するためのツール...</td>\n",
       "      <td>https://github.com/ShogoHirasawa/2023-syuron/i...</td>\n",
       "    </tr>\n",
       "    <tr>\n",
       "      <th>4</th>\n",
       "      <td>2</td>\n",
       "      <td>1</td>\n",
       "      <td>どういった出力結果がでる？</td>\n",
       "      <td>ChatGPTiperfを使用すると、主に以下のような情報を得ることができます：帯域幅（Ba...</td>\n",
       "      <td>https://github.com/ShogoHirasawa/2023-syuron/i...</td>\n",
       "    </tr>\n",
       "  </tbody>\n",
       "</table>\n",
       "</div>"
      ],
      "text/plain": [
       "   chat_id  round_id                                             prompt  \\\n",
       "0        1         0  Raspberry Piをアクセスポイント化させて、Wi-Fi通信をスマホとさせました。Ra...   \n",
       "1        1         1  Raspberry Piには地図タイルが入っており、これをWi−Fi通信でスマホに配信します...   \n",
       "2        1         2         上記で教えてくれたコマンドはsshでラズパイの中に入って打つっていう認識でよいよね？   \n",
       "3        2         0                  iperfってどんなコマンドですか？中学生にもわかるように説明して   \n",
       "4        2         1                                      どういった出力結果がでる？   \n",
       "\n",
       "                                              answer  \\\n",
       "0  ChatGPTRaspberry Piをアクセスポイントとして設定し、スマホとのWi-Fi通...   \n",
       "1  ChatGPT地図タイルを配信するためのRaspberry Piとスマホ間の接続テストを行う...   \n",
       "2  ChatGPTはい、その通りです。提供されたコマンドのほとんどは、SSH (Secure S...   \n",
       "3  ChatGPT了解です！iperfは、コンピュータ間のネットワーク速度を計測するためのツール...   \n",
       "4  ChatGPTiperfを使用すると、主に以下のような情報を得ることができます：帯域幅（Ba...   \n",
       "\n",
       "                                       Mentioned_URL  \n",
       "0  https://github.com/ShogoHirasawa/2023-syuron/i...  \n",
       "1  https://github.com/ShogoHirasawa/2023-syuron/i...  \n",
       "2  https://github.com/ShogoHirasawa/2023-syuron/i...  \n",
       "3  https://github.com/ShogoHirasawa/2023-syuron/i...  \n",
       "4  https://github.com/ShogoHirasawa/2023-syuron/i...  "
      ]
     },
     "execution_count": 6,
     "metadata": {},
     "output_type": "execute_result"
    }
   ],
   "source": [
    "df_iss = generate_documents(data)\n",
    "df_iss.head(5)"
   ]
  },
  {
   "cell_type": "code",
   "execution_count": 7,
   "id": "4171eeba",
   "metadata": {},
   "outputs": [
    {
     "data": {
      "text/plain": [
       "2032"
      ]
     },
     "execution_count": 7,
     "metadata": {},
     "output_type": "execute_result"
    }
   ],
   "source": [
    "len(df_iss)"
   ]
  },
  {
   "cell_type": "code",
   "execution_count": 8,
   "id": "24cd058b",
   "metadata": {},
   "outputs": [
    {
     "data": {
      "text/plain": [
       "598"
      ]
     },
     "execution_count": 8,
     "metadata": {},
     "output_type": "execute_result"
    }
   ],
   "source": [
    "len(df_iss.groupby(\"chat_id\"))"
   ]
  },
  {
   "cell_type": "code",
   "execution_count": 9,
   "id": "59e927db",
   "metadata": {},
   "outputs": [
    {
     "data": {
      "text/html": [
       "<div>\n",
       "<style scoped>\n",
       "    .dataframe tbody tr th:only-of-type {\n",
       "        vertical-align: middle;\n",
       "    }\n",
       "\n",
       "    .dataframe tbody tr th {\n",
       "        vertical-align: top;\n",
       "    }\n",
       "\n",
       "    .dataframe thead th {\n",
       "        text-align: right;\n",
       "    }\n",
       "</style>\n",
       "<table border=\"1\" class=\"dataframe\">\n",
       "  <thead>\n",
       "    <tr style=\"text-align: right;\">\n",
       "      <th></th>\n",
       "      <th>chat_id</th>\n",
       "      <th>round_id</th>\n",
       "      <th>prompt</th>\n",
       "      <th>answer</th>\n",
       "      <th>Mentioned_URL</th>\n",
       "    </tr>\n",
       "  </thead>\n",
       "  <tbody>\n",
       "    <tr>\n",
       "      <th>7</th>\n",
       "      <td>3</td>\n",
       "      <td>0</td>\n",
       "      <td>You are an expert search query generator.\\n\\nI...</td>\n",
       "      <td>ChatGPTCertainly, here are 10 high-quality sea...</td>\n",
       "      <td>https://github.com/CitizensFoundation/policy-s...</td>\n",
       "    </tr>\n",
       "    <tr>\n",
       "      <th>8</th>\n",
       "      <td>4</td>\n",
       "      <td>0</td>\n",
       "      <td>Please analyse the text below to find the root...</td>\n",
       "      <td>ChatGPTHere is the JSON output analyzing the r...</td>\n",
       "      <td>https://github.com/CitizensFoundation/policy-s...</td>\n",
       "    </tr>\n",
       "    <tr>\n",
       "      <th>12</th>\n",
       "      <td>6</td>\n",
       "      <td>0</td>\n",
       "      <td>Write me python3 script that takes in mp3 audi...</td>\n",
       "      <td>ChatGPTCreating a beautiful audio visualizer v...</td>\n",
       "      <td>https://github.com/maxoja/jampify-core/issues/69</td>\n",
       "    </tr>\n",
       "    <tr>\n",
       "      <th>40</th>\n",
       "      <td>8</td>\n",
       "      <td>0</td>\n",
       "      <td>how to make pdf downloader through HTML , CSS ...</td>\n",
       "      <td>ChatGPTCreating a PDF downloader through HTML,...</td>\n",
       "      <td>https://github.com/HimankAtl/Atal/issues/2</td>\n",
       "    </tr>\n",
       "    <tr>\n",
       "      <th>41</th>\n",
       "      <td>9</td>\n",
       "      <td>0</td>\n",
       "      <td>How to run a java class inside of a container ...</td>\n",
       "      <td>ChatGPTTo run a Java class inside a container ...</td>\n",
       "      <td>https://github.com/jabrena/aqa-tests-experimen...</td>\n",
       "    </tr>\n",
       "  </tbody>\n",
       "</table>\n",
       "</div>"
      ],
      "text/plain": [
       "    chat_id  round_id                                             prompt  \\\n",
       "7         3         0  You are an expert search query generator.\\n\\nI...   \n",
       "8         4         0  Please analyse the text below to find the root...   \n",
       "12        6         0  Write me python3 script that takes in mp3 audi...   \n",
       "40        8         0  how to make pdf downloader through HTML , CSS ...   \n",
       "41        9         0  How to run a java class inside of a container ...   \n",
       "\n",
       "                                               answer  \\\n",
       "7   ChatGPTCertainly, here are 10 high-quality sea...   \n",
       "8   ChatGPTHere is the JSON output analyzing the r...   \n",
       "12  ChatGPTCreating a beautiful audio visualizer v...   \n",
       "40  ChatGPTCreating a PDF downloader through HTML,...   \n",
       "41  ChatGPTTo run a Java class inside a container ...   \n",
       "\n",
       "                                        Mentioned_URL  \n",
       "7   https://github.com/CitizensFoundation/policy-s...  \n",
       "8   https://github.com/CitizensFoundation/policy-s...  \n",
       "12   https://github.com/maxoja/jampify-core/issues/69  \n",
       "40         https://github.com/HimankAtl/Atal/issues/2  \n",
       "41  https://github.com/jabrena/aqa-tests-experimen...  "
      ]
     },
     "execution_count": 9,
     "metadata": {},
     "output_type": "execute_result"
    }
   ],
   "source": [
    "df_iss_langfiltered = landetec(df_iss)\n",
    "df_iss_langfiltered.head(5)"
   ]
  },
  {
   "cell_type": "code",
   "execution_count": 10,
   "id": "5b2c0861",
   "metadata": {},
   "outputs": [
    {
     "data": {
      "text/plain": [
       "484"
      ]
     },
     "execution_count": 10,
     "metadata": {},
     "output_type": "execute_result"
    }
   ],
   "source": [
    "len(df_iss_langfiltered.groupby(\"chat_id\"))"
   ]
  },
  {
   "cell_type": "code",
   "execution_count": 11,
   "id": "0f84f405",
   "metadata": {},
   "outputs": [
    {
     "data": {
      "text/plain": [
       "964"
      ]
     },
     "execution_count": 11,
     "metadata": {},
     "output_type": "execute_result"
    }
   ],
   "source": [
    "dropped_duplicates_df_langfiltered = df_iss_langfiltered.drop_duplicates(subset='prompt')\n",
    "len(dropped_duplicates_df_langfiltered)"
   ]
  },
  {
   "cell_type": "code",
   "execution_count": 12,
   "id": "712df3aa",
   "metadata": {},
   "outputs": [
    {
     "data": {
      "text/plain": [
       "401"
      ]
     },
     "execution_count": 12,
     "metadata": {},
     "output_type": "execute_result"
    }
   ],
   "source": [
    "len(dropped_duplicates_df_langfiltered.groupby(\"chat_id\"))"
   ]
  },
  {
   "cell_type": "code",
   "execution_count": 13,
   "id": "b7d60323",
   "metadata": {},
   "outputs": [],
   "source": [
    "size_groups = [len(group) for name, group in dropped_duplicates_df_langfiltered.groupby(\"chat_id\")]\n",
    "\n",
    "df_size = pd.DataFrame(size_groups)"
   ]
  },
  {
   "cell_type": "code",
   "execution_count": 14,
   "id": "e505d0e1",
   "metadata": {},
   "outputs": [
    {
     "data": {
      "text/plain": [
       "array([ 1,  2,  3,  4,  9,  7,  6, 21, 12,  8,  5, 10, 20, 24, 13, 29])"
      ]
     },
     "execution_count": 14,
     "metadata": {},
     "output_type": "execute_result"
    }
   ],
   "source": [
    "df_size[0].unique()"
   ]
  },
  {
   "cell_type": "code",
   "execution_count": 15,
   "id": "0fe13401",
   "metadata": {},
   "outputs": [
    {
     "data": {
      "image/png": "[encoded data removed]",
      "text/plain": [
       "<Figure size 1000x600 with 1 Axes>"
      ]
     },
     "metadata": {},
     "output_type": "display_data"
    }
   ],
   "source": [
    "value_counts = df_size[0].value_counts().sort_index()\n",
    "total_value = df_size[0].count()\n",
    "percentage = (value_counts/total_value)*100\n",
    "\n",
    "# Plotting the frequency distribution\n",
    "plt.figure(figsize=(10, 6))\n",
    "bars = percentage.plot(kind='bar')\n",
    "\n",
    "# Annotate with percentage numbers\n",
    "for bar in bars.patches:\n",
    "    plt.text(bar.get_x() + bar.get_width() / 2 - 0.1, bar.get_height() + 1, f'{bar.get_height():.1f}%', ha='center')\n",
    "\n",
    "#plt.title('Distribution of Prompt - Issues')\n",
    "plt.xlabel('Number of Turns')\n",
    "plt.ylabel('Percentage of Total Conversations(%)')\n",
    "plt.xticks(rotation=0)\n",
    "\n",
    "# Show the plot\n",
    "plt.show()"
   ]
  },
  {
   "cell_type": "code",
   "execution_count": 16,
   "id": "161b84b9",
   "metadata": {},
   "outputs": [
    {
     "data": {
      "text/plain": [
       "count    401.000000\n",
       "mean       2.403990\n",
       "std        3.273589\n",
       "min        1.000000\n",
       "25%        1.000000\n",
       "50%        1.000000\n",
       "80%        3.000000\n",
       "90%        5.000000\n",
       "93%        7.000000\n",
       "94%        8.000000\n",
       "95%        9.000000\n",
       "95.5%      9.000000\n",
       "96%        9.000000\n",
       "97%       10.000000\n",
       "98%       12.000000\n",
       "max       29.000000\n",
       "Name: 0, dtype: float64"
      ]
     },
     "execution_count": 16,
     "metadata": {},
     "output_type": "execute_result"
    }
   ],
   "source": [
    "df_size[0].describe(percentiles=[0.25,0.5,0.80, 0.90,0.93,0.94, 0.95,0.955, 0.96, 0.97, 0.98])"
   ]
  },
  {
   "cell_type": "code",
   "execution_count": 17,
   "id": "5c0679b9",
   "metadata": {},
   "outputs": [
    {
     "name": "stdout",
     "output_type": "stream",
     "text": [
      "378\n"
     ]
    }
   ],
   "source": [
    "#RQ1 data\n",
    "filtered_groups = [group for name, group in dropped_duplicates_df_langfiltered.groupby(\"chat_id\") if len(group) >= 1 and len(group) <= 8]\n",
    "\n",
    "print(len(filtered_groups))   "
   ]
  },
  {
   "cell_type": "code",
   "execution_count": 18,
   "id": "22f0bf10",
   "metadata": {},
   "outputs": [
    {
     "data": {
      "text/plain": [
       "375"
      ]
     },
     "execution_count": 18,
     "metadata": {},
     "output_type": "execute_result"
    }
   ],
   "source": [
    "first_prompts=pd.DataFrame()\n",
    "for group in filtered_groups:\n",
    "        first_prompt = group[group[\"round_id\"] == 0]\n",
    "        first_prompts = pd.concat([first_prompts, first_prompt])\n",
    "len(first_prompts)"
   ]
  },
  {
   "cell_type": "code",
   "execution_count": 19,
   "id": "a254d1d2",
   "metadata": {},
   "outputs": [
    {
     "data": {
      "text/html": [
       "<div>\n",
       "<style scoped>\n",
       "    .dataframe tbody tr th:only-of-type {\n",
       "        vertical-align: middle;\n",
       "    }\n",
       "\n",
       "    .dataframe tbody tr th {\n",
       "        vertical-align: top;\n",
       "    }\n",
       "\n",
       "    .dataframe thead th {\n",
       "        text-align: right;\n",
       "    }\n",
       "</style>\n",
       "<table border=\"1\" class=\"dataframe\">\n",
       "  <thead>\n",
       "    <tr style=\"text-align: right;\">\n",
       "      <th></th>\n",
       "      <th>chat_id</th>\n",
       "      <th>round_id</th>\n",
       "      <th>prompt</th>\n",
       "      <th>answer</th>\n",
       "      <th>Mentioned_URL</th>\n",
       "    </tr>\n",
       "  </thead>\n",
       "  <tbody>\n",
       "    <tr>\n",
       "      <th>7</th>\n",
       "      <td>3</td>\n",
       "      <td>0</td>\n",
       "      <td>You are an expert search query generator.\\n\\nI...</td>\n",
       "      <td>ChatGPTCertainly, here are 10 high-quality sea...</td>\n",
       "      <td>https://github.com/CitizensFoundation/policy-s...</td>\n",
       "    </tr>\n",
       "    <tr>\n",
       "      <th>8</th>\n",
       "      <td>4</td>\n",
       "      <td>0</td>\n",
       "      <td>Please analyse the text below to find the root...</td>\n",
       "      <td>ChatGPTHere is the JSON output analyzing the r...</td>\n",
       "      <td>https://github.com/CitizensFoundation/policy-s...</td>\n",
       "    </tr>\n",
       "    <tr>\n",
       "      <th>12</th>\n",
       "      <td>6</td>\n",
       "      <td>0</td>\n",
       "      <td>Write me python3 script that takes in mp3 audi...</td>\n",
       "      <td>ChatGPTCreating a beautiful audio visualizer v...</td>\n",
       "      <td>https://github.com/maxoja/jampify-core/issues/69</td>\n",
       "    </tr>\n",
       "    <tr>\n",
       "      <th>40</th>\n",
       "      <td>8</td>\n",
       "      <td>0</td>\n",
       "      <td>how to make pdf downloader through HTML , CSS ...</td>\n",
       "      <td>ChatGPTCreating a PDF downloader through HTML,...</td>\n",
       "      <td>https://github.com/HimankAtl/Atal/issues/2</td>\n",
       "    </tr>\n",
       "    <tr>\n",
       "      <th>41</th>\n",
       "      <td>9</td>\n",
       "      <td>0</td>\n",
       "      <td>How to run a java class inside of a container ...</td>\n",
       "      <td>ChatGPTTo run a Java class inside a container ...</td>\n",
       "      <td>https://github.com/jabrena/aqa-tests-experimen...</td>\n",
       "    </tr>\n",
       "  </tbody>\n",
       "</table>\n",
       "</div>"
      ],
      "text/plain": [
       "    chat_id  round_id                                             prompt  \\\n",
       "7         3         0  You are an expert search query generator.\\n\\nI...   \n",
       "8         4         0  Please analyse the text below to find the root...   \n",
       "12        6         0  Write me python3 script that takes in mp3 audi...   \n",
       "40        8         0  how to make pdf downloader through HTML , CSS ...   \n",
       "41        9         0  How to run a java class inside of a container ...   \n",
       "\n",
       "                                               answer  \\\n",
       "7   ChatGPTCertainly, here are 10 high-quality sea...   \n",
       "8   ChatGPTHere is the JSON output analyzing the r...   \n",
       "12  ChatGPTCreating a beautiful audio visualizer v...   \n",
       "40  ChatGPTCreating a PDF downloader through HTML,...   \n",
       "41  ChatGPTTo run a Java class inside a container ...   \n",
       "\n",
       "                                        Mentioned_URL  \n",
       "7   https://github.com/CitizensFoundation/policy-s...  \n",
       "8   https://github.com/CitizensFoundation/policy-s...  \n",
       "12   https://github.com/maxoja/jampify-core/issues/69  \n",
       "40         https://github.com/HimankAtl/Atal/issues/2  \n",
       "41  https://github.com/jabrena/aqa-tests-experimen...  "
      ]
     },
     "execution_count": 19,
     "metadata": {},
     "output_type": "execute_result"
    }
   ],
   "source": [
    "first_prompts.head()"
   ]
  },
  {
   "cell_type": "code",
   "execution_count": 20,
   "id": "c6d2a574",
   "metadata": {},
   "outputs": [
    {
     "data": {
      "text/html": [
       "<div>\n",
       "<style scoped>\n",
       "    .dataframe tbody tr th:only-of-type {\n",
       "        vertical-align: middle;\n",
       "    }\n",
       "\n",
       "    .dataframe tbody tr th {\n",
       "        vertical-align: top;\n",
       "    }\n",
       "\n",
       "    .dataframe thead th {\n",
       "        text-align: right;\n",
       "    }\n",
       "</style>\n",
       "<table border=\"1\" class=\"dataframe\">\n",
       "  <thead>\n",
       "    <tr style=\"text-align: right;\">\n",
       "      <th></th>\n",
       "      <th>chat_id</th>\n",
       "      <th>round_id</th>\n",
       "      <th>prompt</th>\n",
       "      <th>answer</th>\n",
       "    </tr>\n",
       "  </thead>\n",
       "  <tbody>\n",
       "    <tr>\n",
       "      <th>7</th>\n",
       "      <td>3</td>\n",
       "      <td>0</td>\n",
       "      <td>You are an expert search query generator.\\n\\nI...</td>\n",
       "      <td>ChatGPTCertainly, here are 10 high-quality sea...</td>\n",
       "    </tr>\n",
       "    <tr>\n",
       "      <th>8</th>\n",
       "      <td>4</td>\n",
       "      <td>0</td>\n",
       "      <td>Please analyse the text below to find the root...</td>\n",
       "      <td>ChatGPTHere is the JSON output analyzing the r...</td>\n",
       "    </tr>\n",
       "    <tr>\n",
       "      <th>12</th>\n",
       "      <td>6</td>\n",
       "      <td>0</td>\n",
       "      <td>Write me python3 script that takes in mp3 audi...</td>\n",
       "      <td>ChatGPTCreating a beautiful audio visualizer v...</td>\n",
       "    </tr>\n",
       "    <tr>\n",
       "      <th>40</th>\n",
       "      <td>8</td>\n",
       "      <td>0</td>\n",
       "      <td>how to make pdf downloader through HTML , CSS ...</td>\n",
       "      <td>ChatGPTCreating a PDF downloader through HTML,...</td>\n",
       "    </tr>\n",
       "    <tr>\n",
       "      <th>41</th>\n",
       "      <td>9</td>\n",
       "      <td>0</td>\n",
       "      <td>How to run a java class inside of a container ...</td>\n",
       "      <td>ChatGPTTo run a Java class inside a container ...</td>\n",
       "    </tr>\n",
       "  </tbody>\n",
       "</table>\n",
       "</div>"
      ],
      "text/plain": [
       "    chat_id  round_id                                             prompt  \\\n",
       "7         3         0  You are an expert search query generator.\\n\\nI...   \n",
       "8         4         0  Please analyse the text below to find the root...   \n",
       "12        6         0  Write me python3 script that takes in mp3 audi...   \n",
       "40        8         0  how to make pdf downloader through HTML , CSS ...   \n",
       "41        9         0  How to run a java class inside of a container ...   \n",
       "\n",
       "                                               answer  \n",
       "7   ChatGPTCertainly, here are 10 high-quality sea...  \n",
       "8   ChatGPTHere is the JSON output analyzing the r...  \n",
       "12  ChatGPTCreating a beautiful audio visualizer v...  \n",
       "40  ChatGPTCreating a PDF downloader through HTML,...  \n",
       "41  ChatGPTTo run a Java class inside a container ...  "
      ]
     },
     "execution_count": 20,
     "metadata": {},
     "output_type": "execute_result"
    }
   ],
   "source": [
    "first_prompts_rq1 = first_prompts[['chat_id','round_id','prompt','answer']]\n",
    "first_prompts_rq1.head()"
   ]
  },
  {
   "cell_type": "code",
   "execution_count": 21,
   "id": "7ed2ae6e",
   "metadata": {},
   "outputs": [],
   "source": [
    "first_prompts_rq1.to_excel(\"rq1_data_issue.xlsx\", index=False)\n",
    "#first_prompts_rq1.to_csv(\"rq1_data_issue.xlsx\", index=False)"
   ]
  },
  {
   "cell_type": "code",
   "execution_count": 22,
   "id": "d4682c3e",
   "metadata": {},
   "outputs": [
    {
     "data": {
      "text/plain": [
       "125"
      ]
     },
     "execution_count": 22,
     "metadata": {},
     "output_type": "execute_result"
    }
   ],
   "source": [
    "#RQ2 data\n",
    "multiturn = [group for name, group in dropped_duplicates_df_langfiltered.groupby(\"chat_id\") if len(group) >= 2 and len(group) <= 8]\n",
    "len(multiturn)"
   ]
  },
  {
   "cell_type": "code",
   "execution_count": 23,
   "id": "d3b7400a",
   "metadata": {},
   "outputs": [
    {
     "data": {
      "text/plain": [
       "409"
      ]
     },
     "execution_count": 23,
     "metadata": {},
     "output_type": "execute_result"
    }
   ],
   "source": [
    "df_multiturn = pd.concat(multiturn)\n",
    "len(df_multiturn)"
   ]
  },
  {
   "cell_type": "code",
   "execution_count": 24,
   "id": "4a03d19b",
   "metadata": {},
   "outputs": [
    {
     "ename": "IllegalCharacterError",
     "evalue": "Do not answer yet. This is just another part of the text I want to send you. Just receive and acknowledge as \"Part 2/3 received\" and wait for the next part.\n[START PART 2/3]\nsion dmodel\nas the embeddings, so that the two can be summed. There are many choices of positional encodings,\nlearned and fixed [8].\nIn this work, we use sine and cosine functions of different frequencies:\nP E(pos,2i) = sin(pos/100002i/dmodel)\nP E(pos,2i+1) = cos(pos/100002i/dmodel)\nwhere pos is the position and i is the dimension. That is, each dimension of the positional encoding\ncorresponds to a sinusoid. The wavelengths form a geometric progression from 2π to 10000 · 2π. We\nchose this function because we hypothesized it would allow the model to easily learn to attend by\nrelative positions, since for any fixed offset k, P Epos+k can be represented as a linear function of\nP Epos.\nWe also experimented with using learned positional embeddings [8] instead, and found that the two\nversions produced nearly identical results (see Table 3 row (E)). We chose the sinusoidal version\nbecause it may allow the model to extrapolate to sequence lengths longer than the ones encountered\nduring training.\n4 Why Self-Attention\nIn this section we compare various aspects of self-attention layers to the recurrent and convolutional layers commonly used for mapping one variable-length sequence of symbol representations\n(x1, ..., xn) to another sequence of equal length (z1, ..., zn), with xi\n, zi ∈ R\nd\n, such as a hidden\nlayer in a typical sequence transduction encoder or decoder. Motivating our use of self-attention we\nconsider three desiderata.\nOne is the total computational complexity per layer. Another is the amount of computation that can\nbe parallelized, as measured by the minimum number of sequential operations required.\nThe third is the path length between long-range dependencies in the network. Learning long-range\ndependencies is a key challenge in many sequence transduction tasks. One key factor affecting the\nability to learn such dependencies is the length of the paths forward and backward signals have to\ntraverse in the network. The shorter these paths between any combination of positions in the input\nand output sequences, the easier it is to learn long-range dependencies [11]. Hence we also compare\nthe maximum path length between any two input and output positions in networks composed of the\ndifferent layer types.\nAs noted in Table 1, a self-attention layer connects all positions with a constant number of sequentially\nexecuted operations, whereas a recurrent layer requires O(n) sequential operations. In terms of\ncomputational complexity, self-attention layers are faster than recurrent layers when the sequence\nlength n is smaller than the representation dimensionality d, which is most often the case with\nsentence representations used by state-of-the-art models in machine translations, such as word-piece\n[31] and byte-pair [25] representations. To improve computational performance for tasks involving\nvery long sequences, self-attention could be restricted to considering only a neighborhood of size r in\n6\nthe input sequence centered around the respective output position. This would increase the maximum\npath length to O(n/r). We plan to investigate this approach further in future work.\nA single convolutional layer with kernel width k < n does not connect all pairs of input and output\npositions. Doing so requires a stack of O(n/k) convolutional layers in the case of contiguous kernels,\nor O(logk(n)) in the case of dilated convolutions [15], increasing the length of the longest paths\nbetween any two positions in the network. Convolutional layers are generally more expensive than\nrecurrent layers, by a factor of k. Separable convolutions [6], however, decrease the complexity\nconsiderably, to O(k · n · d + n · d\n2\n). Even with k = n, however, the complexity of a separable\nconvolution is equal to the combination of a self-attention layer and a point-wise feed-forward layer,\nthe approach we take in our model.\nAs side benefit, self-attention could yield more interpretable models. We inspect attention distributions\nfrom our models and present and discuss examples in the appendix. Not only do individual attention\nheads clearly learn to perform different tasks, many appear to exhibit behavior related to the syntactic\nand semantic structure of the sentences.\n5 Training\nThis section describes the training regime for our models.\n5.1 Training Data and Batching\nWe trained on the standard WMT 2014 English-German dataset consisting of about 4.5 million\nsentence pairs. Sentences were encoded using byte-pair encoding [3], which has a shared sourcetarget vocabulary of about 37000 tokens. For English-French, we used the significantly larger WMT\n2014 English-French dataset consisting of 36M sentences and split tokens into a 32000 word-piece\nvocabulary [31]. Sentence pairs were batched together by approximate sequence length. Each training\nbatch contained a set of sentence pairs containing approximately 25000 source tokens and 25000\ntarget tokens.\n5.2 Hardware and Schedule\nWe trained our models on one machine with 8 NVIDIA P100 GPUs. For our base models using\nthe hyperparameters described throughout the paper, each training step took about 0.4 seconds. We\ntrained the base models for a total of 100,000 steps or 12 hours. For our big models,(described on the\nbottom line of table 3), step time was 1.0 seconds. The big models were trained for 300,000 steps\n(3.5 days).\n5.3 Optimizer\nWe used the Adam optimizer [17] with β1 = 0.9, β2 = 0.98 and \u000f = 10−9\n. We varied the learning\nrate over the course of training, according to the formula:\nlrate = d\n−0.5\nmodel · min(step_num−0.5\n, step_num · warmup_steps−1.5\n) (3)\nThis corresponds to increasing the learning rate linearly for the first warmup_steps training steps,\nand decreasing it thereafter proportionally to the inverse square root of the step number. We used\nwarmup_steps = 4000.\n5.4 Regularization\nWe employ three types of regularization during training:\nResidual Dropout We apply dropout [27] to the output of each sub-layer, before it is added to the\nsub-layer input and normalized. In addition, we apply dropout to the sums of the embeddings and the\npositional encodings in both the encoder and decoder stacks. For the base model, we use a rate of\nPdrop = 0.1.\n7\nTable 2: The Transformer achieves better BLEU scores than previous state-of-the-art models on the\nEnglish-to-German and English-to-French newstest2014 tests at a fraction of the training cost.\nModel\nBLEU Training Cost (FLOPs)\nEN-DE EN-FR EN-DE EN-FR\nByteNet [15] 23.75\nDeep-Att + PosUnk [32] 39.2 1.0 · 1020\nGNMT + RL [31] 24.6 39.92 2.3 · 1019 1.4 · 1020\nConvS2S [8] 25.16 40.46 9.6 · 1018 1.5 · 1020\nMoE [26] 26.03 40.56 2.0 · 1019 1.2 · 1020\nDeep-Att + PosUnk Ensemble [32] 40.4 8.0 · 1020\nGNMT + RL Ensemble [31] 26.30 41.16 1.8 · 1020 1.1 · 1021\nConvS2S Ensemble [8] 26.36 41.29 7.7 · 1019 1.2 · 1021\nTransformer (base model) 27.3 38.1 3.3 · 1018\nTransformer (big) 28.4 41.0 2.3 · 1019\nLabel Smoothing During training, we employed label smoothing of value \u000fls = 0.1 [30]. This\nhurts perplexity, as the model learns to be more unsure, but improves accuracy and BLEU score.\n6 Results\n6.1 Machine Translation\nOn the WMT 2014 English-to-German translation task, the big transformer model (Transformer (big)\nin Table 2) outperforms the best previously reported models (including ensembles) by more than 2.0\nBLEU, establishing a new state-of-the-art BLEU score of 28.4. The configuration of this model is\nlisted in the bottom line of Table 3. Training took 3.5 days on 8 P100 GPUs. Even our base model\nsurpasses all previously published models and ensembles, at a fraction of the training cost of any of\nthe competitive models.\nOn the WMT 2014 English-to-French translation task, our big model achieves a BLEU score of 41.0,\noutperforming all of the previously published single models, at less than 1/4 the training cost of the\nprevious state-of-the-art model. The Transformer (big) model trained for English-to-French used\ndropout rate Pdrop = 0.1, instead of 0.3.\nFor the base models, we used a single model obtained by averaging the last 5 checkpoints, which\nwere written at 10-minute intervals. For the big models, we averaged the last 20 checkpoints. We\nused beam search with a beam size of 4 and length penalty α = 0.6 [31]. These hyperparameters\nwere chosen after experimentation on the development set. We set the maximum output length during\ninference to input length + 50, but terminate early when possible [31].\nTable 2 summarizes our results and compares our translation quality and training costs to other model\narchitectures from the literature. We estimate the number of floating point operations used to train a\nmodel by multiplying the training time, the number of GPUs used, and an estimate of the sustained\nsingle-precision floating-point capacity of each GPU 5\n.\n6.2 Model Variations\nTo evaluate the importance of different components of the Transformer, we varied our base model\nin different ways, measuring the change in performance on English-to-German translation on the\ndevelopment set, newstest2013. We used beam search as described in the previous section, but no\ncheckpoint averaging. We present these results in Table 3.\nIn Table 3 rows (A), we vary the number of attention heads and the attention key and value dimensions,\nkeeping the amount of computation constant, as described in Section 3.2.2. While single-head\nattention is 0.9 BLEU worse than the best setting, quality also drops off with too many heads.\n5We used values of 2.8, 3.7, 6.0 and 9.5 TFLOPS for K80, K40, M40 and P100, respectively.\n8\nTable 3: Variations on the Transformer architecture. Unlisted values are identical to those of the base\nmodel. All metrics are on the English-to-German translation development set, newstest2013. Listed\nperplexities are per-wordpiece, according to our byte-pair encoding, and should not be compared to\nper-word perplexities.\nN dmodel dff h dk dv Pdrop \u000fls\ntrain PPL BLEU params\nsteps (dev) (dev) ×106\nbase 6 512 2048 8 64 64 0.1 0.1 100K 4.92 25.8 65\n(A)\n1 512 512 5.29 24.9\n4 128 128 5.00 25.5\n16 32 32 4.91 25.8\n32 16 16 5.01 25.4\n(B) 16 5.16 25.1 58\n32 5.01 25.4 60\n(C)\n2 6.11 23.7 36\n4 5.19 25.3 50\n8 4.88 25.5 80\n256 32 32 5.75 24.5 28\n1024 128 128 4.66 26.0 168\n1024 5.12 25.4 53\n4096 4.75 26.2 90\n(D)\n0.0 5.77 24.6\n0.2 4.95 25.5\n0.0 4.67 25.3\n0.2 5.47 25.7\n(E) positional embedding instead of sinusoids 4.92 25.7\nbig 6 1024 4096 16 0.3 300K 4.33 26.4 213\nIn Table 3 rows (B), we observe that reducing the attention key size dk hurts model quality. This\nsuggests that determining compatibility is not easy and that a more sophisticated compatibility\nfunction than dot product may be beneficial. We further observe in rows (C) and (D) that, as expected,\nbigger models are better, and dropout is very helpful in avoiding over-fitting. In row (E) we replace our\nsinusoidal positional encoding with learned positional embeddings [8], and observe nearly identical\nresults to the base model.\n7 Conclusion\nIn this work, we presented the Transformer, the first sequence transduction model based entirely on\nattention, replacing the recurrent layers most commonly used in encoder-decoder architectures with\nmulti-headed self-attention.\nFor translation tasks, the Transformer can be trained significantly faster than architectures based\non recurrent or convolutional layers. On both WMT 2014 English-to-German and WMT 2014\nEnglish-to-French translation tasks, we achieve a new state of the art. In the former task our best\nmodel outperforms even all previously reported ensembles.\nWe are excited about the future of attention-based models and plan to apply them to other tasks. We\nplan to extend the Transformer to problems involving input and output modalities other than text and\nto investigate local, restricted attention mechanisms to efficiently handle large inputs and outputs\nsuch as images, audio and video. Making generation less sequential is another research goals of ours.\nThe code we used to train and evaluate our models is available at https://github.com/\ntensorflow/tensor2tensor.\nAcknowledgements We are grateful to Nal Kalchbrenner and Stephan Gouws for their fruitful\ncomments, corrections and inspiration.\n9\nReferences\n[1] Jimmy Lei Ba, Jamie Ryan Kiros, and Geoffrey E Hinton. Layer normalization. arXiv preprint\narXiv:1607.06450, 2016.\n[2] Dzmitry Bahdanau, Kyunghyun Cho, and Yoshua Bengio. Neural machine translation by jointly\nlearning to align and translate. CoRR, abs/1409.0473, 2014.\n[3] Denny Britz, Anna Goldie, Minh-Thang Luong, and Quoc V. Le. Massive exploration of neural\nmachine translation architectures. CoRR, abs/1703.03906, 2017.\n[4] Jianpeng Cheng, Li Dong, and Mirella Lapata. Long short-term memory-networks for machine\nreading. arXiv preprint arXiv:1601.06733, 2016.\n[5] Kyunghyun Cho, Bart van Merrienboer, Caglar Gulcehre, Fethi Bougares, Holger Schwenk,\nand Yoshua Bengio. Learning phrase representations using rnn encoder-decoder for statistical\nmachine translation. CoRR, abs/1406.1078, 2014.\n[6] Francois Chollet. Xception: Deep learning with depthwise separable convolutions. arXiv\npreprint arXiv:1610.02357, 2016.\n[7] Junyoung Chung, Çaglar Gülçehre, Kyunghyun Cho, and Yoshua Bengio. Empirical evaluation\nof gated recurrent neural networks on sequence modeling. CoRR, abs/1412.3555, 2014.\n[8] Jonas Gehring, Michael Auli, David Grangier, Denis Yarats, and Yann N. Dauphin. Convolutional sequence to sequence learning. arXiv preprint arXiv:1705.03122v2, 2017.\n[9] Alex Graves. Generating sequences with recurrent neural networks. arXiv preprint\narXiv:1308.0850, 2013.\n[10] Kaiming He, Xiangyu Zhang, Shaoqing Ren, and Jian Sun. Deep residual learning for image recognition. In Proceedings of the IEEE Conference on Computer Vision and Pattern\nRecognition, pages 770–778, 2016.\n[11] Sepp Hochreiter, Yoshua Bengio, Paolo Frasconi, and Jürgen Schmidhuber. Gradient flow in\nrecurrent nets: the difficulty of learning long-term dependencies, 2001.\n[12] Sepp Hochreiter and Jürgen Schmidhuber. Long short-term memory. Neural computation,\n9(8):1735–1780, 1997.\n[13] Rafal Jozefowicz, Oriol Vinyals, Mike Schuster, Noam Shazeer, and Yonghui Wu. Exploring\nthe limits of language modeling. arXiv preprint arXiv:1602.02410, 2016.\n[14] Łukasz Kaiser and Ilya Sutskever. Neural GPUs learn algorithms. In International Conference\non Learning Representations (ICLR), 2016.\n[15] Nal Kalchbrenner, Lasse Espeholt, Karen Simonyan, Aaron van den Oord, Alex Graves, and Koray Kavukcuoglu. Neural machine translation in linear time. arXiv preprint arXiv:1610.10099v2,\n2017.\n[16] Yoon Kim, Carl Denton, Luong Hoang, and Alexander M. Rush. Structured attention networks.\nIn International Conference on Learning Representations, 2017.\n[17] Diederik Kingma and Jimmy Ba. Adam: A method for stochastic optimization. In ICLR, 2015.\n[18] Oleksi\n[END PART 2/3]\nRemember not answering yet. Just acknowledge you received this part with the message \"Part 2/3 received\" and wait for the next part. cannot be used in worksheets.",
     "output_type": "error",
     "traceback": [
      "\u001b[0;31m---------------------------------------------------------------------------\u001b[0m",
      "\u001b[0;31mIllegalCharacterError\u001b[0m                     Traceback (most recent call last)",
      "Cell \u001b[0;32mIn[24], line 1\u001b[0m\n\u001b[0;32m----> 1\u001b[0m \u001b[43mdf_multiturn\u001b[49m\u001b[38;5;241;43m.\u001b[39;49m\u001b[43mto_excel\u001b[49m\u001b[43m(\u001b[49m\u001b[38;5;124;43m\"\u001b[39;49m\u001b[38;5;124;43mrq2_data_issue.xlsx\u001b[39;49m\u001b[38;5;124;43m\"\u001b[39;49m\u001b[43m,\u001b[49m\u001b[43m \u001b[49m\u001b[43mindex\u001b[49m\u001b[38;5;241;43m=\u001b[39;49m\u001b[38;5;28;43;01mFalse\u001b[39;49;00m\u001b[43m)\u001b[49m\n",
      "File \u001b[0;32m~/conda-envs/pythonenv/lib/python3.10/site-packages/pandas/core/generic.py:2345\u001b[0m, in \u001b[0;36mNDFrame.to_excel\u001b[0;34m(self, excel_writer, sheet_name, na_rep, float_format, columns, header, index, index_label, startrow, startcol, engine, merge_cells, inf_rep, freeze_panes, storage_options, engine_kwargs)\u001b[0m\n\u001b[1;32m   2332\u001b[0m \u001b[38;5;28;01mfrom\u001b[39;00m \u001b[38;5;21;01mpandas\u001b[39;00m\u001b[38;5;21;01m.\u001b[39;00m\u001b[38;5;21;01mio\u001b[39;00m\u001b[38;5;21;01m.\u001b[39;00m\u001b[38;5;21;01mformats\u001b[39;00m\u001b[38;5;21;01m.\u001b[39;00m\u001b[38;5;21;01mexcel\u001b[39;00m \u001b[38;5;28;01mimport\u001b[39;00m ExcelFormatter\n\u001b[1;32m   2334\u001b[0m formatter \u001b[38;5;241m=\u001b[39m ExcelFormatter(\n\u001b[1;32m   2335\u001b[0m     df,\n\u001b[1;32m   2336\u001b[0m     na_rep\u001b[38;5;241m=\u001b[39mna_rep,\n\u001b[0;32m   (...)\u001b[0m\n\u001b[1;32m   2343\u001b[0m     inf_rep\u001b[38;5;241m=\u001b[39minf_rep,\n\u001b[1;32m   2344\u001b[0m )\n\u001b[0;32m-> 2345\u001b[0m \u001b[43mformatter\u001b[49m\u001b[38;5;241;43m.\u001b[39;49m\u001b[43mwrite\u001b[49m\u001b[43m(\u001b[49m\n\u001b[1;32m   2346\u001b[0m \u001b[43m    \u001b[49m\u001b[43mexcel_writer\u001b[49m\u001b[43m,\u001b[49m\n\u001b[1;32m   2347\u001b[0m \u001b[43m    \u001b[49m\u001b[43msheet_name\u001b[49m\u001b[38;5;241;43m=\u001b[39;49m\u001b[43msheet_name\u001b[49m\u001b[43m,\u001b[49m\n\u001b[1;32m   2348\u001b[0m \u001b[43m    \u001b[49m\u001b[43mstartrow\u001b[49m\u001b[38;5;241;43m=\u001b[39;49m\u001b[43mstartrow\u001b[49m\u001b[43m,\u001b[49m\n\u001b[1;32m   2349\u001b[0m \u001b[43m    \u001b[49m\u001b[43mstartcol\u001b[49m\u001b[38;5;241;43m=\u001b[39;49m\u001b[43mstartcol\u001b[49m\u001b[43m,\u001b[49m\n\u001b[1;32m   2350\u001b[0m \u001b[43m    \u001b[49m\u001b[43mfreeze_panes\u001b[49m\u001b[38;5;241;43m=\u001b[39;49m\u001b[43mfreeze_panes\u001b[49m\u001b[43m,\u001b[49m\n\u001b[1;32m   2351\u001b[0m \u001b[43m    \u001b[49m\u001b[43mengine\u001b[49m\u001b[38;5;241;43m=\u001b[39;49m\u001b[43mengine\u001b[49m\u001b[43m,\u001b[49m\n\u001b[1;32m   2352\u001b[0m \u001b[43m    \u001b[49m\u001b[43mstorage_options\u001b[49m\u001b[38;5;241;43m=\u001b[39;49m\u001b[43mstorage_options\u001b[49m\u001b[43m,\u001b[49m\n\u001b[1;32m   2353\u001b[0m \u001b[43m    \u001b[49m\u001b[43mengine_kwargs\u001b[49m\u001b[38;5;241;43m=\u001b[39;49m\u001b[43mengine_kwargs\u001b[49m\u001b[43m,\u001b[49m\n\u001b[1;32m   2354\u001b[0m \u001b[43m\u001b[49m\u001b[43m)\u001b[49m\n",
      "File \u001b[0;32m~/conda-envs/pythonenv/lib/python3.10/site-packages/pandas/io/formats/excel.py:955\u001b[0m, in \u001b[0;36mExcelFormatter.write\u001b[0;34m(self, writer, sheet_name, startrow, startcol, freeze_panes, engine, storage_options, engine_kwargs)\u001b[0m\n\u001b[1;32m    952\u001b[0m     need_save \u001b[38;5;241m=\u001b[39m \u001b[38;5;28;01mTrue\u001b[39;00m\n\u001b[1;32m    954\u001b[0m \u001b[38;5;28;01mtry\u001b[39;00m:\n\u001b[0;32m--> 955\u001b[0m     \u001b[43mwriter\u001b[49m\u001b[38;5;241;43m.\u001b[39;49m\u001b[43m_write_cells\u001b[49m\u001b[43m(\u001b[49m\n\u001b[1;32m    956\u001b[0m \u001b[43m        \u001b[49m\u001b[43mformatted_cells\u001b[49m\u001b[43m,\u001b[49m\n\u001b[1;32m    957\u001b[0m \u001b[43m        \u001b[49m\u001b[43msheet_name\u001b[49m\u001b[43m,\u001b[49m\n\u001b[1;32m    958\u001b[0m \u001b[43m        \u001b[49m\u001b[43mstartrow\u001b[49m\u001b[38;5;241;43m=\u001b[39;49m\u001b[43mstartrow\u001b[49m\u001b[43m,\u001b[49m\n\u001b[1;32m    959\u001b[0m \u001b[43m        \u001b[49m\u001b[43mstartcol\u001b[49m\u001b[38;5;241;43m=\u001b[39;49m\u001b[43mstartcol\u001b[49m\u001b[43m,\u001b[49m\n\u001b[1;32m    960\u001b[0m \u001b[43m        \u001b[49m\u001b[43mfreeze_panes\u001b[49m\u001b[38;5;241;43m=\u001b[39;49m\u001b[43mfreeze_panes\u001b[49m\u001b[43m,\u001b[49m\n\u001b[1;32m    961\u001b[0m \u001b[43m    \u001b[49m\u001b[43m)\u001b[49m\n\u001b[1;32m    962\u001b[0m \u001b[38;5;28;01mfinally\u001b[39;00m:\n\u001b[1;32m    963\u001b[0m     \u001b[38;5;66;03m# make sure to close opened file handles\u001b[39;00m\n\u001b[1;32m    964\u001b[0m     \u001b[38;5;28;01mif\u001b[39;00m need_save:\n",
      "File \u001b[0;32m~/conda-envs/pythonenv/lib/python3.10/site-packages/pandas/io/excel/_openpyxl.py:490\u001b[0m, in \u001b[0;36mOpenpyxlWriter._write_cells\u001b[0;34m(self, cells, sheet_name, startrow, startcol, freeze_panes)\u001b[0m\n\u001b[1;32m    486\u001b[0m \u001b[38;5;28;01mfor\u001b[39;00m cell \u001b[38;5;129;01min\u001b[39;00m cells:\n\u001b[1;32m    487\u001b[0m     xcell \u001b[38;5;241m=\u001b[39m wks\u001b[38;5;241m.\u001b[39mcell(\n\u001b[1;32m    488\u001b[0m         row\u001b[38;5;241m=\u001b[39mstartrow \u001b[38;5;241m+\u001b[39m cell\u001b[38;5;241m.\u001b[39mrow \u001b[38;5;241m+\u001b[39m \u001b[38;5;241m1\u001b[39m, column\u001b[38;5;241m=\u001b[39mstartcol \u001b[38;5;241m+\u001b[39m cell\u001b[38;5;241m.\u001b[39mcol \u001b[38;5;241m+\u001b[39m \u001b[38;5;241m1\u001b[39m\n\u001b[1;32m    489\u001b[0m     )\n\u001b[0;32m--> 490\u001b[0m     xcell\u001b[38;5;241m.\u001b[39mvalue, fmt \u001b[38;5;241m=\u001b[39m \u001b[38;5;28mself\u001b[39m\u001b[38;5;241m.\u001b[39m_value_with_fmt(cell\u001b[38;5;241m.\u001b[39mval)\n\u001b[1;32m    491\u001b[0m     \u001b[38;5;28;01mif\u001b[39;00m fmt:\n\u001b[1;32m    492\u001b[0m         xcell\u001b[38;5;241m.\u001b[39mnumber_format \u001b[38;5;241m=\u001b[39m fmt\n",
      "File \u001b[0;32m~/conda-envs/pythonenv/lib/python3.10/site-packages/openpyxl/cell/cell.py:218\u001b[0m, in \u001b[0;36mCell.value\u001b[0;34m(self, value)\u001b[0m\n\u001b[1;32m    215\u001b[0m \u001b[38;5;129m@value\u001b[39m\u001b[38;5;241m.\u001b[39msetter\n\u001b[1;32m    216\u001b[0m \u001b[38;5;28;01mdef\u001b[39;00m \u001b[38;5;21mvalue\u001b[39m(\u001b[38;5;28mself\u001b[39m, value):\n\u001b[1;32m    217\u001b[0m \u001b[38;5;250m    \u001b[39m\u001b[38;5;124;03m\"\"\"Set the value and infer type and display options.\"\"\"\u001b[39;00m\n\u001b[0;32m--> 218\u001b[0m     \u001b[38;5;28;43mself\u001b[39;49m\u001b[38;5;241;43m.\u001b[39;49m\u001b[43m_bind_value\u001b[49m\u001b[43m(\u001b[49m\u001b[43mvalue\u001b[49m\u001b[43m)\u001b[49m\n",
      "File \u001b[0;32m~/conda-envs/pythonenv/lib/python3.10/site-packages/openpyxl/cell/cell.py:197\u001b[0m, in \u001b[0;36mCell._bind_value\u001b[0;34m(self, value)\u001b[0m\n\u001b[1;32m    194\u001b[0m         \u001b[38;5;28mself\u001b[39m\u001b[38;5;241m.\u001b[39mnumber_format \u001b[38;5;241m=\u001b[39m get_time_format(t)\n\u001b[1;32m    196\u001b[0m \u001b[38;5;28;01melif\u001b[39;00m dt \u001b[38;5;241m==\u001b[39m \u001b[38;5;124m\"\u001b[39m\u001b[38;5;124ms\u001b[39m\u001b[38;5;124m\"\u001b[39m \u001b[38;5;129;01mand\u001b[39;00m \u001b[38;5;129;01mnot\u001b[39;00m \u001b[38;5;28misinstance\u001b[39m(value, CellRichText):\n\u001b[0;32m--> 197\u001b[0m     value \u001b[38;5;241m=\u001b[39m \u001b[38;5;28;43mself\u001b[39;49m\u001b[38;5;241;43m.\u001b[39;49m\u001b[43mcheck_string\u001b[49m\u001b[43m(\u001b[49m\u001b[43mvalue\u001b[49m\u001b[43m)\u001b[49m\n\u001b[1;32m    198\u001b[0m     \u001b[38;5;28;01mif\u001b[39;00m \u001b[38;5;28mlen\u001b[39m(value) \u001b[38;5;241m>\u001b[39m \u001b[38;5;241m1\u001b[39m \u001b[38;5;129;01mand\u001b[39;00m value\u001b[38;5;241m.\u001b[39mstartswith(\u001b[38;5;124m\"\u001b[39m\u001b[38;5;124m=\u001b[39m\u001b[38;5;124m\"\u001b[39m):\n\u001b[1;32m    199\u001b[0m         \u001b[38;5;28mself\u001b[39m\u001b[38;5;241m.\u001b[39mdata_type \u001b[38;5;241m=\u001b[39m \u001b[38;5;124m'\u001b[39m\u001b[38;5;124mf\u001b[39m\u001b[38;5;124m'\u001b[39m\n",
      "File \u001b[0;32m~/conda-envs/pythonenv/lib/python3.10/site-packages/openpyxl/cell/cell.py:165\u001b[0m, in \u001b[0;36mCell.check_string\u001b[0;34m(self, value)\u001b[0m\n\u001b[1;32m    163\u001b[0m value \u001b[38;5;241m=\u001b[39m value[:\u001b[38;5;241m32767\u001b[39m]\n\u001b[1;32m    164\u001b[0m \u001b[38;5;28;01mif\u001b[39;00m \u001b[38;5;28mnext\u001b[39m(ILLEGAL_CHARACTERS_RE\u001b[38;5;241m.\u001b[39mfinditer(value), \u001b[38;5;28;01mNone\u001b[39;00m):\n\u001b[0;32m--> 165\u001b[0m     \u001b[38;5;28;01mraise\u001b[39;00m IllegalCharacterError(\u001b[38;5;124mf\u001b[39m\u001b[38;5;124m\"\u001b[39m\u001b[38;5;132;01m{\u001b[39;00mvalue\u001b[38;5;132;01m}\u001b[39;00m\u001b[38;5;124m cannot be used in worksheets.\u001b[39m\u001b[38;5;124m\"\u001b[39m)\n\u001b[1;32m    166\u001b[0m \u001b[38;5;28;01mreturn\u001b[39;00m value\n",
      "\u001b[0;31mIllegalCharacterError\u001b[0m: Do not answer yet. This is just another part of the text I want to send you. Just receive and acknowledge as \"Part 2/3 received\" and wait for the next part.\n[START PART 2/3]\nsion dmodel\nas the embeddings, so that the two can be summed. There are many choices of positional encodings,\nlearned and fixed [8].\nIn this work, we use sine and cosine functions of different frequencies:\nP E(pos,2i) = sin(pos/100002i/dmodel)\nP E(pos,2i+1) = cos(pos/100002i/dmodel)\nwhere pos is the position and i is the dimension. That is, each dimension of the positional encoding\ncorresponds to a sinusoid. The wavelengths form a geometric progression from 2π to 10000 · 2π. We\nchose this function because we hypothesized it would allow the model to easily learn to attend by\nrelative positions, since for any fixed offset k, P Epos+k can be represented as a linear function of\nP Epos.\nWe also experimented with using learned positional embeddings [8] instead, and found that the two\nversions produced nearly identical results (see Table 3 row (E)). We chose the sinusoidal version\nbecause it may allow the model to extrapolate to sequence lengths longer than the ones encountered\nduring training.\n4 Why Self-Attention\nIn this section we compare various aspects of self-attention layers to the recurrent and convolutional layers commonly used for mapping one variable-length sequence of symbol representations\n(x1, ..., xn) to another sequence of equal length (z1, ..., zn), with xi\n, zi ∈ R\nd\n, such as a hidden\nlayer in a typical sequence transduction encoder or decoder. Motivating our use of self-attention we\nconsider three desiderata.\nOne is the total computational complexity per layer. Another is the amount of computation that can\nbe parallelized, as measured by the minimum number of sequential operations required.\nThe third is the path length between long-range dependencies in the network. Learning long-range\ndependencies is a key challenge in many sequence transduction tasks. One key factor affecting the\nability to learn such dependencies is the length of the paths forward and backward signals have to\ntraverse in the network. The shorter these paths between any combination of positions in the input\nand output sequences, the easier it is to learn long-range dependencies [11]. Hence we also compare\nthe maximum path length between any two input and output positions in networks composed of the\ndifferent layer types.\nAs noted in Table 1, a self-attention layer connects all positions with a constant number of sequentially\nexecuted operations, whereas a recurrent layer requires O(n) sequential operations. In terms of\ncomputational complexity, self-attention layers are faster than recurrent layers when the sequence\nlength n is smaller than the representation dimensionality d, which is most often the case with\nsentence representations used by state-of-the-art models in machine translations, such as word-piece\n[31] and byte-pair [25] representations. To improve computational performance for tasks involving\nvery long sequences, self-attention could be restricted to considering only a neighborhood of size r in\n6\nthe input sequence centered around the respective output position. This would increase the maximum\npath length to O(n/r). We plan to investigate this approach further in future work.\nA single convolutional layer with kernel width k < n does not connect all pairs of input and output\npositions. Doing so requires a stack of O(n/k) convolutional layers in the case of contiguous kernels,\nor O(logk(n)) in the case of dilated convolutions [15], increasing the length of the longest paths\nbetween any two positions in the network. Convolutional layers are generally more expensive than\nrecurrent layers, by a factor of k. Separable convolutions [6], however, decrease the complexity\nconsiderably, to O(k · n · d + n · d\n2\n). Even with k = n, however, the complexity of a separable\nconvolution is equal to the combination of a self-attention layer and a point-wise feed-forward layer,\nthe approach we take in our model.\nAs side benefit, self-attention could yield more interpretable models. We inspect attention distributions\nfrom our models and present and discuss examples in the appendix. Not only do individual attention\nheads clearly learn to perform different tasks, many appear to exhibit behavior related to the syntactic\nand semantic structure of the sentences.\n5 Training\nThis section describes the training regime for our models.\n5.1 Training Data and Batching\nWe trained on the standard WMT 2014 English-German dataset consisting of about 4.5 million\nsentence pairs. Sentences were encoded using byte-pair encoding [3], which has a shared sourcetarget vocabulary of about 37000 tokens. For English-French, we used the significantly larger WMT\n2014 English-French dataset consisting of 36M sentences and split tokens into a 32000 word-piece\nvocabulary [31]. Sentence pairs were batched together by approximate sequence length. Each training\nbatch contained a set of sentence pairs containing approximately 25000 source tokens and 25000\ntarget tokens.\n5.2 Hardware and Schedule\nWe trained our models on one machine with 8 NVIDIA P100 GPUs. For our base models using\nthe hyperparameters described throughout the paper, each training step took about 0.4 seconds. We\ntrained the base models for a total of 100,000 steps or 12 hours. For our big models,(described on the\nbottom line of table 3), step time was 1.0 seconds. The big models were trained for 300,000 steps\n(3.5 days).\n5.3 Optimizer\nWe used the Adam optimizer [17] with β1 = 0.9, β2 = 0.98 and \u000f = 10−9\n. We varied the learning\nrate over the course of training, according to the formula:\nlrate = d\n−0.5\nmodel · min(step_num−0.5\n, step_num · warmup_steps−1.5\n) (3)\nThis corresponds to increasing the learning rate linearly for the first warmup_steps training steps,\nand decreasing it thereafter proportionally to the inverse square root of the step number. We used\nwarmup_steps = 4000.\n5.4 Regularization\nWe employ three types of regularization during training:\nResidual Dropout We apply dropout [27] to the output of each sub-layer, before it is added to the\nsub-layer input and normalized. In addition, we apply dropout to the sums of the embeddings and the\npositional encodings in both the encoder and decoder stacks. For the base model, we use a rate of\nPdrop = 0.1.\n7\nTable 2: The Transformer achieves better BLEU scores than previous state-of-the-art models on the\nEnglish-to-German and English-to-French newstest2014 tests at a fraction of the training cost.\nModel\nBLEU Training Cost (FLOPs)\nEN-DE EN-FR EN-DE EN-FR\nByteNet [15] 23.75\nDeep-Att + PosUnk [32] 39.2 1.0 · 1020\nGNMT + RL [31] 24.6 39.92 2.3 · 1019 1.4 · 1020\nConvS2S [8] 25.16 40.46 9.6 · 1018 1.5 · 1020\nMoE [26] 26.03 40.56 2.0 · 1019 1.2 · 1020\nDeep-Att + PosUnk Ensemble [32] 40.4 8.0 · 1020\nGNMT + RL Ensemble [31] 26.30 41.16 1.8 · 1020 1.1 · 1021\nConvS2S Ensemble [8] 26.36 41.29 7.7 · 1019 1.2 · 1021\nTransformer (base model) 27.3 38.1 3.3 · 1018\nTransformer (big) 28.4 41.0 2.3 · 1019\nLabel Smoothing During training, we employed label smoothing of value \u000fls = 0.1 [30]. This\nhurts perplexity, as the model learns to be more unsure, but improves accuracy and BLEU score.\n6 Results\n6.1 Machine Translation\nOn the WMT 2014 English-to-German translation task, the big transformer model (Transformer (big)\nin Table 2) outperforms the best previously reported models (including ensembles) by more than 2.0\nBLEU, establishing a new state-of-the-art BLEU score of 28.4. The configuration of this model is\nlisted in the bottom line of Table 3. Training took 3.5 days on 8 P100 GPUs. Even our base model\nsurpasses all previously published models and ensembles, at a fraction of the training cost of any of\nthe competitive models.\nOn the WMT 2014 English-to-French translation task, our big model achieves a BLEU score of 41.0,\noutperforming all of the previously published single models, at less than 1/4 the training cost of the\nprevious state-of-the-art model. The Transformer (big) model trained for English-to-French used\ndropout rate Pdrop = 0.1, instead of 0.3.\nFor the base models, we used a single model obtained by averaging the last 5 checkpoints, which\nwere written at 10-minute intervals. For the big models, we averaged the last 20 checkpoints. We\nused beam search with a beam size of 4 and length penalty α = 0.6 [31]. These hyperparameters\nwere chosen after experimentation on the development set. We set the maximum output length during\ninference to input length + 50, but terminate early when possible [31].\nTable 2 summarizes our results and compares our translation quality and training costs to other model\narchitectures from the literature. We estimate the number of floating point operations used to train a\nmodel by multiplying the training time, the number of GPUs used, and an estimate of the sustained\nsingle-precision floating-point capacity of each GPU 5\n.\n6.2 Model Variations\nTo evaluate the importance of different components of the Transformer, we varied our base model\nin different ways, measuring the change in performance on English-to-German translation on the\ndevelopment set, newstest2013. We used beam search as described in the previous section, but no\ncheckpoint averaging. We present these results in Table 3.\nIn Table 3 rows (A), we vary the number of attention heads and the attention key and value dimensions,\nkeeping the amount of computation constant, as described in Section 3.2.2. While single-head\nattention is 0.9 BLEU worse than the best setting, quality also drops off with too many heads.\n5We used values of 2.8, 3.7, 6.0 and 9.5 TFLOPS for K80, K40, M40 and P100, respectively.\n8\nTable 3: Variations on the Transformer architecture. Unlisted values are identical to those of the base\nmodel. All metrics are on the English-to-German translation development set, newstest2013. Listed\nperplexities are per-wordpiece, according to our byte-pair encoding, and should not be compared to\nper-word perplexities.\nN dmodel dff h dk dv Pdrop \u000fls\ntrain PPL BLEU params\nsteps (dev) (dev) ×106\nbase 6 512 2048 8 64 64 0.1 0.1 100K 4.92 25.8 65\n(A)\n1 512 512 5.29 24.9\n4 128 128 5.00 25.5\n16 32 32 4.91 25.8\n32 16 16 5.01 25.4\n(B) 16 5.16 25.1 58\n32 5.01 25.4 60\n(C)\n2 6.11 23.7 36\n4 5.19 25.3 50\n8 4.88 25.5 80\n256 32 32 5.75 24.5 28\n1024 128 128 4.66 26.0 168\n1024 5.12 25.4 53\n4096 4.75 26.2 90\n(D)\n0.0 5.77 24.6\n0.2 4.95 25.5\n0.0 4.67 25.3\n0.2 5.47 25.7\n(E) positional embedding instead of sinusoids 4.92 25.7\nbig 6 1024 4096 16 0.3 300K 4.33 26.4 213\nIn Table 3 rows (B), we observe that reducing the attention key size dk hurts model quality. This\nsuggests that determining compatibility is not easy and that a more sophisticated compatibility\nfunction than dot product may be beneficial. We further observe in rows (C) and (D) that, as expected,\nbigger models are better, and dropout is very helpful in avoiding over-fitting. In row (E) we replace our\nsinusoidal positional encoding with learned positional embeddings [8], and observe nearly identical\nresults to the base model.\n7 Conclusion\nIn this work, we presented the Transformer, the first sequence transduction model based entirely on\nattention, replacing the recurrent layers most commonly used in encoder-decoder architectures with\nmulti-headed self-attention.\nFor translation tasks, the Transformer can be trained significantly faster than architectures based\non recurrent or convolutional layers. On both WMT 2014 English-to-German and WMT 2014\nEnglish-to-French translation tasks, we achieve a new state of the art. In the former task our best\nmodel outperforms even all previously reported ensembles.\nWe are excited about the future of attention-based models and plan to apply them to other tasks. We\nplan to extend the Transformer to problems involving input and output modalities other than text and\nto investigate local, restricted attention mechanisms to efficiently handle large inputs and outputs\nsuch as images, audio and video. Making generation less sequential is another research goals of ours.\nThe code we used to train and evaluate our models is available at https://github.com/\ntensorflow/tensor2tensor.\nAcknowledgements We are grateful to Nal Kalchbrenner and Stephan Gouws for their fruitful\ncomments, corrections and inspiration.\n9\nReferences\n[1] Jimmy Lei Ba, Jamie Ryan Kiros, and Geoffrey E Hinton. Layer normalization. arXiv preprint\narXiv:1607.06450, 2016.\n[2] Dzmitry Bahdanau, Kyunghyun Cho, and Yoshua Bengio. Neural machine translation by jointly\nlearning to align and translate. CoRR, abs/1409.0473, 2014.\n[3] Denny Britz, Anna Goldie, Minh-Thang Luong, and Quoc V. Le. Massive exploration of neural\nmachine translation architectures. CoRR, abs/1703.03906, 2017.\n[4] Jianpeng Cheng, Li Dong, and Mirella Lapata. Long short-term memory-networks for machine\nreading. arXiv preprint arXiv:1601.06733, 2016.\n[5] Kyunghyun Cho, Bart van Merrienboer, Caglar Gulcehre, Fethi Bougares, Holger Schwenk,\nand Yoshua Bengio. Learning phrase representations using rnn encoder-decoder for statistical\nmachine translation. CoRR, abs/1406.1078, 2014.\n[6] Francois Chollet. Xception: Deep learning with depthwise separable convolutions. arXiv\npreprint arXiv:1610.02357, 2016.\n[7] Junyoung Chung, Çaglar Gülçehre, Kyunghyun Cho, and Yoshua Bengio. Empirical evaluation\nof gated recurrent neural networks on sequence modeling. CoRR, abs/1412.3555, 2014.\n[8] Jonas Gehring, Michael Auli, David Grangier, Denis Yarats, and Yann N. Dauphin. Convolutional sequence to sequence learning. arXiv preprint arXiv:1705.03122v2, 2017.\n[9] Alex Graves. Generating sequences with recurrent neural networks. arXiv preprint\narXiv:1308.0850, 2013.\n[10] Kaiming He, Xiangyu Zhang, Shaoqing Ren, and Jian Sun. Deep residual learning for image recognition. In Proceedings of the IEEE Conference on Computer Vision and Pattern\nRecognition, pages 770–778, 2016.\n[11] Sepp Hochreiter, Yoshua Bengio, Paolo Frasconi, and Jürgen Schmidhuber. Gradient flow in\nrecurrent nets: the difficulty of learning long-term dependencies, 2001.\n[12] Sepp Hochreiter and Jürgen Schmidhuber. Long short-term memory. Neural computation,\n9(8):1735–1780, 1997.\n[13] Rafal Jozefowicz, Oriol Vinyals, Mike Schuster, Noam Shazeer, and Yonghui Wu. Exploring\nthe limits of language modeling. arXiv preprint arXiv:1602.02410, 2016.\n[14] Łukasz Kaiser and Ilya Sutskever. Neural GPUs learn algorithms. In International Conference\non Learning Representations (ICLR), 2016.\n[15] Nal Kalchbrenner, Lasse Espeholt, Karen Simonyan, Aaron van den Oord, Alex Graves, and Koray Kavukcuoglu. Neural machine translation in linear time. arXiv preprint arXiv:1610.10099v2,\n2017.\n[16] Yoon Kim, Carl Denton, Luong Hoang, and Alexander M. Rush. Structured attention networks.\nIn International Conference on Learning Representations, 2017.\n[17] Diederik Kingma and Jimmy Ba. Adam: A method for stochastic optimization. In ICLR, 2015.\n[18] Oleksi\n[END PART 2/3]\nRemember not answering yet. Just acknowledge you received this part with the message \"Part 2/3 received\" and wait for the next part. cannot be used in worksheets."
     ]
    }
   ],
   "source": [
    "df_multiturn.to_excel(\"rq2_data_issue.xlsx\", index=False)\n",
    "#df_multiturn.to_csv(\"rq1_data_issue.xlsx\", index=False)"
   ]
  },
  {
   "cell_type": "code",
   "execution_count": 26,
   "id": "a0e42ebf",
   "metadata": {},
   "outputs": [
    {
     "data": {
      "text/html": [
       "<div>\n",
       "<style scoped>\n",
       "    .dataframe tbody tr th:only-of-type {\n",
       "        vertical-align: middle;\n",
       "    }\n",
       "\n",
       "    .dataframe tbody tr th {\n",
       "        vertical-align: top;\n",
       "    }\n",
       "\n",
       "    .dataframe thead th {\n",
       "        text-align: right;\n",
       "    }\n",
       "</style>\n",
       "<table border=\"1\" class=\"dataframe\">\n",
       "  <thead>\n",
       "    <tr style=\"text-align: right;\">\n",
       "      <th></th>\n",
       "      <th>chat_id</th>\n",
       "      <th>Category</th>\n",
       "      <th>prompt</th>\n",
       "      <th>answer</th>\n",
       "      <th>type</th>\n",
       "    </tr>\n",
       "  </thead>\n",
       "  <tbody>\n",
       "    <tr>\n",
       "      <th>0</th>\n",
       "      <td>150</td>\n",
       "      <td>Code generation</td>\n",
       "      <td>Is there a way to write exif data to a jpg usi...</td>\n",
       "      <td>ChatGPTYes, you can manipulate EXIF data in a ...</td>\n",
       "      <td>issue</td>\n",
       "    </tr>\n",
       "    <tr>\n",
       "      <th>1</th>\n",
       "      <td>38</td>\n",
       "      <td>Code generation</td>\n",
       "      <td>Make this Java code into Android Java code so ...</td>\n",
       "      <td>ChatGPTTo convert the provided Java code into ...</td>\n",
       "      <td>issue</td>\n",
       "    </tr>\n",
       "    <tr>\n",
       "      <th>2</th>\n",
       "      <td>247</td>\n",
       "      <td>Code generation</td>\n",
       "      <td>Given this issue https://github.com/openrewrit...</td>\n",
       "      <td>ChatGPTAs an AI language model, I can provide ...</td>\n",
       "      <td>issue</td>\n",
       "    </tr>\n",
       "    <tr>\n",
       "      <th>3</th>\n",
       "      <td>193</td>\n",
       "      <td>Data generation</td>\n",
       "      <td>I need help finding a name for a website that ...</td>\n",
       "      <td>ChatGPTLingaNetLexaLinkVocaVerseTalkTroveWordW...</td>\n",
       "      <td>issue</td>\n",
       "    </tr>\n",
       "    <tr>\n",
       "      <th>4</th>\n",
       "      <td>527</td>\n",
       "      <td>Code generation</td>\n",
       "      <td>Write a GitHub Actions workflow implementing t...</td>\n",
       "      <td>ChatGPTCertainly! Here's a GitHub Actions work...</td>\n",
       "      <td>issue</td>\n",
       "    </tr>\n",
       "    <tr>\n",
       "      <th>...</th>\n",
       "      <td>...</td>\n",
       "      <td>...</td>\n",
       "      <td>...</td>\n",
       "      <td>...</td>\n",
       "      <td>...</td>\n",
       "    </tr>\n",
       "    <tr>\n",
       "      <th>365</th>\n",
       "      <td>529</td>\n",
       "      <td>Code generation</td>\n",
       "      <td>This is my code\\n\\n    # -- Define custom coll...</td>\n",
       "      <td>ChatGPTTo modify your custom_collate_fn to mas...</td>\n",
       "      <td>issue</td>\n",
       "    </tr>\n",
       "    <tr>\n",
       "      <th>366</th>\n",
       "      <td>550</td>\n",
       "      <td>Others</td>\n",
       "      <td>what compounds may treat Alternating Hemiplegi...</td>\n",
       "      <td>ChatGPTAlternating Hemiplegia of Childhood (AH...</td>\n",
       "      <td>issue</td>\n",
       "    </tr>\n",
       "    <tr>\n",
       "      <th>367</th>\n",
       "      <td>552</td>\n",
       "      <td>Data generation</td>\n",
       "      <td>Give me a list of 100 compounds (molecules) th...</td>\n",
       "      <td>ChatGPTAs an AI language model, I can provide ...</td>\n",
       "      <td>issue</td>\n",
       "    </tr>\n",
       "    <tr>\n",
       "      <th>368</th>\n",
       "      <td>578</td>\n",
       "      <td>How-to</td>\n",
       "      <td>How do I fix this python error: No module name...</td>\n",
       "      <td>ChatGPTThe error message \"No module named 'bs4...</td>\n",
       "      <td>issue</td>\n",
       "    </tr>\n",
       "    <tr>\n",
       "      <th>369</th>\n",
       "      <td>583</td>\n",
       "      <td>Data generation</td>\n",
       "      <td>I want us to engage into solving a bug: \"r.fin...</td>\n",
       "      <td>ChatGPTUsed WebPilotThe issue titled \"r.findIm...</td>\n",
       "      <td>issue</td>\n",
       "    </tr>\n",
       "  </tbody>\n",
       "</table>\n",
       "<p>370 rows × 5 columns</p>\n",
       "</div>"
      ],
      "text/plain": [
       "     chat_id         Category  \\\n",
       "0        150  Code generation   \n",
       "1         38  Code generation   \n",
       "2        247  Code generation   \n",
       "3        193  Data generation   \n",
       "4        527  Code generation   \n",
       "..       ...              ...   \n",
       "365      529  Code generation   \n",
       "366      550           Others   \n",
       "367      552  Data generation   \n",
       "368      578           How-to   \n",
       "369      583  Data generation   \n",
       "\n",
       "                                                prompt  \\\n",
       "0    Is there a way to write exif data to a jpg usi...   \n",
       "1    Make this Java code into Android Java code so ...   \n",
       "2    Given this issue https://github.com/openrewrit...   \n",
       "3    I need help finding a name for a website that ...   \n",
       "4    Write a GitHub Actions workflow implementing t...   \n",
       "..                                                 ...   \n",
       "365  This is my code\\n\\n    # -- Define custom coll...   \n",
       "366  what compounds may treat Alternating Hemiplegi...   \n",
       "367  Give me a list of 100 compounds (molecules) th...   \n",
       "368  How do I fix this python error: No module name...   \n",
       "369  I want us to engage into solving a bug: \"r.fin...   \n",
       "\n",
       "                                                answer   type  \n",
       "0    ChatGPTYes, you can manipulate EXIF data in a ...  issue  \n",
       "1    ChatGPTTo convert the provided Java code into ...  issue  \n",
       "2    ChatGPTAs an AI language model, I can provide ...  issue  \n",
       "3    ChatGPTLingaNetLexaLinkVocaVerseTalkTroveWordW...  issue  \n",
       "4    ChatGPTCertainly! Here's a GitHub Actions work...  issue  \n",
       "..                                                 ...    ...  \n",
       "365  ChatGPTTo modify your custom_collate_fn to mas...  issue  \n",
       "366  ChatGPTAlternating Hemiplegia of Childhood (AH...  issue  \n",
       "367  ChatGPTAs an AI language model, I can provide ...  issue  \n",
       "368  ChatGPTThe error message \"No module named 'bs4...  issue  \n",
       "369  ChatGPTUsed WebPilotThe issue titled \"r.findIm...  issue  \n",
       "\n",
       "[370 rows x 5 columns]"
      ]
     },
     "execution_count": 26,
     "metadata": {},
     "output_type": "execute_result"
    }
   ],
   "source": [
    "#RQ3 data\n",
    "df_rq1_iss = pd.read_excel('rq1_data_issue.xlsx')\n",
    "df_rq1_iss "
   ]
  },
  {
   "cell_type": "code",
   "execution_count": 27,
   "id": "1a07cb36",
   "metadata": {},
   "outputs": [
    {
     "data": {
      "text/html": [
       "<div>\n",
       "<style scoped>\n",
       "    .dataframe tbody tr th:only-of-type {\n",
       "        vertical-align: middle;\n",
       "    }\n",
       "\n",
       "    .dataframe tbody tr th {\n",
       "        vertical-align: top;\n",
       "    }\n",
       "\n",
       "    .dataframe thead th {\n",
       "        text-align: right;\n",
       "    }\n",
       "</style>\n",
       "<table border=\"1\" class=\"dataframe\">\n",
       "  <thead>\n",
       "    <tr style=\"text-align: right;\">\n",
       "      <th></th>\n",
       "      <th>chat_id</th>\n",
       "      <th>Category</th>\n",
       "      <th>prompt</th>\n",
       "      <th>answer</th>\n",
       "      <th>type</th>\n",
       "      <th>Mentioned_URL</th>\n",
       "    </tr>\n",
       "  </thead>\n",
       "  <tbody>\n",
       "    <tr>\n",
       "      <th>0</th>\n",
       "      <td>150</td>\n",
       "      <td>Code generation</td>\n",
       "      <td>Is there a way to write exif data to a jpg usi...</td>\n",
       "      <td>ChatGPTYes, you can manipulate EXIF data in a ...</td>\n",
       "      <td>issue</td>\n",
       "      <td>https://github.com/moom0o/PhotoSphereStudio/is...</td>\n",
       "    </tr>\n",
       "    <tr>\n",
       "      <th>1</th>\n",
       "      <td>38</td>\n",
       "      <td>Code generation</td>\n",
       "      <td>Make this Java code into Android Java code so ...</td>\n",
       "      <td>ChatGPTTo convert the provided Java code into ...</td>\n",
       "      <td>issue</td>\n",
       "      <td>https://github.com/rane254/RPSAndroidGame/issu...</td>\n",
       "    </tr>\n",
       "    <tr>\n",
       "      <th>2</th>\n",
       "      <td>247</td>\n",
       "      <td>Code generation</td>\n",
       "      <td>Given this issue https://github.com/openrewrit...</td>\n",
       "      <td>ChatGPTAs an AI language model, I can provide ...</td>\n",
       "      <td>issue</td>\n",
       "      <td>https://github.com/openrewrite/rewrite-spring/...</td>\n",
       "    </tr>\n",
       "    <tr>\n",
       "      <th>3</th>\n",
       "      <td>193</td>\n",
       "      <td>Data generation</td>\n",
       "      <td>I need help finding a name for a website that ...</td>\n",
       "      <td>ChatGPTLingaNetLexaLinkVocaVerseTalkTroveWordW...</td>\n",
       "      <td>issue</td>\n",
       "      <td>https://github.com/sillsdev/languageforge-lexb...</td>\n",
       "    </tr>\n",
       "    <tr>\n",
       "      <th>4</th>\n",
       "      <td>527</td>\n",
       "      <td>Code generation</td>\n",
       "      <td>Write a GitHub Actions workflow implementing t...</td>\n",
       "      <td>ChatGPTCertainly! Here's a GitHub Actions work...</td>\n",
       "      <td>issue</td>\n",
       "      <td>https://github.com/simonw/simonw-readthedocs-e...</td>\n",
       "    </tr>\n",
       "    <tr>\n",
       "      <th>...</th>\n",
       "      <td>...</td>\n",
       "      <td>...</td>\n",
       "      <td>...</td>\n",
       "      <td>...</td>\n",
       "      <td>...</td>\n",
       "      <td>...</td>\n",
       "    </tr>\n",
       "    <tr>\n",
       "      <th>365</th>\n",
       "      <td>529</td>\n",
       "      <td>Code generation</td>\n",
       "      <td>This is my code\\n\\n    # -- Define custom coll...</td>\n",
       "      <td>ChatGPTTo modify your custom_collate_fn to mas...</td>\n",
       "      <td>issue</td>\n",
       "      <td>https://github.com/huggingface/transformers/is...</td>\n",
       "    </tr>\n",
       "    <tr>\n",
       "      <th>366</th>\n",
       "      <td>550</td>\n",
       "      <td>Others</td>\n",
       "      <td>what compounds may treat Alternating Hemiplegi...</td>\n",
       "      <td>ChatGPTAlternating Hemiplegia of Childhood (AH...</td>\n",
       "      <td>issue</td>\n",
       "      <td>https://github.com/NCATSTranslator/Feedback/is...</td>\n",
       "    </tr>\n",
       "    <tr>\n",
       "      <th>367</th>\n",
       "      <td>552</td>\n",
       "      <td>Data generation</td>\n",
       "      <td>Give me a list of 100 compounds (molecules) th...</td>\n",
       "      <td>ChatGPTAs an AI language model, I can provide ...</td>\n",
       "      <td>issue</td>\n",
       "      <td>https://github.com/NCATSTranslator/Feedback/is...</td>\n",
       "    </tr>\n",
       "    <tr>\n",
       "      <th>368</th>\n",
       "      <td>578</td>\n",
       "      <td>How-to</td>\n",
       "      <td>How do I fix this python error: No module name...</td>\n",
       "      <td>ChatGPTThe error message \"No module named 'bs4...</td>\n",
       "      <td>issue</td>\n",
       "      <td>https://github.com/jasonacox/Powerwall-Dashboa...</td>\n",
       "    </tr>\n",
       "    <tr>\n",
       "      <th>369</th>\n",
       "      <td>583</td>\n",
       "      <td>Data generation</td>\n",
       "      <td>I want us to engage into solving a bug: \"r.fin...</td>\n",
       "      <td>ChatGPTUsed WebPilotThe issue titled \"r.findIm...</td>\n",
       "      <td>issue</td>\n",
       "      <td>https://github.com/pedroslopez/whatsapp-web.js...</td>\n",
       "    </tr>\n",
       "  </tbody>\n",
       "</table>\n",
       "<p>370 rows × 6 columns</p>\n",
       "</div>"
      ],
      "text/plain": [
       "     chat_id         Category  \\\n",
       "0        150  Code generation   \n",
       "1         38  Code generation   \n",
       "2        247  Code generation   \n",
       "3        193  Data generation   \n",
       "4        527  Code generation   \n",
       "..       ...              ...   \n",
       "365      529  Code generation   \n",
       "366      550           Others   \n",
       "367      552  Data generation   \n",
       "368      578           How-to   \n",
       "369      583  Data generation   \n",
       "\n",
       "                                                prompt  \\\n",
       "0    Is there a way to write exif data to a jpg usi...   \n",
       "1    Make this Java code into Android Java code so ...   \n",
       "2    Given this issue https://github.com/openrewrit...   \n",
       "3    I need help finding a name for a website that ...   \n",
       "4    Write a GitHub Actions workflow implementing t...   \n",
       "..                                                 ...   \n",
       "365  This is my code\\n\\n    # -- Define custom coll...   \n",
       "366  what compounds may treat Alternating Hemiplegi...   \n",
       "367  Give me a list of 100 compounds (molecules) th...   \n",
       "368  How do I fix this python error: No module name...   \n",
       "369  I want us to engage into solving a bug: \"r.fin...   \n",
       "\n",
       "                                                answer   type  \\\n",
       "0    ChatGPTYes, you can manipulate EXIF data in a ...  issue   \n",
       "1    ChatGPTTo convert the provided Java code into ...  issue   \n",
       "2    ChatGPTAs an AI language model, I can provide ...  issue   \n",
       "3    ChatGPTLingaNetLexaLinkVocaVerseTalkTroveWordW...  issue   \n",
       "4    ChatGPTCertainly! Here's a GitHub Actions work...  issue   \n",
       "..                                                 ...    ...   \n",
       "365  ChatGPTTo modify your custom_collate_fn to mas...  issue   \n",
       "366  ChatGPTAlternating Hemiplegia of Childhood (AH...  issue   \n",
       "367  ChatGPTAs an AI language model, I can provide ...  issue   \n",
       "368  ChatGPTThe error message \"No module named 'bs4...  issue   \n",
       "369  ChatGPTUsed WebPilotThe issue titled \"r.findIm...  issue   \n",
       "\n",
       "                                         Mentioned_URL  \n",
       "0    https://github.com/moom0o/PhotoSphereStudio/is...  \n",
       "1    https://github.com/rane254/RPSAndroidGame/issu...  \n",
       "2    https://github.com/openrewrite/rewrite-spring/...  \n",
       "3    https://github.com/sillsdev/languageforge-lexb...  \n",
       "4    https://github.com/simonw/simonw-readthedocs-e...  \n",
       "..                                                 ...  \n",
       "365  https://github.com/huggingface/transformers/is...  \n",
       "366  https://github.com/NCATSTranslator/Feedback/is...  \n",
       "367  https://github.com/NCATSTranslator/Feedback/is...  \n",
       "368  https://github.com/jasonacox/Powerwall-Dashboa...  \n",
       "369  https://github.com/pedroslopez/whatsapp-web.js...  \n",
       "\n",
       "[370 rows x 6 columns]"
      ]
     },
     "execution_count": 27,
     "metadata": {},
     "output_type": "execute_result"
    }
   ],
   "source": [
    "df_rq1_iss['Mentioned_URL'] = ''\n",
    "for index, row in df_rq1_iss.iterrows():\n",
    "    chat_id = row['chat_id']\n",
    "    matching_url = first_prompts.loc[first_prompts['chat_id'] == chat_id, 'Mentioned_URL']\n",
    "    df_rq1_iss.at[index, 'Mentioned_URL'] = matching_url.iloc[0]\n",
    "    \n",
    "df_rq1_iss"
   ]
  },
  {
   "cell_type": "code",
   "execution_count": 30,
   "id": "bea14b07",
   "metadata": {},
   "outputs": [
    {
     "data": {
      "text/plain": [
       "370"
      ]
     },
     "execution_count": 30,
     "metadata": {},
     "output_type": "execute_result"
    }
   ],
   "source": [
    "len(df_rq1_iss['Mentioned_URL'])"
   ]
  },
  {
   "cell_type": "code",
   "execution_count": 48,
   "id": "37e79897",
   "metadata": {},
   "outputs": [
    {
     "data": {
      "text/plain": [
       "370"
      ]
     },
     "execution_count": 48,
     "metadata": {},
     "output_type": "execute_result"
    }
   ],
   "source": [
    "from sklearn.model_selection import train_test_split\n",
    "issues_sample = df_rq1_iss.groupby('Category', group_keys=False).apply(lambda x: x.sample(min(len(x), 100)))\n",
    "len(issues_sample)"
   ]
  },
  {
   "cell_type": "code",
   "execution_count": 49,
   "id": "97da1602",
   "metadata": {},
   "outputs": [],
   "source": [
    "issues_class_proportions = df_rq1_iss['Category'].value_counts(normalize=True)\n",
    "\n",
    "num_samples_issue = 167\n",
    "\n",
    "issues_sampled = pd.DataFrame()"
   ]
  },
  {
   "cell_type": "code",
   "execution_count": 50,
   "id": "57734fd8",
   "metadata": {},
   "outputs": [
    {
     "name": "stdout",
     "output_type": "stream",
     "text": [
      "161\n"
     ]
    }
   ],
   "source": [
    "for label, proportion in issues_class_proportions.items():\n",
    "    # Calculate the number of samples for this class\n",
    "    num_samples = int(num_samples_issue * proportion)\n",
    "    \n",
    "    # Sample from the original dataset\n",
    "    samples = df_rq1_iss[df_rq1_iss['Category'] == label].sample(n=num_samples, random_state=42)\n",
    "    \n",
    "    # Append to the sampled dataset\n",
    "    issues_sampled = pd.concat([issues_sampled, samples])\n",
    "\n",
    "print(len(issues_sampled))"
   ]
  },
  {
   "cell_type": "code",
   "execution_count": 51,
   "id": "009facef",
   "metadata": {},
   "outputs": [],
   "source": [
    "#need 160 data only\n",
    "issues_sampled.drop(issues_sampled.index[-1], inplace=True)\n"
   ]
  },
  {
   "cell_type": "code",
   "execution_count": 52,
   "id": "b69e0cd1",
   "metadata": {},
   "outputs": [
    {
     "data": {
      "text/plain": [
       "160"
      ]
     },
     "execution_count": 52,
     "metadata": {},
     "output_type": "execute_result"
    }
   ],
   "source": [
    "len(issues_sampled)"
   ]
  },
  {
   "cell_type": "code",
   "execution_count": 54,
   "id": "eebb98aa",
   "metadata": {},
   "outputs": [],
   "source": [
    "issues_sample_file_path = 'rq3_issues_sample.xlsx'\n",
    "\n",
    "issues_sampled.to_excel(issues_sample_file_path, index=False)"
   ]
  },
  {
   "cell_type": "code",
   "execution_count": null,
   "id": "e60d7625",
   "metadata": {},
   "outputs": [],
   "source": []
  }
 ],
 "metadata": {
  "kernelspec": {
   "display_name": "Python [conda env:pythonenv]",
   "language": "python",
   "name": "conda-env-pythonenv-py"
  },
  "language_info": {
   "codemirror_mode": {
    "name": "ipython",
    "version": 3
   },
   "file_extension": ".py",
   "mimetype": "text/x-python",
   "name": "python",
   "nbconvert_exporter": "python",
   "pygments_lexer": "ipython3",
   "version": "3.10.13"
  }
 },
 "nbformat": 4,
 "nbformat_minor": 5
}
