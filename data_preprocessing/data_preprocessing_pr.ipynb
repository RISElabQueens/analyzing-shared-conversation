{
 "cells": [
  {
   "cell_type": "code",
   "execution_count": 1,
   "id": "4dc02220",
   "metadata": {},
   "outputs": [
    {
     "name": "stderr",
     "output_type": "stream",
     "text": [
      "/home/jovyan/conda-envs/pythonenv/lib/python3.10/site-packages/tqdm/auto.py:21: TqdmWarning: IProgress not found. Please update jupyter and ipywidgets. See https://ipywidgets.readthedocs.io/en/stable/user_install.html\n",
      "  from .autonotebook import tqdm as notebook_tqdm\n"
     ]
    }
   ],
   "source": [
    "import matplotlib.pyplot as plt\n",
    "import json\n",
    "import pandas as pd\n",
    "from collections import Counter\n",
    "from lingua import LanguageDetectorBuilder, Language\n",
    "from tqdm.auto import tqdm\n",
    "import random\n",
    "import numpy as np"
   ]
  },
  {
   "cell_type": "code",
   "execution_count": 2,
   "id": "23748acc",
   "metadata": {},
   "outputs": [],
   "source": [
    "f = open(\"devgpt/20231012_233628_pr_sharings.json\")\n",
    "data = json.loads(f.read())\n",
    "f.close()"
   ]
  },
  {
   "cell_type": "code",
   "execution_count": 3,
   "id": "4d278952",
   "metadata": {},
   "outputs": [],
   "source": [
    "urls = []"
   ]
  },
  {
   "cell_type": "code",
   "execution_count": 4,
   "id": "cc50230e",
   "metadata": {},
   "outputs": [],
   "source": [
    "def generate_documents(data):\n",
    "    conversation_id = 0\n",
    "    first_prompts = []\n",
    "    first_answers = []\n",
    "    chat_id = 0\n",
    "    for entry in data[\"Sources\"]:\n",
    "        for sharedLink in entry[\"ChatgptSharing\"]:\n",
    "            if sharedLink.get(\"Conversations\"):\n",
    "                chat_id+=1\n",
    "                conversation_id = 0\n",
    "                for conversation in sharedLink[\"Conversations\"]:\n",
    "                    first_prompts.append({\"chat_id\" : chat_id, \"round_id\" : conversation_id, \"prompt\" : conversation[\"Prompt\"]})\n",
    "                    first_answers.append({\"answer\" : conversation[\"Answer\"]})\n",
    "                    urls.append({\"Mentioned_URL\" : sharedLink.get(\"Mention\").get(\"MentionedURL\")})\n",
    "                    conversation_id+=1\n",
    "    df = pd.DataFrame(first_prompts).join(pd.DataFrame(first_answers)).reset_index(drop=True)\n",
    "    df = df.join(pd.DataFrame(urls))\n",
    "    return df"
   ]
  },
  {
   "cell_type": "code",
   "execution_count": 5,
   "id": "ec90e752",
   "metadata": {},
   "outputs": [
    {
     "data": {
      "text/html": [
       "<div>\n",
       "<style scoped>\n",
       "    .dataframe tbody tr th:only-of-type {\n",
       "        vertical-align: middle;\n",
       "    }\n",
       "\n",
       "    .dataframe tbody tr th {\n",
       "        vertical-align: top;\n",
       "    }\n",
       "\n",
       "    .dataframe thead th {\n",
       "        text-align: right;\n",
       "    }\n",
       "</style>\n",
       "<table border=\"1\" class=\"dataframe\">\n",
       "  <thead>\n",
       "    <tr style=\"text-align: right;\">\n",
       "      <th></th>\n",
       "      <th>chat_id</th>\n",
       "      <th>round_id</th>\n",
       "      <th>prompt</th>\n",
       "      <th>answer</th>\n",
       "      <th>Mentioned_URL</th>\n",
       "    </tr>\n",
       "  </thead>\n",
       "  <tbody>\n",
       "    <tr>\n",
       "      <th>0</th>\n",
       "      <td>1</td>\n",
       "      <td>0</td>\n",
       "      <td>can u be my regex tester</td>\n",
       "      <td>ChatGPTCertainly, I can help you test regular ...</td>\n",
       "      <td>https://github.com/validatorjs/validator.js/pu...</td>\n",
       "    </tr>\n",
       "    <tr>\n",
       "      <th>1</th>\n",
       "      <td>1</td>\n",
       "      <td>1</td>\n",
       "      <td>/^(\\+?98[\\-\\s]?|0)9[0-39]\\d[\\-\\s]?\\d{3}[\\-\\s]?...</td>\n",
       "      <td>ChatGPTIt looks like you've provided a regex p...</td>\n",
       "      <td>https://github.com/validatorjs/validator.js/pu...</td>\n",
       "    </tr>\n",
       "    <tr>\n",
       "      <th>2</th>\n",
       "      <td>2</td>\n",
       "      <td>0</td>\n",
       "      <td>Explain the difference between imperative and ...</td>\n",
       "      <td>ChatGPTCertainly! Imperative and declarative p...</td>\n",
       "      <td>https://github.com/magnifiq/js-practice-ventio...</td>\n",
       "    </tr>\n",
       "    <tr>\n",
       "      <th>3</th>\n",
       "      <td>3</td>\n",
       "      <td>0</td>\n",
       "      <td>I have this code:\\n\\nconst characterMap: Chara...</td>\n",
       "      <td>ChatGPTThis issue arises because object proper...</td>\n",
       "      <td>https://github.com/FlorianWoelki/obsidian-symb...</td>\n",
       "    </tr>\n",
       "    <tr>\n",
       "      <th>4</th>\n",
       "      <td>4</td>\n",
       "      <td>0</td>\n",
       "      <td>Hello ChatGPT, do you know if an empty string ...</td>\n",
       "      <td>ChatGPTYes, an empty string is a valid Base64-...</td>\n",
       "      <td>https://github.com/asaskevich/govalidator/pull...</td>\n",
       "    </tr>\n",
       "    <tr>\n",
       "      <th>5</th>\n",
       "      <td>5</td>\n",
       "      <td>0</td>\n",
       "      <td>lets say I have a some pydantic code like \\n\\n...</td>\n",
       "      <td>ChatGPTYes, if a system allows users to specif...</td>\n",
       "      <td>https://github.com/rom-py/rompy/pull/40#issuec...</td>\n",
       "    </tr>\n",
       "    <tr>\n",
       "      <th>6</th>\n",
       "      <td>6</td>\n",
       "      <td>0</td>\n",
       "      <td>Can you interpret this SVG path syntax? &lt;path ...</td>\n",
       "      <td>ChatGPTCertainly. The SVG (Scalable Vector Gra...</td>\n",
       "      <td>https://github.com/whatwg/whatwg.org/pull/427#...</td>\n",
       "    </tr>\n",
       "    <tr>\n",
       "      <th>7</th>\n",
       "      <td>6</td>\n",
       "      <td>1</td>\n",
       "      <td>This is supposed to be within a 100x100 viewbo...</td>\n",
       "      <td>ChatGPTTo find the center of the path within a...</td>\n",
       "      <td>https://github.com/whatwg/whatwg.org/pull/427#...</td>\n",
       "    </tr>\n",
       "    <tr>\n",
       "      <th>8</th>\n",
       "      <td>7</td>\n",
       "      <td>0</td>\n",
       "      <td>I'm building an app that tracks screentime.\\n\\...</td>\n",
       "      <td>ChatGPTThe code you have shared splits the eve...</td>\n",
       "      <td>https://github.com/ActivityWatch/aw-webui/pull...</td>\n",
       "    </tr>\n",
       "    <tr>\n",
       "      <th>9</th>\n",
       "      <td>7</td>\n",
       "      <td>1</td>\n",
       "      <td>But won't this make a messy list for the user?...</td>\n",
       "      <td>ChatGPTYes, the method I previously suggested ...</td>\n",
       "      <td>https://github.com/ActivityWatch/aw-webui/pull...</td>\n",
       "    </tr>\n",
       "  </tbody>\n",
       "</table>\n",
       "</div>"
      ],
      "text/plain": [
       "   chat_id  round_id                                             prompt  \\\n",
       "0        1         0                           can u be my regex tester   \n",
       "1        1         1  /^(\\+?98[\\-\\s]?|0)9[0-39]\\d[\\-\\s]?\\d{3}[\\-\\s]?...   \n",
       "2        2         0  Explain the difference between imperative and ...   \n",
       "3        3         0  I have this code:\\n\\nconst characterMap: Chara...   \n",
       "4        4         0  Hello ChatGPT, do you know if an empty string ...   \n",
       "5        5         0  lets say I have a some pydantic code like \\n\\n...   \n",
       "6        6         0  Can you interpret this SVG path syntax? <path ...   \n",
       "7        6         1  This is supposed to be within a 100x100 viewbo...   \n",
       "8        7         0  I'm building an app that tracks screentime.\\n\\...   \n",
       "9        7         1  But won't this make a messy list for the user?...   \n",
       "\n",
       "                                              answer  \\\n",
       "0  ChatGPTCertainly, I can help you test regular ...   \n",
       "1  ChatGPTIt looks like you've provided a regex p...   \n",
       "2  ChatGPTCertainly! Imperative and declarative p...   \n",
       "3  ChatGPTThis issue arises because object proper...   \n",
       "4  ChatGPTYes, an empty string is a valid Base64-...   \n",
       "5  ChatGPTYes, if a system allows users to specif...   \n",
       "6  ChatGPTCertainly. The SVG (Scalable Vector Gra...   \n",
       "7  ChatGPTTo find the center of the path within a...   \n",
       "8  ChatGPTThe code you have shared splits the eve...   \n",
       "9  ChatGPTYes, the method I previously suggested ...   \n",
       "\n",
       "                                       Mentioned_URL  \n",
       "0  https://github.com/validatorjs/validator.js/pu...  \n",
       "1  https://github.com/validatorjs/validator.js/pu...  \n",
       "2  https://github.com/magnifiq/js-practice-ventio...  \n",
       "3  https://github.com/FlorianWoelki/obsidian-symb...  \n",
       "4  https://github.com/asaskevich/govalidator/pull...  \n",
       "5  https://github.com/rom-py/rompy/pull/40#issuec...  \n",
       "6  https://github.com/whatwg/whatwg.org/pull/427#...  \n",
       "7  https://github.com/whatwg/whatwg.org/pull/427#...  \n",
       "8  https://github.com/ActivityWatch/aw-webui/pull...  \n",
       "9  https://github.com/ActivityWatch/aw-webui/pull...  "
      ]
     },
     "execution_count": 5,
     "metadata": {},
     "output_type": "execute_result"
    }
   ],
   "source": [
    "df = generate_documents(data)\n",
    "df.head(10)"
   ]
  },
  {
   "cell_type": "code",
   "execution_count": 6,
   "id": "2d3473f7",
   "metadata": {},
   "outputs": [
    {
     "data": {
      "text/plain": [
       "286"
      ]
     },
     "execution_count": 6,
     "metadata": {},
     "output_type": "execute_result"
    }
   ],
   "source": [
    "len(df.groupby(\"chat_id\"))"
   ]
  },
  {
   "cell_type": "code",
   "execution_count": 7,
   "id": "91d62c2a",
   "metadata": {},
   "outputs": [
    {
     "data": {
      "text/plain": [
       "996"
      ]
     },
     "execution_count": 7,
     "metadata": {},
     "output_type": "execute_result"
    }
   ],
   "source": [
    "len(df)"
   ]
  },
  {
   "cell_type": "code",
   "execution_count": 8,
   "id": "8411d2c1",
   "metadata": {},
   "outputs": [],
   "source": [
    "#Detect lang https://github.com/pemistahl/lingua-py\n",
    "def landetec(df):\n",
    "    detector = LanguageDetectorBuilder.from_all_spoken_languages().build()\n",
    "    rt_groups = []\n",
    "\n",
    "    for name, group in df.groupby(\"chat_id\"):\n",
    "        counter = 0\n",
    "        not_english_chats_ids = []\n",
    "        for index, row in group.iterrows():\n",
    "            lang = detector.detect_language_of(row[\"prompt\"])\n",
    "            if lang != Language.ENGLISH:\n",
    "                counter+=1\n",
    "    #         if row[\"prompt\"].strip() in sample[\"Prompt\"].tolist():\n",
    "    #             counter += 1\n",
    "        #some of the rounds are not in english\n",
    "        if counter == 0:\n",
    "            rt_groups.append(group)\n",
    "    #Filter out chats that are not in english\n",
    "    df_langfiltered = pd.concat(rt_groups)\n",
    "    return df_langfiltered"
   ]
  },
  {
   "cell_type": "code",
   "execution_count": 9,
   "id": "0104f413",
   "metadata": {},
   "outputs": [
    {
     "data": {
      "text/html": [
       "<div>\n",
       "<style scoped>\n",
       "    .dataframe tbody tr th:only-of-type {\n",
       "        vertical-align: middle;\n",
       "    }\n",
       "\n",
       "    .dataframe tbody tr th {\n",
       "        vertical-align: top;\n",
       "    }\n",
       "\n",
       "    .dataframe thead th {\n",
       "        text-align: right;\n",
       "    }\n",
       "</style>\n",
       "<table border=\"1\" class=\"dataframe\">\n",
       "  <thead>\n",
       "    <tr style=\"text-align: right;\">\n",
       "      <th></th>\n",
       "      <th>chat_id</th>\n",
       "      <th>round_id</th>\n",
       "      <th>prompt</th>\n",
       "      <th>answer</th>\n",
       "      <th>Mentioned_URL</th>\n",
       "    </tr>\n",
       "  </thead>\n",
       "  <tbody>\n",
       "    <tr>\n",
       "      <th>2</th>\n",
       "      <td>2</td>\n",
       "      <td>0</td>\n",
       "      <td>Explain the difference between imperative and ...</td>\n",
       "      <td>ChatGPTCertainly! Imperative and declarative p...</td>\n",
       "      <td>https://github.com/magnifiq/js-practice-ventio...</td>\n",
       "    </tr>\n",
       "    <tr>\n",
       "      <th>3</th>\n",
       "      <td>3</td>\n",
       "      <td>0</td>\n",
       "      <td>I have this code:\\n\\nconst characterMap: Chara...</td>\n",
       "      <td>ChatGPTThis issue arises because object proper...</td>\n",
       "      <td>https://github.com/FlorianWoelki/obsidian-symb...</td>\n",
       "    </tr>\n",
       "    <tr>\n",
       "      <th>4</th>\n",
       "      <td>4</td>\n",
       "      <td>0</td>\n",
       "      <td>Hello ChatGPT, do you know if an empty string ...</td>\n",
       "      <td>ChatGPTYes, an empty string is a valid Base64-...</td>\n",
       "      <td>https://github.com/asaskevich/govalidator/pull...</td>\n",
       "    </tr>\n",
       "    <tr>\n",
       "      <th>5</th>\n",
       "      <td>5</td>\n",
       "      <td>0</td>\n",
       "      <td>lets say I have a some pydantic code like \\n\\n...</td>\n",
       "      <td>ChatGPTYes, if a system allows users to specif...</td>\n",
       "      <td>https://github.com/rom-py/rompy/pull/40#issuec...</td>\n",
       "    </tr>\n",
       "    <tr>\n",
       "      <th>6</th>\n",
       "      <td>6</td>\n",
       "      <td>0</td>\n",
       "      <td>Can you interpret this SVG path syntax? &lt;path ...</td>\n",
       "      <td>ChatGPTCertainly. The SVG (Scalable Vector Gra...</td>\n",
       "      <td>https://github.com/whatwg/whatwg.org/pull/427#...</td>\n",
       "    </tr>\n",
       "  </tbody>\n",
       "</table>\n",
       "</div>"
      ],
      "text/plain": [
       "   chat_id  round_id                                             prompt  \\\n",
       "2        2         0  Explain the difference between imperative and ...   \n",
       "3        3         0  I have this code:\\n\\nconst characterMap: Chara...   \n",
       "4        4         0  Hello ChatGPT, do you know if an empty string ...   \n",
       "5        5         0  lets say I have a some pydantic code like \\n\\n...   \n",
       "6        6         0  Can you interpret this SVG path syntax? <path ...   \n",
       "\n",
       "                                              answer  \\\n",
       "2  ChatGPTCertainly! Imperative and declarative p...   \n",
       "3  ChatGPTThis issue arises because object proper...   \n",
       "4  ChatGPTYes, an empty string is a valid Base64-...   \n",
       "5  ChatGPTYes, if a system allows users to specif...   \n",
       "6  ChatGPTCertainly. The SVG (Scalable Vector Gra...   \n",
       "\n",
       "                                       Mentioned_URL  \n",
       "2  https://github.com/magnifiq/js-practice-ventio...  \n",
       "3  https://github.com/FlorianWoelki/obsidian-symb...  \n",
       "4  https://github.com/asaskevich/govalidator/pull...  \n",
       "5  https://github.com/rom-py/rompy/pull/40#issuec...  \n",
       "6  https://github.com/whatwg/whatwg.org/pull/427#...  "
      ]
     },
     "execution_count": 9,
     "metadata": {},
     "output_type": "execute_result"
    }
   ],
   "source": [
    "#pr\n",
    "df_langfiltered = landetec(df)\n",
    "df_langfiltered.head()"
   ]
  },
  {
   "cell_type": "code",
   "execution_count": 10,
   "id": "6a82fb12",
   "metadata": {},
   "outputs": [
    {
     "data": {
      "text/plain": [
       "240"
      ]
     },
     "execution_count": 10,
     "metadata": {},
     "output_type": "execute_result"
    }
   ],
   "source": [
    "len(df_langfiltered.groupby(\"chat_id\"))"
   ]
  },
  {
   "cell_type": "code",
   "execution_count": 11,
   "id": "6bb3d902",
   "metadata": {},
   "outputs": [
    {
     "data": {
      "text/plain": [
       "618"
      ]
     },
     "execution_count": 11,
     "metadata": {},
     "output_type": "execute_result"
    }
   ],
   "source": [
    "len(df_langfiltered)"
   ]
  },
  {
   "cell_type": "code",
   "execution_count": 12,
   "id": "61211ca6",
   "metadata": {},
   "outputs": [
    {
     "data": {
      "text/plain": [
       "546"
      ]
     },
     "execution_count": 12,
     "metadata": {},
     "output_type": "execute_result"
    }
   ],
   "source": [
    "#df_langfiltered\n",
    "dropped_duplicates_df_langfiltered = df_langfiltered.drop_duplicates(subset='prompt')\n",
    "len(dropped_duplicates_df_langfiltered)"
   ]
  },
  {
   "cell_type": "code",
   "execution_count": 13,
   "id": "44889837",
   "metadata": {},
   "outputs": [
    {
     "data": {
      "text/plain": [
       "220"
      ]
     },
     "execution_count": 13,
     "metadata": {},
     "output_type": "execute_result"
    }
   ],
   "source": [
    "len(dropped_duplicates_df_langfiltered.groupby(\"chat_id\"))"
   ]
  },
  {
   "cell_type": "code",
   "execution_count": 14,
   "id": "c287ad7b",
   "metadata": {},
   "outputs": [],
   "source": [
    "size_groups = [len(group) for name, group in dropped_duplicates_df_langfiltered.groupby(\"chat_id\")]\n",
    "\n",
    "df_size = pd.DataFrame(size_groups)"
   ]
  },
  {
   "cell_type": "code",
   "execution_count": 15,
   "id": "633c5dde",
   "metadata": {},
   "outputs": [
    {
     "data": {
      "text/plain": [
       "array([ 1,  2,  3, 16, 29, 20,  4,  6, 22,  7,  5,  8, 19,  9, 33, 13])"
      ]
     },
     "execution_count": 15,
     "metadata": {},
     "output_type": "execute_result"
    }
   ],
   "source": [
    "df_size[0].unique()"
   ]
  },
  {
   "cell_type": "code",
   "execution_count": 16,
   "id": "6c09182f",
   "metadata": {},
   "outputs": [
    {
     "data": {
      "image/png": "[encoded data removed]",
      "text/plain": [
       "<Figure size 1000x600 with 1 Axes>"
      ]
     },
     "metadata": {},
     "output_type": "display_data"
    }
   ],
   "source": [
    "value_counts = df_size[0].value_counts().sort_index()\n",
    "total_value = df_size[0].count()\n",
    "percentage = (value_counts/total_value)*100\n",
    "\n",
    "# Plotting the frequency distribution\n",
    "plt.figure(figsize=(10, 6))\n",
    "bars = percentage.plot(kind='bar')\n",
    "\n",
    "# Annotate with percentage numbers\n",
    "for bar in bars.patches:\n",
    "    plt.text(bar.get_x() + bar.get_width() / 2 - 0.1, bar.get_height() + 1, f'{bar.get_height():.1f}%', ha='center')\n",
    "\n",
    "#plt.title('Distribution of Prompt - PR')\n",
    "plt.xlabel('Number of Turns')\n",
    "plt.ylabel('Percentage of Total Conversations(%)')\n",
    "plt.xticks(rotation=0)\n",
    "\n",
    "# Show the plot\n",
    "plt.show()"
   ]
  },
  {
   "cell_type": "code",
   "execution_count": 17,
   "id": "808ea1fa",
   "metadata": {},
   "outputs": [
    {
     "data": {
      "text/plain": [
       "count    220.000000\n",
       "mean       2.481818\n",
       "std        4.023292\n",
       "min        1.000000\n",
       "25%        1.000000\n",
       "50%        1.000000\n",
       "80%        3.000000\n",
       "90%        5.000000\n",
       "95%        7.000000\n",
       "96%        8.000000\n",
       "97%       10.720000\n",
       "98%       17.860000\n",
       "max       33.000000\n",
       "Name: 0, dtype: float64"
      ]
     },
     "execution_count": 17,
     "metadata": {},
     "output_type": "execute_result"
    }
   ],
   "source": [
    "df_size[0].describe(percentiles=[0.25,0.5,0.80, 0.90, 0.95, 0.96, 0.97, 0.98])"
   ]
  },
  {
   "cell_type": "code",
   "execution_count": 18,
   "id": "0c8b3a92",
   "metadata": {},
   "outputs": [
    {
     "name": "stdout",
     "output_type": "stream",
     "text": [
      "212\n"
     ]
    }
   ],
   "source": [
    "#RQ1 data\n",
    "filtered_groups = [group for name, group in dropped_duplicates_df_langfiltered.groupby(\"chat_id\") if len(group) >= 1 and len(group) <= 8]\n",
    "\n",
    "print(len(filtered_groups))   "
   ]
  },
  {
   "cell_type": "code",
   "execution_count": 19,
   "id": "094a370a",
   "metadata": {},
   "outputs": [
    {
     "data": {
      "text/plain": [
       "212"
      ]
     },
     "execution_count": 19,
     "metadata": {},
     "output_type": "execute_result"
    }
   ],
   "source": [
    "first_prompts=pd.DataFrame()\n",
    "for group in filtered_groups:\n",
    "        first_prompt = group[group[\"round_id\"] == 0]\n",
    "        first_prompts = pd.concat([first_prompts, first_prompt])\n",
    "len(first_prompts)"
   ]
  },
  {
   "cell_type": "code",
   "execution_count": 20,
   "id": "a9eed0a2",
   "metadata": {},
   "outputs": [
    {
     "data": {
      "text/html": [
       "<div>\n",
       "<style scoped>\n",
       "    .dataframe tbody tr th:only-of-type {\n",
       "        vertical-align: middle;\n",
       "    }\n",
       "\n",
       "    .dataframe tbody tr th {\n",
       "        vertical-align: top;\n",
       "    }\n",
       "\n",
       "    .dataframe thead th {\n",
       "        text-align: right;\n",
       "    }\n",
       "</style>\n",
       "<table border=\"1\" class=\"dataframe\">\n",
       "  <thead>\n",
       "    <tr style=\"text-align: right;\">\n",
       "      <th></th>\n",
       "      <th>chat_id</th>\n",
       "      <th>round_id</th>\n",
       "      <th>prompt</th>\n",
       "      <th>answer</th>\n",
       "      <th>Mentioned_URL</th>\n",
       "    </tr>\n",
       "  </thead>\n",
       "  <tbody>\n",
       "    <tr>\n",
       "      <th>2</th>\n",
       "      <td>2</td>\n",
       "      <td>0</td>\n",
       "      <td>Explain the difference between imperative and ...</td>\n",
       "      <td>ChatGPTCertainly! Imperative and declarative p...</td>\n",
       "      <td>https://github.com/magnifiq/js-practice-ventio...</td>\n",
       "    </tr>\n",
       "    <tr>\n",
       "      <th>3</th>\n",
       "      <td>3</td>\n",
       "      <td>0</td>\n",
       "      <td>I have this code:\\n\\nconst characterMap: Chara...</td>\n",
       "      <td>ChatGPTThis issue arises because object proper...</td>\n",
       "      <td>https://github.com/FlorianWoelki/obsidian-symb...</td>\n",
       "    </tr>\n",
       "    <tr>\n",
       "      <th>4</th>\n",
       "      <td>4</td>\n",
       "      <td>0</td>\n",
       "      <td>Hello ChatGPT, do you know if an empty string ...</td>\n",
       "      <td>ChatGPTYes, an empty string is a valid Base64-...</td>\n",
       "      <td>https://github.com/asaskevich/govalidator/pull...</td>\n",
       "    </tr>\n",
       "    <tr>\n",
       "      <th>5</th>\n",
       "      <td>5</td>\n",
       "      <td>0</td>\n",
       "      <td>lets say I have a some pydantic code like \\n\\n...</td>\n",
       "      <td>ChatGPTYes, if a system allows users to specif...</td>\n",
       "      <td>https://github.com/rom-py/rompy/pull/40#issuec...</td>\n",
       "    </tr>\n",
       "    <tr>\n",
       "      <th>6</th>\n",
       "      <td>6</td>\n",
       "      <td>0</td>\n",
       "      <td>Can you interpret this SVG path syntax? &lt;path ...</td>\n",
       "      <td>ChatGPTCertainly. The SVG (Scalable Vector Gra...</td>\n",
       "      <td>https://github.com/whatwg/whatwg.org/pull/427#...</td>\n",
       "    </tr>\n",
       "  </tbody>\n",
       "</table>\n",
       "</div>"
      ],
      "text/plain": [
       "   chat_id  round_id                                             prompt  \\\n",
       "2        2         0  Explain the difference between imperative and ...   \n",
       "3        3         0  I have this code:\\n\\nconst characterMap: Chara...   \n",
       "4        4         0  Hello ChatGPT, do you know if an empty string ...   \n",
       "5        5         0  lets say I have a some pydantic code like \\n\\n...   \n",
       "6        6         0  Can you interpret this SVG path syntax? <path ...   \n",
       "\n",
       "                                              answer  \\\n",
       "2  ChatGPTCertainly! Imperative and declarative p...   \n",
       "3  ChatGPTThis issue arises because object proper...   \n",
       "4  ChatGPTYes, an empty string is a valid Base64-...   \n",
       "5  ChatGPTYes, if a system allows users to specif...   \n",
       "6  ChatGPTCertainly. The SVG (Scalable Vector Gra...   \n",
       "\n",
       "                                       Mentioned_URL  \n",
       "2  https://github.com/magnifiq/js-practice-ventio...  \n",
       "3  https://github.com/FlorianWoelki/obsidian-symb...  \n",
       "4  https://github.com/asaskevich/govalidator/pull...  \n",
       "5  https://github.com/rom-py/rompy/pull/40#issuec...  \n",
       "6  https://github.com/whatwg/whatwg.org/pull/427#...  "
      ]
     },
     "execution_count": 20,
     "metadata": {},
     "output_type": "execute_result"
    }
   ],
   "source": [
    "first_prompts.head()"
   ]
  },
  {
   "cell_type": "code",
   "execution_count": 21,
   "id": "3b523257",
   "metadata": {},
   "outputs": [
    {
     "data": {
      "text/html": [
       "<div>\n",
       "<style scoped>\n",
       "    .dataframe tbody tr th:only-of-type {\n",
       "        vertical-align: middle;\n",
       "    }\n",
       "\n",
       "    .dataframe tbody tr th {\n",
       "        vertical-align: top;\n",
       "    }\n",
       "\n",
       "    .dataframe thead th {\n",
       "        text-align: right;\n",
       "    }\n",
       "</style>\n",
       "<table border=\"1\" class=\"dataframe\">\n",
       "  <thead>\n",
       "    <tr style=\"text-align: right;\">\n",
       "      <th></th>\n",
       "      <th>chat_id</th>\n",
       "      <th>round_id</th>\n",
       "      <th>prompt</th>\n",
       "      <th>answer</th>\n",
       "    </tr>\n",
       "  </thead>\n",
       "  <tbody>\n",
       "    <tr>\n",
       "      <th>2</th>\n",
       "      <td>2</td>\n",
       "      <td>0</td>\n",
       "      <td>Explain the difference between imperative and ...</td>\n",
       "      <td>ChatGPTCertainly! Imperative and declarative p...</td>\n",
       "    </tr>\n",
       "    <tr>\n",
       "      <th>3</th>\n",
       "      <td>3</td>\n",
       "      <td>0</td>\n",
       "      <td>I have this code:\\n\\nconst characterMap: Chara...</td>\n",
       "      <td>ChatGPTThis issue arises because object proper...</td>\n",
       "    </tr>\n",
       "    <tr>\n",
       "      <th>4</th>\n",
       "      <td>4</td>\n",
       "      <td>0</td>\n",
       "      <td>Hello ChatGPT, do you know if an empty string ...</td>\n",
       "      <td>ChatGPTYes, an empty string is a valid Base64-...</td>\n",
       "    </tr>\n",
       "    <tr>\n",
       "      <th>5</th>\n",
       "      <td>5</td>\n",
       "      <td>0</td>\n",
       "      <td>lets say I have a some pydantic code like \\n\\n...</td>\n",
       "      <td>ChatGPTYes, if a system allows users to specif...</td>\n",
       "    </tr>\n",
       "    <tr>\n",
       "      <th>6</th>\n",
       "      <td>6</td>\n",
       "      <td>0</td>\n",
       "      <td>Can you interpret this SVG path syntax? &lt;path ...</td>\n",
       "      <td>ChatGPTCertainly. The SVG (Scalable Vector Gra...</td>\n",
       "    </tr>\n",
       "  </tbody>\n",
       "</table>\n",
       "</div>"
      ],
      "text/plain": [
       "   chat_id  round_id                                             prompt  \\\n",
       "2        2         0  Explain the difference between imperative and ...   \n",
       "3        3         0  I have this code:\\n\\nconst characterMap: Chara...   \n",
       "4        4         0  Hello ChatGPT, do you know if an empty string ...   \n",
       "5        5         0  lets say I have a some pydantic code like \\n\\n...   \n",
       "6        6         0  Can you interpret this SVG path syntax? <path ...   \n",
       "\n",
       "                                              answer  \n",
       "2  ChatGPTCertainly! Imperative and declarative p...  \n",
       "3  ChatGPTThis issue arises because object proper...  \n",
       "4  ChatGPTYes, an empty string is a valid Base64-...  \n",
       "5  ChatGPTYes, if a system allows users to specif...  \n",
       "6  ChatGPTCertainly. The SVG (Scalable Vector Gra...  "
      ]
     },
     "execution_count": 21,
     "metadata": {},
     "output_type": "execute_result"
    }
   ],
   "source": [
    "first_prompts_rq1 = first_prompts[['chat_id','round_id','prompt','answer']]\n",
    "first_prompts_rq1.head()"
   ]
  },
  {
   "cell_type": "code",
   "execution_count": 22,
   "id": "869e7cf2",
   "metadata": {},
   "outputs": [],
   "source": [
    "first_prompts_rq1.to_excel(\"rq1_data_pr.xlsx\", index=False)\n",
    "#first_prompts_rq1.to_csv(\"rq1_data_pr.xlsx\", index=False)"
   ]
  },
  {
   "cell_type": "code",
   "execution_count": 23,
   "id": "25b0730d",
   "metadata": {},
   "outputs": [
    {
     "data": {
      "text/plain": [
       "65"
      ]
     },
     "execution_count": 23,
     "metadata": {},
     "output_type": "execute_result"
    }
   ],
   "source": [
    "#RQ2 data\n",
    "multiturn = [group for name, group in dropped_duplicates_df_langfiltered.groupby(\"chat_id\") if len(group) >= 2 and len(group) <= 8]\n",
    "len(multiturn)"
   ]
  },
  {
   "cell_type": "code",
   "execution_count": 24,
   "id": "8bbb0909",
   "metadata": {},
   "outputs": [
    {
     "data": {
      "text/plain": [
       "238"
      ]
     },
     "execution_count": 24,
     "metadata": {},
     "output_type": "execute_result"
    }
   ],
   "source": [
    "df_multiturn = pd.concat(multiturn)\n",
    "len(df_multiturn)"
   ]
  },
  {
   "cell_type": "code",
   "execution_count": 25,
   "id": "ab176ded",
   "metadata": {},
   "outputs": [],
   "source": [
    "df_multiturn.to_excel(\"rq2_data_pr.xlsx\", index=False)\n",
    "#df_multiturn.to_csv(\"rq1_data_pr.xlsx\", index=False)"
   ]
  },
  {
   "cell_type": "code",
   "execution_count": 37,
   "id": "c3a7d868",
   "metadata": {},
   "outputs": [
    {
     "data": {
      "text/html": [
       "<div>\n",
       "<style scoped>\n",
       "    .dataframe tbody tr th:only-of-type {\n",
       "        vertical-align: middle;\n",
       "    }\n",
       "\n",
       "    .dataframe tbody tr th {\n",
       "        vertical-align: top;\n",
       "    }\n",
       "\n",
       "    .dataframe thead th {\n",
       "        text-align: right;\n",
       "    }\n",
       "</style>\n",
       "<table border=\"1\" class=\"dataframe\">\n",
       "  <thead>\n",
       "    <tr style=\"text-align: right;\">\n",
       "      <th></th>\n",
       "      <th>chat_id</th>\n",
       "      <th>Category</th>\n",
       "      <th>prompt</th>\n",
       "      <th>answer</th>\n",
       "      <th>type</th>\n",
       "    </tr>\n",
       "  </thead>\n",
       "  <tbody>\n",
       "    <tr>\n",
       "      <th>0</th>\n",
       "      <td>264</td>\n",
       "      <td>Conceptual</td>\n",
       "      <td>Why can’t I validate a self signed http tls ce...</td>\n",
       "      <td>ChatGPTWhen you have two servers isolated from...</td>\n",
       "      <td>pr</td>\n",
       "    </tr>\n",
       "    <tr>\n",
       "      <th>1</th>\n",
       "      <td>80</td>\n",
       "      <td>Review</td>\n",
       "      <td>\\n# TODO: Some issues with the parameters imho...</td>\n",
       "      <td>ChatGPTThe TODO suggests that there's a proble...</td>\n",
       "      <td>pr</td>\n",
       "    </tr>\n",
       "    <tr>\n",
       "      <th>2</th>\n",
       "      <td>207</td>\n",
       "      <td>Conceptual</td>\n",
       "      <td>is it bad practice to use v-html in vue?</td>\n",
       "      <td>ChatGPTUsing v-html in Vue.js to insert raw HT...</td>\n",
       "      <td>pr</td>\n",
       "    </tr>\n",
       "    <tr>\n",
       "      <th>3</th>\n",
       "      <td>21</td>\n",
       "      <td>Conceptual</td>\n",
       "      <td>Generally speaking, how would you order the pr...</td>\n",
       "      <td>ChatGPTIn many software systems, there are mul...</td>\n",
       "      <td>pr</td>\n",
       "    </tr>\n",
       "    <tr>\n",
       "      <th>4</th>\n",
       "      <td>242</td>\n",
       "      <td>Conceptual</td>\n",
       "      <td>what's the difference between openapi oneOf vs...</td>\n",
       "      <td>ChatGPTIn OpenAPI, oneOf and anyOf are JSON Sc...</td>\n",
       "      <td>pr</td>\n",
       "    </tr>\n",
       "    <tr>\n",
       "      <th>...</th>\n",
       "      <td>...</td>\n",
       "      <td>...</td>\n",
       "      <td>...</td>\n",
       "      <td>...</td>\n",
       "      <td>...</td>\n",
       "    </tr>\n",
       "    <tr>\n",
       "      <th>205</th>\n",
       "      <td>35</td>\n",
       "      <td>Human language translation</td>\n",
       "      <td>convert to arabic\\n&lt;string name=\"dictionaries\"...</td>\n",
       "      <td>ChatGPTHere is the Arabic translation of the g...</td>\n",
       "      <td>pr</td>\n",
       "    </tr>\n",
       "    <tr>\n",
       "      <th>206</th>\n",
       "      <td>197</td>\n",
       "      <td>Code generation</td>\n",
       "      <td>laravel redirect with flush message</td>\n",
       "      <td>ChatGPTTo redirect a user to a new page in Lar...</td>\n",
       "      <td>pr</td>\n",
       "    </tr>\n",
       "    <tr>\n",
       "      <th>207</th>\n",
       "      <td>199</td>\n",
       "      <td>Issue resolving</td>\n",
       "      <td>I like how I get some of localStorage rendered...</td>\n",
       "      <td>ChatGPTGiven the current architecture of the a...</td>\n",
       "      <td>pr</td>\n",
       "    </tr>\n",
       "    <tr>\n",
       "      <th>208</th>\n",
       "      <td>237</td>\n",
       "      <td>How-to</td>\n",
       "      <td>How to program a GitHub bot that reacts to \"/f...</td>\n",
       "      <td>ChatGPTTo program a GitHub bot that reacts to ...</td>\n",
       "      <td>pr</td>\n",
       "    </tr>\n",
       "    <tr>\n",
       "      <th>209</th>\n",
       "      <td>239</td>\n",
       "      <td>Others</td>\n",
       "      <td>I'm attempting to use 2.1.2 Camera with Distor...</td>\n",
       "      <td>ChatGPTUsed unknown pluginThe page you've link...</td>\n",
       "      <td>pr</td>\n",
       "    </tr>\n",
       "  </tbody>\n",
       "</table>\n",
       "<p>210 rows × 5 columns</p>\n",
       "</div>"
      ],
      "text/plain": [
       "     chat_id                    Category  \\\n",
       "0        264                  Conceptual   \n",
       "1         80                      Review   \n",
       "2        207                  Conceptual   \n",
       "3         21                  Conceptual   \n",
       "4        242                  Conceptual   \n",
       "..       ...                         ...   \n",
       "205       35  Human language translation   \n",
       "206      197             Code generation   \n",
       "207      199             Issue resolving   \n",
       "208      237                      How-to   \n",
       "209      239                      Others   \n",
       "\n",
       "                                                prompt  \\\n",
       "0    Why can’t I validate a self signed http tls ce...   \n",
       "1    \\n# TODO: Some issues with the parameters imho...   \n",
       "2             is it bad practice to use v-html in vue?   \n",
       "3    Generally speaking, how would you order the pr...   \n",
       "4    what's the difference between openapi oneOf vs...   \n",
       "..                                                 ...   \n",
       "205  convert to arabic\\n<string name=\"dictionaries\"...   \n",
       "206                laravel redirect with flush message   \n",
       "207  I like how I get some of localStorage rendered...   \n",
       "208  How to program a GitHub bot that reacts to \"/f...   \n",
       "209  I'm attempting to use 2.1.2 Camera with Distor...   \n",
       "\n",
       "                                                answer type  \n",
       "0    ChatGPTWhen you have two servers isolated from...   pr  \n",
       "1    ChatGPTThe TODO suggests that there's a proble...   pr  \n",
       "2    ChatGPTUsing v-html in Vue.js to insert raw HT...   pr  \n",
       "3    ChatGPTIn many software systems, there are mul...   pr  \n",
       "4    ChatGPTIn OpenAPI, oneOf and anyOf are JSON Sc...   pr  \n",
       "..                                                 ...  ...  \n",
       "205  ChatGPTHere is the Arabic translation of the g...   pr  \n",
       "206  ChatGPTTo redirect a user to a new page in Lar...   pr  \n",
       "207  ChatGPTGiven the current architecture of the a...   pr  \n",
       "208  ChatGPTTo program a GitHub bot that reacts to ...   pr  \n",
       "209  ChatGPTUsed unknown pluginThe page you've link...   pr  \n",
       "\n",
       "[210 rows x 5 columns]"
      ]
     },
     "execution_count": 37,
     "metadata": {},
     "output_type": "execute_result"
    }
   ],
   "source": [
    "#RQ3 data\n",
    "df_rq1_pr = pd.read_excel('rq1_data_pr.xlsx')\n",
    "df_rq1_pr"
   ]
  },
  {
   "cell_type": "code",
   "execution_count": 38,
   "id": "4ec2ffec",
   "metadata": {},
   "outputs": [
    {
     "data": {
      "text/html": [
       "<div>\n",
       "<style scoped>\n",
       "    .dataframe tbody tr th:only-of-type {\n",
       "        vertical-align: middle;\n",
       "    }\n",
       "\n",
       "    .dataframe tbody tr th {\n",
       "        vertical-align: top;\n",
       "    }\n",
       "\n",
       "    .dataframe thead th {\n",
       "        text-align: right;\n",
       "    }\n",
       "</style>\n",
       "<table border=\"1\" class=\"dataframe\">\n",
       "  <thead>\n",
       "    <tr style=\"text-align: right;\">\n",
       "      <th></th>\n",
       "      <th>chat_id</th>\n",
       "      <th>Category</th>\n",
       "      <th>prompt</th>\n",
       "      <th>answer</th>\n",
       "      <th>type</th>\n",
       "      <th>Mentioned_URL</th>\n",
       "    </tr>\n",
       "  </thead>\n",
       "  <tbody>\n",
       "    <tr>\n",
       "      <th>0</th>\n",
       "      <td>264</td>\n",
       "      <td>Conceptual</td>\n",
       "      <td>Why can’t I validate a self signed http tls ce...</td>\n",
       "      <td>ChatGPTWhen you have two servers isolated from...</td>\n",
       "      <td>pr</td>\n",
       "      <td>https://github.com/nickbabcock/OhmGraphite/pul...</td>\n",
       "    </tr>\n",
       "    <tr>\n",
       "      <th>1</th>\n",
       "      <td>80</td>\n",
       "      <td>Review</td>\n",
       "      <td>\\n# TODO: Some issues with the parameters imho...</td>\n",
       "      <td>ChatGPTThe TODO suggests that there's a proble...</td>\n",
       "      <td>pr</td>\n",
       "      <td>https://github.com/bancaditalia/black-it/pull/...</td>\n",
       "    </tr>\n",
       "    <tr>\n",
       "      <th>2</th>\n",
       "      <td>207</td>\n",
       "      <td>Conceptual</td>\n",
       "      <td>is it bad practice to use v-html in vue?</td>\n",
       "      <td>ChatGPTUsing v-html in Vue.js to insert raw HT...</td>\n",
       "      <td>pr</td>\n",
       "      <td>https://github.com/telosnetwork/open-block-exp...</td>\n",
       "    </tr>\n",
       "    <tr>\n",
       "      <th>3</th>\n",
       "      <td>21</td>\n",
       "      <td>Conceptual</td>\n",
       "      <td>Generally speaking, how would you order the pr...</td>\n",
       "      <td>ChatGPTIn many software systems, there are mul...</td>\n",
       "      <td>pr</td>\n",
       "      <td>https://github.com/NixOS/nix/pull/8902</td>\n",
       "    </tr>\n",
       "    <tr>\n",
       "      <th>4</th>\n",
       "      <td>242</td>\n",
       "      <td>Conceptual</td>\n",
       "      <td>what's the difference between openapi oneOf vs...</td>\n",
       "      <td>ChatGPTIn OpenAPI, oneOf and anyOf are JSON Sc...</td>\n",
       "      <td>pr</td>\n",
       "      <td>https://github.com/astahmer/openapi-zod-client...</td>\n",
       "    </tr>\n",
       "    <tr>\n",
       "      <th>...</th>\n",
       "      <td>...</td>\n",
       "      <td>...</td>\n",
       "      <td>...</td>\n",
       "      <td>...</td>\n",
       "      <td>...</td>\n",
       "      <td>...</td>\n",
       "    </tr>\n",
       "    <tr>\n",
       "      <th>205</th>\n",
       "      <td>35</td>\n",
       "      <td>Human language translation</td>\n",
       "      <td>convert to arabic\\n&lt;string name=\"dictionaries\"...</td>\n",
       "      <td>ChatGPTHere is the Arabic translation of the g...</td>\n",
       "      <td>pr</td>\n",
       "      <td>https://github.com/open-learning-exchange/mypl...</td>\n",
       "    </tr>\n",
       "    <tr>\n",
       "      <th>206</th>\n",
       "      <td>197</td>\n",
       "      <td>Code generation</td>\n",
       "      <td>laravel redirect with flush message</td>\n",
       "      <td>ChatGPTTo redirect a user to a new page in Lar...</td>\n",
       "      <td>pr</td>\n",
       "      <td>https://github.com/Ayahiro-Inatsugu/ph3-websit...</td>\n",
       "    </tr>\n",
       "    <tr>\n",
       "      <th>207</th>\n",
       "      <td>199</td>\n",
       "      <td>Issue resolving</td>\n",
       "      <td>I like how I get some of localStorage rendered...</td>\n",
       "      <td>ChatGPTGiven the current architecture of the a...</td>\n",
       "      <td>pr</td>\n",
       "      <td>https://github.com/hoshotakamoto/banzukesurfin...</td>\n",
       "    </tr>\n",
       "    <tr>\n",
       "      <th>208</th>\n",
       "      <td>237</td>\n",
       "      <td>How-to</td>\n",
       "      <td>How to program a GitHub bot that reacts to \"/f...</td>\n",
       "      <td>ChatGPTTo program a GitHub bot that reacts to ...</td>\n",
       "      <td>pr</td>\n",
       "      <td>https://github.com/mdn/content/pull/27070#issu...</td>\n",
       "    </tr>\n",
       "    <tr>\n",
       "      <th>209</th>\n",
       "      <td>239</td>\n",
       "      <td>Others</td>\n",
       "      <td>I'm attempting to use 2.1.2 Camera with Distor...</td>\n",
       "      <td>ChatGPTUsed unknown pluginThe page you've link...</td>\n",
       "      <td>pr</td>\n",
       "      <td>https://github.com/Theta-Limited/OpenAthenaAnd...</td>\n",
       "    </tr>\n",
       "  </tbody>\n",
       "</table>\n",
       "<p>210 rows × 6 columns</p>\n",
       "</div>"
      ],
      "text/plain": [
       "     chat_id                    Category  \\\n",
       "0        264                  Conceptual   \n",
       "1         80                      Review   \n",
       "2        207                  Conceptual   \n",
       "3         21                  Conceptual   \n",
       "4        242                  Conceptual   \n",
       "..       ...                         ...   \n",
       "205       35  Human language translation   \n",
       "206      197             Code generation   \n",
       "207      199             Issue resolving   \n",
       "208      237                      How-to   \n",
       "209      239                      Others   \n",
       "\n",
       "                                                prompt  \\\n",
       "0    Why can’t I validate a self signed http tls ce...   \n",
       "1    \\n# TODO: Some issues with the parameters imho...   \n",
       "2             is it bad practice to use v-html in vue?   \n",
       "3    Generally speaking, how would you order the pr...   \n",
       "4    what's the difference between openapi oneOf vs...   \n",
       "..                                                 ...   \n",
       "205  convert to arabic\\n<string name=\"dictionaries\"...   \n",
       "206                laravel redirect with flush message   \n",
       "207  I like how I get some of localStorage rendered...   \n",
       "208  How to program a GitHub bot that reacts to \"/f...   \n",
       "209  I'm attempting to use 2.1.2 Camera with Distor...   \n",
       "\n",
       "                                                answer type  \\\n",
       "0    ChatGPTWhen you have two servers isolated from...   pr   \n",
       "1    ChatGPTThe TODO suggests that there's a proble...   pr   \n",
       "2    ChatGPTUsing v-html in Vue.js to insert raw HT...   pr   \n",
       "3    ChatGPTIn many software systems, there are mul...   pr   \n",
       "4    ChatGPTIn OpenAPI, oneOf and anyOf are JSON Sc...   pr   \n",
       "..                                                 ...  ...   \n",
       "205  ChatGPTHere is the Arabic translation of the g...   pr   \n",
       "206  ChatGPTTo redirect a user to a new page in Lar...   pr   \n",
       "207  ChatGPTGiven the current architecture of the a...   pr   \n",
       "208  ChatGPTTo program a GitHub bot that reacts to ...   pr   \n",
       "209  ChatGPTUsed unknown pluginThe page you've link...   pr   \n",
       "\n",
       "                                         Mentioned_URL  \n",
       "0    https://github.com/nickbabcock/OhmGraphite/pul...  \n",
       "1    https://github.com/bancaditalia/black-it/pull/...  \n",
       "2    https://github.com/telosnetwork/open-block-exp...  \n",
       "3               https://github.com/NixOS/nix/pull/8902  \n",
       "4    https://github.com/astahmer/openapi-zod-client...  \n",
       "..                                                 ...  \n",
       "205  https://github.com/open-learning-exchange/mypl...  \n",
       "206  https://github.com/Ayahiro-Inatsugu/ph3-websit...  \n",
       "207  https://github.com/hoshotakamoto/banzukesurfin...  \n",
       "208  https://github.com/mdn/content/pull/27070#issu...  \n",
       "209  https://github.com/Theta-Limited/OpenAthenaAnd...  \n",
       "\n",
       "[210 rows x 6 columns]"
      ]
     },
     "execution_count": 38,
     "metadata": {},
     "output_type": "execute_result"
    }
   ],
   "source": [
    "df_rq1_pr['Mentioned_URL'] = ''\n",
    "for index, row in df_rq1_pr.iterrows():\n",
    "    chat_id = row['chat_id']\n",
    "    matching_url = first_prompts.loc[first_prompts['chat_id'] == chat_id, 'Mentioned_URL']\n",
    "    df_rq1_pr.at[index, 'Mentioned_URL'] = matching_url.iloc[0]\n",
    "    \n",
    "df_rq1_pr"
   ]
  },
  {
   "cell_type": "code",
   "execution_count": 35,
   "id": "8aad8dd6",
   "metadata": {},
   "outputs": [
    {
     "data": {
      "text/plain": [
       "210"
      ]
     },
     "execution_count": 35,
     "metadata": {},
     "output_type": "execute_result"
    }
   ],
   "source": [
    "len(df_rq1_pr['Mentioned_URL'])"
   ]
  },
  {
   "cell_type": "code",
   "execution_count": 54,
   "id": "6f5d516a",
   "metadata": {},
   "outputs": [
    {
     "data": {
      "text/plain": [
       "210"
      ]
     },
     "execution_count": 54,
     "metadata": {},
     "output_type": "execute_result"
    }
   ],
   "source": [
    "from sklearn.model_selection import train_test_split\n",
    "pr_sample = df_rq1_pr.groupby('Category', group_keys=False).apply(lambda x: x.sample(min(len(x), 100)))\n",
    "len(pr_sample)"
   ]
  },
  {
   "cell_type": "code",
   "execution_count": 55,
   "id": "77fb54dc",
   "metadata": {},
   "outputs": [],
   "source": [
    "pr_class_proportions = df_rq1_pr['Category'].value_counts(normalize=True)\n",
    "\n",
    "num_samples_pr = 99\n",
    "\n",
    "pr_sampled = pd.DataFrame()"
   ]
  },
  {
   "cell_type": "code",
   "execution_count": 56,
   "id": "97f72bca",
   "metadata": {},
   "outputs": [
    {
     "name": "stdout",
     "output_type": "stream",
     "text": [
      "90\n"
     ]
    }
   ],
   "source": [
    "for label, proportion in pr_class_proportions.items():\n",
    "    # Calculate the number of samples for this class\n",
    "    num_samples = int(num_samples_pr * proportion)\n",
    "    \n",
    "    # Sample from the original dataset\n",
    "    samples = df_rq1_pr[df_rq1_pr['Category'] == label].sample(n=num_samples, random_state=42)\n",
    "    \n",
    "    # Append to the sampled dataset\n",
    "    pr_sampled = pd.concat([pr_sampled, samples])\n",
    "    \n",
    "print(len(pr_sampled))"
   ]
  },
  {
   "cell_type": "code",
   "execution_count": 57,
   "id": "e56961a7",
   "metadata": {},
   "outputs": [],
   "source": [
    "pr_sample_file_path = 'rq3_pr_sample.xlsx'\n",
    "\n",
    "pr_sampled.to_excel(pr_sample_file_path, index=False)"
   ]
  },
  {
   "cell_type": "code",
   "execution_count": null,
   "id": "10f5dcfe",
   "metadata": {},
   "outputs": [],
   "source": []
  }
 ],
 "metadata": {
  "kernelspec": {
   "display_name": "Python [conda env:pythonenv]",
   "language": "python",
   "name": "conda-env-pythonenv-py"
  },
  "language_info": {
   "codemirror_mode": {
    "name": "ipython",
    "version": 3
   },
   "file_extension": ".py",
   "mimetype": "text/x-python",
   "name": "python",
   "nbconvert_exporter": "python",
   "pygments_lexer": "ipython3",
   "version": "3.10.13"
  }
 },
 "nbformat": 4,
 "nbformat_minor": 5
}
